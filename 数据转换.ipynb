{
 "cells": [
  {
   "cell_type": "markdown",
   "metadata": {},
   "source": [
    "# 数据提取与转换"
   ]
  },
  {
   "cell_type": "markdown",
   "metadata": {},
   "source": [
    "#### fieldID文件"
   ]
  },
  {
   "cell_type": "code",
   "execution_count": 2,
   "metadata": {},
   "outputs": [
    {
     "name": "stdout",
     "output_type": "stream",
     "text": [
      "13840\n"
     ]
    }
   ],
   "source": [
    "import numpy as np\n",
    "import pandas as pd\n",
    "#读取数据fileID数据,并转为list数据类型\n",
    "read_data = pd.read_csv(r\"C:\\Users\\acer\\Desktop\\fieldID_data.txt\",names = ['a','b'])\n",
    "data_DataFrame = pd.DataFrame(read_data)\n",
    "fieldid_list = np.array(data_DataFrame[\"b\"]).tolist()\n",
    "#查看数据长度\n",
    "print(len(fieldid_list))"
   ]
  },
  {
   "cell_type": "code",
   "execution_count": 3,
   "metadata": {
    "scrolled": true
   },
   "outputs": [
    {
     "name": "stdout",
     "output_type": "stream",
     "text": [
      "2710 2710\n"
     ]
    }
   ],
   "source": [
    "#提取fieldID中的纯数字fieldID,并去重\n",
    "uk_fieldid = []\n",
    "for i in fieldid_list:\n",
    "    uk_fieldid.append(i.split(\".\")[0][1:])\n",
    "c = set(uk_fieldid)\n",
    "fileid = pd.DataFrame(c,columns = [\"a\"])\n",
    "#查看数据长度\n",
    "print(len(c),len(fileid))"
   ]
  },
  {
   "cell_type": "markdown",
   "metadata": {},
   "source": [
    "#### GitHub-file文件数据"
   ]
  },
  {
   "cell_type": "code",
   "execution_count": 4,
   "metadata": {},
   "outputs": [],
   "source": [
    "#读取github-ukbiobank-.txt数据,并转为DataFrame\n",
    "file_github = pd.read_csv(r\"C:\\Users\\acer\\Desktop\\UK_github_data.csv\",names=[\"a\",\"b\",\"c\",\"d\",\"e\",\"f\",\"g\",\"h\",\"i\",\"j\"])\n",
    "file = pd.DataFrame(file_github)"
   ]
  },
  {
   "cell_type": "markdown",
   "metadata": {},
   "source": [
    "### 按fieldID合并提取数据并输出"
   ]
  },
  {
   "cell_type": "code",
   "execution_count": 7,
   "metadata": {},
   "outputs": [],
   "source": [
    "result = pd.merge(fileid,file,on=[\"a\"])\n",
    "result.to_csv(r\"C:\\Users\\acer\\Desktop\\result.csv\", encoding = 'utf-8', index = False)"
   ]
  },
  {
   "cell_type": "markdown",
   "metadata": {},
   "source": [
    "### 单独提取目录中的trait并添加在文件中"
   ]
  },
  {
   "cell_type": "code",
   "execution_count": 8,
   "metadata": {},
   "outputs": [],
   "source": [
    "data = pd.read_csv(r\"C:\\Users\\acer\\Desktop\\result.csv\")\n",
    "a = pd.DataFrame(data)\n",
    "a[\"Trait\"] = a[\"g\"].apply(lambda x:x.split(\">\")[-1])\n",
    "a.to_csv(r\"C:\\Users\\acer\\Desktop\\result-1.csv\", encoding = 'utf-8', index = False)"
   ]
  },
  {
   "cell_type": "code",
   "execution_count": 12,
   "metadata": {},
   "outputs": [
    {
     "data": {
      "text/html": [
       "<div>\n",
       "<style scoped>\n",
       "    .dataframe tbody tr th:only-of-type {\n",
       "        vertical-align: middle;\n",
       "    }\n",
       "\n",
       "    .dataframe tbody tr th {\n",
       "        vertical-align: top;\n",
       "    }\n",
       "\n",
       "    .dataframe thead th {\n",
       "        text-align: right;\n",
       "    }\n",
       "</style>\n",
       "<table border=\"1\" class=\"dataframe\">\n",
       "  <thead>\n",
       "    <tr style=\"text-align: right;\">\n",
       "      <th></th>\n",
       "      <th>a</th>\n",
       "    </tr>\n",
       "  </thead>\n",
       "  <tbody>\n",
       "    <tr>\n",
       "      <td>0</td>\n",
       "      <td>25022</td>\n",
       "    </tr>\n",
       "    <tr>\n",
       "      <td>1</td>\n",
       "      <td>25282</td>\n",
       "    </tr>\n",
       "    <tr>\n",
       "      <td>2</td>\n",
       "      <td>90094</td>\n",
       "    </tr>\n",
       "    <tr>\n",
       "      <td>3</td>\n",
       "      <td>20131</td>\n",
       "    </tr>\n",
       "    <tr>\n",
       "      <td>4</td>\n",
       "      <td>25231</td>\n",
       "    </tr>\n",
       "    <tr>\n",
       "      <td>...</td>\n",
       "      <td>...</td>\n",
       "    </tr>\n",
       "    <tr>\n",
       "      <td>2705</td>\n",
       "      <td>3090</td>\n",
       "    </tr>\n",
       "    <tr>\n",
       "      <td>2706</td>\n",
       "      <td>22631</td>\n",
       "    </tr>\n",
       "    <tr>\n",
       "      <td>2707</td>\n",
       "      <td>100005</td>\n",
       "    </tr>\n",
       "    <tr>\n",
       "      <td>2708</td>\n",
       "      <td>22150</td>\n",
       "    </tr>\n",
       "    <tr>\n",
       "      <td>2709</td>\n",
       "      <td>90164</td>\n",
       "    </tr>\n",
       "  </tbody>\n",
       "</table>\n",
       "<p>2710 rows × 1 columns</p>\n",
       "</div>"
      ],
      "text/plain": [
       "           a\n",
       "0      25022\n",
       "1      25282\n",
       "2      90094\n",
       "3      20131\n",
       "4      25231\n",
       "...      ...\n",
       "2705    3090\n",
       "2706   22631\n",
       "2707  100005\n",
       "2708   22150\n",
       "2709   90164\n",
       "\n",
       "[2710 rows x 1 columns]"
      ]
     },
     "execution_count": 12,
     "metadata": {},
     "output_type": "execute_result"
    }
   ],
   "source": [
    "fileid"
   ]
  },
  {
   "cell_type": "code",
   "execution_count": null,
   "metadata": {},
   "outputs": [],
   "source": []
  }
 ],
 "metadata": {
  "kernelspec": {
   "display_name": "Python 3",
   "language": "python",
   "name": "python3"
  },
  "language_info": {
   "codemirror_mode": {
    "name": "ipython",
    "version": 3
   },
   "file_extension": ".py",
   "mimetype": "text/x-python",
   "name": "python",
   "nbconvert_exporter": "python",
   "pygments_lexer": "ipython3",
   "version": "3.7.4"
  }
 },
 "nbformat": 4,
 "nbformat_minor": 2
}
