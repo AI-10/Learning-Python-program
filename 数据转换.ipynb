{
 "cells": [
  {
   "cell_type": "markdown",
   "metadata": {},
   "source": [
    "# 数据提取与转换"
   ]
  },
  {
   "cell_type": "markdown",
   "metadata": {},
   "source": [
    "#### fieldID文件"
   ]
  },
  {
   "cell_type": "code",
   "execution_count": 156,
   "metadata": {},
   "outputs": [
    {
     "name": "stdout",
     "output_type": "stream",
     "text": [
      "13840\n"
     ]
    }
   ],
   "source": [
    "import numpy as np\n",
    "import pandas as pd\n",
    "#读取数据fileID数据,并转为list数据类型\n",
    "read_data = pd.read_csv(r\"C:\\Users\\acer\\Desktop\\fieldID_data.txt\",names = ['a','b'])\n",
    "data_DataFrame = pd.DataFrame(read_data)\n",
    "fieldid_list = np.array(data_DataFrame[\"b\"]).tolist()\n",
    "#查看数据长度\n",
    "print(len(fieldid_list))"
   ]
  },
  {
   "cell_type": "code",
   "execution_count": 157,
   "metadata": {},
   "outputs": [
    {
     "name": "stdout",
     "output_type": "stream",
     "text": [
      "2710 2710\n"
     ]
    }
   ],
   "source": [
    "#提取fieldID中的纯数字fieldID,并去重\n",
    "uk_fieldid = []\n",
    "for i in fieldid_list:\n",
    "    uk_fieldid.append(i.split(\".\")[0][1:])\n",
    "c = set(uk_fieldid)\n",
    "fileid = pd.DataFrame(c,columns = [\"a\"])\n",
    "#查看数据长度\n",
    "print(len(c),len(fileid))"
   ]
  },
  {
   "cell_type": "markdown",
   "metadata": {},
   "source": [
    "#### GitHub-file文件数据"
   ]
  },
  {
   "cell_type": "code",
   "execution_count": 158,
   "metadata": {},
   "outputs": [],
   "source": [
    "#读取github-ukbiobank-.txt数据,并转为DataFrame\n",
    "file_github = pd.read_csv(r\"C:\\Users\\acer\\Desktop\\UK_github_data.csv\",names=[\"a\",\"b\",\"c\",\"d\",\"e\",\"f\",\"g\",\"h\",\"i\",\"j\"])\n",
    "file = pd.DataFrame(file_github)"
   ]
  },
  {
   "cell_type": "markdown",
   "metadata": {},
   "source": [
    "### 按fieldID合并提取数据并输出"
   ]
  },
  {
   "cell_type": "code",
   "execution_count": 159,
   "metadata": {},
   "outputs": [],
   "source": [
    "result = pd.merge(pd_fileid,file,on=[\"a\"])\n",
    "result.to_csv(r\"C:\\Users\\acer\\Desktop\\result.csv\", encoding = 'utf-8', index = False)"
   ]
  },
  {
   "cell_type": "markdown",
   "metadata": {},
   "source": [
    "### 单独提取目录中的trait并添加在文件中"
   ]
  },
  {
   "cell_type": "code",
   "execution_count": 160,
   "metadata": {},
   "outputs": [],
   "source": [
    "data = pd.read_csv(r\"C:\\Users\\acer\\Desktop\\result.csv\")\n",
    "a = pd.DataFrame(data)\n",
    "a[\"Trait\"] = a[\"g\"].apply(lambda x:x.split(\">\")[-1])\n",
    "a.to_csv(r\"C:\\Users\\acer\\Desktop\\result-1.csv\", encoding = 'utf-8', index = False)"
   ]
  },
  {
   "cell_type": "code",
   "execution_count": null,
   "metadata": {},
   "outputs": [],
   "source": []
  }
 ],
 "metadata": {
  "kernelspec": {
   "display_name": "Python 3",
   "language": "python",
   "name": "python3"
  },
  "language_info": {
   "codemirror_mode": {
    "name": "ipython",
    "version": 3
   },
   "file_extension": ".py",
   "mimetype": "text/x-python",
   "name": "python",
   "nbconvert_exporter": "python",
   "pygments_lexer": "ipython3",
   "version": "3.7.4"
  }
 },
 "nbformat": 4,
 "nbformat_minor": 2
}
