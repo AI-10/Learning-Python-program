{
 "cells": [
  {
   "cell_type": "markdown",
   "metadata": {},
   "source": [
    "### 一次读入，统一处理"
   ]
  },
  {
   "cell_type": "code",
   "execution_count": 3,
   "metadata": {},
   "outputs": [
    {
     "name": "stdout",
     "output_type": "stream",
     "text": [
      "markername\tchr\tbp_hg19\teffect_allele\tnoneffect_allele\teffect_allele_freq\tmedian_info\tmodel\tbeta\tse_dgc\tp_dgc\thet_pvalue\tn_studies\n",
      "rs143225517\t1\t751756\tC\tT\t.158264\t.92\tFIXED\t.013006\t.017324\t.4528019\t.303481\t35\n",
      "rs3094315\t1\t752566\tA\tG\t.763018\t1\tFIXED\t-.005243\t.0157652\t.7394597\t.146867\t36\n",
      "rs3131972\t1\t752721\tG\tA\t.740969\t.96034\tFIXED\t-.003032\t.0156381\t.8462652\t.340843\t36\n",
      "rs3131971\t1\t752894\tC\tT\t.744287\t.793\tFIXED\t.00464\t.0162377\t.7750657\t.035821\t37\n",
      "rs61770173\t1\t753405\tA\tC\t.775368\t.91694\tFIXED\t-.006291\t.016708\t.7065265\t.377485\t36\n",
      "rs2073814\t1\t753474\tG\tC\t.716742\t.8848\tFIXED\t.000407\t.0157456\t.9793782\t.472543\t35\n",
      "rs2073813\t1\t753541\tA\tG\t.194804\t.91034\tFIXED\t.005802\t.0167808\t.7295293\t.36886\t35\n",
      "rs3131969\t1\t754182\tG\tA\t.760434\t.92385\tFIXED\t-.006522\t.0165571\t.693647\t.321205\t34\n",
      "rs3131968\t1\t754192\tG\tA\t.759886\t.920915\tFIXED\t-.006791\t.0165668\t.6818679\t.306346\t34\n",
      "rs3131967\t1\t754334\tC\tT\t.747971\t.841665\tFIXED\t-.009343\t.0168482\t.5792088\t.015972\t34\n",
      "rs3115859\t1\t754503\tA\tG\t.742041\t.92128\tFIXED\t-.000146\t.0158271\t.99\n"
     ]
    }
   ],
   "source": [
    "f = open(r\"C:\\Users\\Administrator\\Desktop\\c.txt\",\"r\",encoding = \"utf-8\")\n",
    "x= f.read()\n",
    "print(x[:1000])\n",
    "#  文件操作\n",
    "f.close()"
   ]
  },
  {
   "cell_type": "markdown",
   "metadata": {},
   "source": [
    "### 计量读入，逐步处理"
   ]
  },
  {
   "cell_type": "code",
   "execution_count": 4,
   "metadata": {
    "scrolled": true
   },
   "outputs": [
    {
     "name": "stdout",
     "output_type": "stream",
     "text": [
      "目的 基于血常规数据构建骨髓增生异常综合征和急性髓样白血病的判别模型。方法 数据来源于山东多中心健康医疗大数据平台,共计1 681例。随机抽取70%患者为训练集,其他30%为测试集,应用随机森林模型对\n",
      "骨髓增生异常综合征与急性髓样白血病判别,采用受试者工作特征曲线下面积(AUC)衡量模型的辨别能力并使用十折交叉验证法检验模型的稳定性。结果 随机森林模型与支持向量机模型均具有鉴别MDS与AML的能力,但随机森林模型表现效果更好。结论 构建的随机森林模型在骨髓增\n",
      "生异常综合征和急性髓系白血病患者中具有较好的判别能力。 \n"
     ]
    }
   ],
   "source": [
    "f = open(r\"C:\\Users\\Administrator\\Desktop\\1.txt\",\"r\",encoding = \"utf-8\")\n",
    "x= f.read(100)\n",
    "while x != \"\": \n",
    "    #对txt进行处理\n",
    "    print(x)\n",
    "    x = f.read(130) \n",
    "f.close()"
   ]
  },
  {
   "cell_type": "markdown",
   "metadata": {},
   "source": [
    "### 一次读入，分行处理"
   ]
  },
  {
   "cell_type": "code",
   "execution_count": 6,
   "metadata": {},
   "outputs": [
    {
     "name": "stdout",
     "output_type": "stream",
     "text": [
      "目的 基于血常规数据构建骨髓增生异常综合征和急性髓样白血病的判别模型。\n",
      "\n",
      "方法 数据来源于山东多中心健康医疗大数据平台,共计1 681例。随机抽取70%患者为训练集,其他30%为测试集,应用随机森林模型对骨髓增生异常综合征与急性髓样白血病判别,采用受试者工作特征曲线下面积(AUC)衡量模型的辨别能力并使用十折交叉验证法检验模型的稳定性。\n",
      "\n",
      "结果 随机森林模型与支持向量机模型均具有鉴别MDS与AML的能力,但随机森林模型表现效果更好。\n",
      "\n",
      "结论 构建的随机森林模型在骨髓增生异常综合征和急性髓系白血病患者中具有较好的判别能力。 \n"
     ]
    }
   ],
   "source": [
    "f = open(r\"C:\\Users\\Administrator\\Desktop\\1.txt\",\"r\",encoding = \"utf-8\")\n",
    "x= f.readlines()\n",
    "for line in x: \n",
    "    #文件处理\n",
    "    print(line)\n",
    "f.close()"
   ]
  },
  {
   "cell_type": "markdown",
   "metadata": {},
   "source": [
    "### 分行读入，逐行处理"
   ]
  },
  {
   "cell_type": "code",
   "execution_count": 7,
   "metadata": {},
   "outputs": [
    {
     "name": "stdout",
     "output_type": "stream",
     "text": [
      "['目的 基于血常规数据构建骨髓增生异常综合征和急性髓样白血病的判别模型。\\n']\n",
      "['方法 数据来源于山东多中心健康医疗大数据平台,共计1 681例。随机抽取70%患者为训练集,其他30%为测试集,应用随机森林模型对骨髓增生异常综合征与急性髓样白血病判别,采用受试者工作特征曲线下面积(AUC)衡量模型的辨别能力并使用十折交叉验证法检验模型的稳定性。\\n']\n",
      "['结果 随机森林模型与支持向量机模型均具有鉴别MDS与AML的能力,但随机森林模型表现效果更好。\\n']\n",
      "['结论 构建的随机森林模型在骨髓增生异常综合征和急性髓系白血病患者中具有较好的判别能力。 ']\n"
     ]
    }
   ],
   "source": [
    "f = open(r\"C:\\Users\\Administrator\\Desktop\\1.txt\",\"r\",encoding = \"utf-8\")\n",
    "x= f.readlines(1)\n",
    "while x != []: \n",
    "    #文件操作\n",
    "    print(x)\n",
    "    x = f.readlines(1) \n",
    "f.close()"
   ]
  },
  {
   "cell_type": "code",
   "execution_count": 1,
   "metadata": {},
   "outputs": [
    {
     "name": "stdout",
     "output_type": "stream",
     "text": [
      "目的 基于血常规数据构建骨髓增生异常综合征和急性髓样白血病的判别模型。\n",
      "\n",
      "方法 数据来源于山东多中心健康医疗大数据平台,共计1 681例。随机抽取70%患者为训练集,其他30%为测试集,应用随机森林模型对骨髓增生异常综合征与急性髓样白血病判别,采用受试者工作特征曲线下面积(AUC)衡量模型的辨别能力并使用十折交叉验证法检验模型的稳定性。\n",
      "\n",
      "结果 随机森林模型与支持向量机模型均具有鉴别MDS与AML的能力,但随机森林模型表现效果更好。\n",
      "\n",
      "结论 构建的随机森林模型在骨髓增生异常综合征和急性髓系白血病患者中具有较好的判别能力。 \n"
     ]
    }
   ],
   "source": [
    "f = open(r\"C:\\Users\\Administrator\\Desktop\\1.txt\",\"r\",encoding = \"utf-8\")\n",
    "x= f.readline()\n",
    "while x != \"\": \n",
    "    #文件操作\n",
    "    print(x)\n",
    "    x = f.readline() \n",
    "f.close()"
   ]
  },
  {
   "cell_type": "code",
   "execution_count": 5,
   "metadata": {},
   "outputs": [
    {
     "name": "stdout",
     "output_type": "stream",
     "text": [
      "目的 基于血常规数据构建骨髓增生异常综合征和急性髓样白血病的判别模型。\n",
      "\n",
      "方法 数据来源于山东多中心健康医疗大数据平台,共计1 681例。随机抽取70%患者为训练集,其他30%为测试集,应用随机森林模型对骨髓增生异常综合征与急性髓样白血病判别,采用受试者工作特征曲线下面积(AUC)衡量模型的辨别能力并使用十折交叉验证法检验模型的稳定性。\n",
      "\n",
      "结果 随机森林模型与支持向量机模型均具有鉴别MDS与AML的能力,但随机森林模型表现效果更好。\n",
      "\n",
      "结论 构建的随机森林模型在骨髓增生异常综合征和急性髓系白血病患者中具有较好的判别能力。 \n"
     ]
    }
   ],
   "source": [
    "f = open(r\"C:\\Users\\Administrator\\Desktop\\1.txt\",\"r\",encoding = \"utf-8\")\n",
    "for line in f:\n",
    "    print(line)\n",
    "f.close()"
   ]
  },
  {
   "cell_type": "code",
   "execution_count": null,
   "metadata": {},
   "outputs": [],
   "source": []
  }
 ],
 "metadata": {
  "kernelspec": {
   "display_name": "Python 3",
   "language": "python",
   "name": "python3"
  },
  "language_info": {
   "codemirror_mode": {
    "name": "ipython",
    "version": 3
   },
   "file_extension": ".py",
   "mimetype": "text/x-python",
   "name": "python",
   "nbconvert_exporter": "python",
   "pygments_lexer": "ipython3",
   "version": "3.7.4"
  }
 },
 "nbformat": 4,
 "nbformat_minor": 2
}
