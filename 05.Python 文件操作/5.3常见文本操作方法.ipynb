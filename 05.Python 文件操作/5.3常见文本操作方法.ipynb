{
 "cells": [
  {
   "cell_type": "markdown",
   "metadata": {},
   "source": [
    "### 一次读入，统一处理"
   ]
  },
  {
   "cell_type": "code",
   "execution_count": 3,
   "metadata": {},
   "outputs": [
    {
     "name": "stdout",
     "output_type": "stream",
     "text": [
      "markername\tchr\tbp_hg19\teffect_allele\tnoneffect_allele\teffect_allele_freq\tmedian_info\tmodel\tbeta\tse_dgc\tp_dgc\thet_pvalue\tn_studies\n",
      "rs143225517\t1\t751756\tC\tT\t.158264\t.92\tFIXED\t.013006\t.017324\t.4528019\t.303481\t35\n",
      "rs3094315\t1\t752566\tA\tG\t.763018\t1\tFIXED\t-.005243\t.0157652\t.7394597\t.146867\t36\n",
      "rs3131972\t1\t752721\tG\tA\t.740969\t.96034\tFIXED\t-.003032\t.0156381\t.8462652\t.340843\t36\n",
      "rs3131971\t1\t752894\tC\tT\t.744287\t.793\tFIXED\t.00464\t.0162377\t.7750657\t.035821\t37\n",
      "rs61770173\t1\t753405\tA\tC\t.775368\t.91694\tFIXED\t-.006291\t.016708\t.7065265\t.377485\t36\n",
      "rs2073814\t1\t753474\tG\tC\t.716742\t.8848\tFIXED\t.000407\t.0157456\t.9793782\t.472543\t35\n",
      "rs2073813\t1\t753541\tA\tG\t.194804\t.91034\tFIXED\t.005802\t.0167808\t.7295293\t.36886\t35\n",
      "rs3131969\t1\t754182\tG\tA\t.760434\t.92385\tFIXED\t-.006522\t.0165571\t.693647\t.321205\t34\n",
      "rs3131968\t1\t754192\tG\tA\t.759886\t.920915\tFIXED\t-.006791\t.0165668\t.6818679\t.306346\t34\n",
      "rs3131967\t1\t754334\tC\tT\t.747971\t.841665\tFIXED\t-.009343\t.0168482\t.5792088\t.015972\t34\n",
      "rs3115859\t1\t754503\tA\tG\t.742041\t.92128\tFIXED\t-.000146\t.0158271\t.99\n"
     ]
    }
   ],
   "source": [
    "f = open(r\"C:\\Users\\Administrator\\Desktop\\c.txt\",\"r\",encoding = \"utf-8\")\n",
    "x= f.read()\n",
    "print(x[:1000])\n",
    "#  文件操作\n",
    "f.close()"
   ]
  },
  {
   "cell_type": "code",
   "execution_count": 7,
   "metadata": {},
   "outputs": [
    {
     "name": "stdout",
     "output_type": "stream",
     "text": [
      "variant\tminor_allele\tminor_AF\texpected_case_minor_AC\tlow_confidence_variant\tn_complete_samples\tAC\tytx\tbeta\tse\ttstat\tpval\n",
      "1:15791:C:T\tT\t5.42941e-09\t1.12715e-05\ttrue\t361141\t3.92157e-03\t0.00000e+00\t-1.21832e+00\t1.36485e+01\t-8.92639e-02\t9.28872e-01\n",
      "1:69487:G:A\tA\t5.74975e-06\t1.19365e-02\ttrue\t361141\t4.15294e+00\t0.00000e+00\t-3.36234e-03\t2.67342e-02\t-1.25769e-01\t8.99915e-01\n",
      "1:69569:T:C\tC\t1.87765e-04\t3.89801e-01\ttrue\t361141\t1.35620e+02\t8.90196e-01\t3.91086e-03\t4.79466e-03\t8.15671e-01\t4.14689e-01\n",
      "1:139853:C:T\tT\t5.66288e-06\t1.17561e-02\ttrue\t361141\t4.09020e+00\t0.00000e+00\t-3.31057e-03\t2.67351e-02\t-1.23829e-01\t9.01451e-01\n",
      "1:692794:CA:C\tC\t1.10637e-01\t2.29681e+02\tfalse\t361141\t7.99108e+04\t2.33953e+02\t7.18969e-05\t2.21458e-04\t3.24652e-01\t7.45445e-01\n",
      "1:693731:A:G\tG\t1.15823e-01\t2.40448e+02\tfalse\t361141\t8.36568e+04\t2.32129e+02\t-1.25715e-04\t2.09258e-04\t-6.00765e-01\t5.47997e-01\n",
      "1:707522:G:C\tC\t9.72984e-02\t2.01991e+02\tfalse\t361141\t7.02769e+04\t1.96000e+02\t-1.09962e-04\t2.35247e-04\t-4.67430e-01\t6.40192e-01\n",
      "1:71758\n"
     ]
    }
   ],
   "source": [
    "f = open(r\"C:\\Users\\acer\\Desktop\\20002_1313.gwas.imputed_v3.both_sexes.tsv\",\"r\",encoding = \"utf-8\")\n",
    "x= f.read()\n",
    "print(x[:1000])\n",
    "#  文件操作\n",
    "f.close()"
   ]
  },
  {
   "cell_type": "code",
   "execution_count": 9,
   "metadata": {},
   "outputs": [
    {
     "ename": "MemoryError",
     "evalue": "",
     "output_type": "error",
     "traceback": [
      "\u001b[1;31m---------------------------------------------------------------------------\u001b[0m",
      "\u001b[1;31mMemoryError\u001b[0m                               Traceback (most recent call last)",
      "\u001b[1;32m<ipython-input-9-dbf2b5ed4e26>\u001b[0m in \u001b[0;36m<module>\u001b[1;34m\u001b[0m\n\u001b[0;32m      1\u001b[0m \u001b[1;32mimport\u001b[0m \u001b[0mpandas\u001b[0m \u001b[1;32mas\u001b[0m \u001b[0mpd\u001b[0m\u001b[1;33m\u001b[0m\u001b[1;33m\u001b[0m\u001b[0m\n\u001b[1;32m----> 2\u001b[1;33m \u001b[0md\u001b[0m \u001b[1;33m=\u001b[0m \u001b[0mpd\u001b[0m\u001b[1;33m.\u001b[0m\u001b[0mDataFrame\u001b[0m\u001b[1;33m(\u001b[0m\u001b[0mx\u001b[0m\u001b[1;33m)\u001b[0m\u001b[1;33m\u001b[0m\u001b[1;33m\u001b[0m\u001b[0m\n\u001b[0m",
      "\u001b[1;32mC:\\ProgramData\\Anaconda3\\lib\\site-packages\\pandas\\core\\frame.py\u001b[0m in \u001b[0;36m__init__\u001b[1;34m(self, data, index, columns, dtype, copy)\u001b[0m\n\u001b[0;32m    467\u001b[0m         \u001b[1;32melse\u001b[0m\u001b[1;33m:\u001b[0m\u001b[1;33m\u001b[0m\u001b[1;33m\u001b[0m\u001b[0m\n\u001b[0;32m    468\u001b[0m             \u001b[1;32mtry\u001b[0m\u001b[1;33m:\u001b[0m\u001b[1;33m\u001b[0m\u001b[1;33m\u001b[0m\u001b[0m\n\u001b[1;32m--> 469\u001b[1;33m                 \u001b[0marr\u001b[0m \u001b[1;33m=\u001b[0m \u001b[0mnp\u001b[0m\u001b[1;33m.\u001b[0m\u001b[0marray\u001b[0m\u001b[1;33m(\u001b[0m\u001b[0mdata\u001b[0m\u001b[1;33m,\u001b[0m \u001b[0mdtype\u001b[0m\u001b[1;33m=\u001b[0m\u001b[0mdtype\u001b[0m\u001b[1;33m,\u001b[0m \u001b[0mcopy\u001b[0m\u001b[1;33m=\u001b[0m\u001b[0mcopy\u001b[0m\u001b[1;33m)\u001b[0m\u001b[1;33m\u001b[0m\u001b[1;33m\u001b[0m\u001b[0m\n\u001b[0m\u001b[0;32m    470\u001b[0m             \u001b[1;32mexcept\u001b[0m \u001b[1;33m(\u001b[0m\u001b[0mValueError\u001b[0m\u001b[1;33m,\u001b[0m \u001b[0mTypeError\u001b[0m\u001b[1;33m)\u001b[0m \u001b[1;32mas\u001b[0m \u001b[0me\u001b[0m\u001b[1;33m:\u001b[0m\u001b[1;33m\u001b[0m\u001b[1;33m\u001b[0m\u001b[0m\n\u001b[0;32m    471\u001b[0m                 exc = TypeError(\n",
      "\u001b[1;31mMemoryError\u001b[0m: "
     ]
    }
   ],
   "source": [
    "import pandas as pd \n",
    "d = pd.DataFrame(x)"
   ]
  },
  {
   "cell_type": "markdown",
   "metadata": {},
   "source": [
    "### 计量读入，逐步处理"
   ]
  },
  {
   "cell_type": "code",
   "execution_count": 4,
   "metadata": {
    "scrolled": true
   },
   "outputs": [
    {
     "name": "stdout",
     "output_type": "stream",
     "text": [
      "目的 基于血常规数据构建骨髓增生异常综合征和急性髓样白血病的判别模型。方法 数据来源于山东多中心健康医疗大数据平台,共计1 681例。随机抽取70%患者为训练集,其他30%为测试集,应用随机森林模型对\n",
      "骨髓增生异常综合征与急性髓样白血病判别,采用受试者工作特征曲线下面积(AUC)衡量模型的辨别能力并使用十折交叉验证法检验模型的稳定性。结果 随机森林模型与支持向量机模型均具有鉴别MDS与AML的能力,但随机森林模型表现效果更好。结论 构建的随机森林模型在骨髓增\n",
      "生异常综合征和急性髓系白血病患者中具有较好的判别能力。 \n"
     ]
    }
   ],
   "source": [
    "f = open(r\"C:\\Users\\Administrator\\Desktop\\1.txt\",\"r\",encoding = \"utf-8\")\n",
    "x= f.read(100)\n",
    "while x != \"\": \n",
    "    #对txt进行处理\n",
    "    print(x)\n",
    "    x = f.read(130) \n",
    "f.close()"
   ]
  },
  {
   "cell_type": "markdown",
   "metadata": {},
   "source": [
    "### 一次读入，分行处理"
   ]
  },
  {
   "cell_type": "code",
   "execution_count": 6,
   "metadata": {},
   "outputs": [
    {
     "name": "stdout",
     "output_type": "stream",
     "text": [
      "目的 基于血常规数据构建骨髓增生异常综合征和急性髓样白血病的判别模型。\n",
      "\n",
      "方法 数据来源于山东多中心健康医疗大数据平台,共计1 681例。随机抽取70%患者为训练集,其他30%为测试集,应用随机森林模型对骨髓增生异常综合征与急性髓样白血病判别,采用受试者工作特征曲线下面积(AUC)衡量模型的辨别能力并使用十折交叉验证法检验模型的稳定性。\n",
      "\n",
      "结果 随机森林模型与支持向量机模型均具有鉴别MDS与AML的能力,但随机森林模型表现效果更好。\n",
      "\n",
      "结论 构建的随机森林模型在骨髓增生异常综合征和急性髓系白血病患者中具有较好的判别能力。 \n"
     ]
    }
   ],
   "source": [
    "f = open(r\"C:\\Users\\Administrator\\Desktop\\1.txt\",\"r\",encoding = \"utf-8\")\n",
    "x= f.readlines()\n",
    "for line in x: \n",
    "    #文件处理\n",
    "    print(line)\n",
    "f.close()"
   ]
  },
  {
   "cell_type": "markdown",
   "metadata": {},
   "source": [
    "### 分行读入，逐行处理"
   ]
  },
  {
   "cell_type": "code",
   "execution_count": 7,
   "metadata": {},
   "outputs": [
    {
     "name": "stdout",
     "output_type": "stream",
     "text": [
      "['目的 基于血常规数据构建骨髓增生异常综合征和急性髓样白血病的判别模型。\\n']\n",
      "['方法 数据来源于山东多中心健康医疗大数据平台,共计1 681例。随机抽取70%患者为训练集,其他30%为测试集,应用随机森林模型对骨髓增生异常综合征与急性髓样白血病判别,采用受试者工作特征曲线下面积(AUC)衡量模型的辨别能力并使用十折交叉验证法检验模型的稳定性。\\n']\n",
      "['结果 随机森林模型与支持向量机模型均具有鉴别MDS与AML的能力,但随机森林模型表现效果更好。\\n']\n",
      "['结论 构建的随机森林模型在骨髓增生异常综合征和急性髓系白血病患者中具有较好的判别能力。 ']\n"
     ]
    }
   ],
   "source": [
    "f = open(r\"C:\\Users\\Administrator\\Desktop\\1.txt\",\"r\",encoding = \"utf-8\")\n",
    "x= f.readlines(1)\n",
    "while x != []: \n",
    "    #文件操作\n",
    "    print(x)\n",
    "    x = f.readlines(1) \n",
    "f.close()"
   ]
  },
  {
   "cell_type": "code",
   "execution_count": 1,
   "metadata": {},
   "outputs": [
    {
     "name": "stdout",
     "output_type": "stream",
     "text": [
      "目的 基于血常规数据构建骨髓增生异常综合征和急性髓样白血病的判别模型。\n",
      "\n",
      "方法 数据来源于山东多中心健康医疗大数据平台,共计1 681例。随机抽取70%患者为训练集,其他30%为测试集,应用随机森林模型对骨髓增生异常综合征与急性髓样白血病判别,采用受试者工作特征曲线下面积(AUC)衡量模型的辨别能力并使用十折交叉验证法检验模型的稳定性。\n",
      "\n",
      "结果 随机森林模型与支持向量机模型均具有鉴别MDS与AML的能力,但随机森林模型表现效果更好。\n",
      "\n",
      "结论 构建的随机森林模型在骨髓增生异常综合征和急性髓系白血病患者中具有较好的判别能力。 \n"
     ]
    }
   ],
   "source": [
    "f = open(r\"C:\\Users\\Administrator\\Desktop\\1.txt\",\"r\",encoding = \"utf-8\")\n",
    "x= f.readline()\n",
    "while x != \"\": \n",
    "    #文件操作\n",
    "    print(x)\n",
    "    x = f.readline() \n",
    "f.close()"
   ]
  },
  {
   "cell_type": "code",
   "execution_count": 5,
   "metadata": {},
   "outputs": [
    {
     "name": "stdout",
     "output_type": "stream",
     "text": [
      "目的 基于血常规数据构建骨髓增生异常综合征和急性髓样白血病的判别模型。\n",
      "\n",
      "方法 数据来源于山东多中心健康医疗大数据平台,共计1 681例。随机抽取70%患者为训练集,其他30%为测试集,应用随机森林模型对骨髓增生异常综合征与急性髓样白血病判别,采用受试者工作特征曲线下面积(AUC)衡量模型的辨别能力并使用十折交叉验证法检验模型的稳定性。\n",
      "\n",
      "结果 随机森林模型与支持向量机模型均具有鉴别MDS与AML的能力,但随机森林模型表现效果更好。\n",
      "\n",
      "结论 构建的随机森林模型在骨髓增生异常综合征和急性髓系白血病患者中具有较好的判别能力。 \n"
     ]
    }
   ],
   "source": [
    "f = open(r\"C:\\Users\\Administrator\\Desktop\\1.txt\",\"r\",encoding = \"utf-8\")\n",
    "for line in f:\n",
    "    print(line)\n",
    "f.close()"
   ]
  },
  {
   "cell_type": "code",
   "execution_count": null,
   "metadata": {},
   "outputs": [],
   "source": []
  }
 ],
 "metadata": {
  "kernelspec": {
   "display_name": "Python 3",
   "language": "python",
   "name": "python3"
  },
  "language_info": {
   "codemirror_mode": {
    "name": "ipython",
    "version": 3
   },
   "file_extension": ".py",
   "mimetype": "text/x-python",
   "name": "python",
   "nbconvert_exporter": "python",
   "pygments_lexer": "ipython3",
   "version": "3.7.4"
  }
 },
 "nbformat": 4,
 "nbformat_minor": 2
}
