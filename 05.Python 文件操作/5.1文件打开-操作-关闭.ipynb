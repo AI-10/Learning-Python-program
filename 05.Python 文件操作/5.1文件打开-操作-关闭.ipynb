{
 "cells": [
  {
   "cell_type": "markdown",
   "metadata": {},
   "source": [
    "## 打开文件\n",
    "- **open() 方法**\n",
    "    - open() 方法用于打开一个文件，并返回文件对象，在对文件进行处理过程都需要使用到这个函数，如果该文件无法被打开，会抛出 OSError。\n",
    "    - 完整的语法格式为：\n",
    "        - open(file, mode='r', buffering=-1, encoding=None, errors=None, newline=None, closefd=True, opener=None)\n",
    "            - 参数说明:\n",
    "            - file: 必需，文件路径（相对或者绝对路径）。\n",
    "            - mode: 可选，文件打开模式\n",
    "            mode参数：\n",
    "                - t\t 文本模式 (默认)\n",
    "                - b\t二进制模式。                \n",
    "                - r\t 以只读方式打开文件。文件的指针将会放在文件的开头。这是默认模式。\n",
    "                - w\t打开一个文件只用于写入。文件存在则打开文件，并从开头=编辑，即原有内容会被删除。如果该文件不存在，创建新文件。\n",
    "                - a\t打开一个文件用于追加。文件存在，文件指针将会放在文件的结尾。如果该文件不存在，创建新文件进行写入。\n",
    "                - x\t写模式，新建一个文件，如果该文件已存在则会报错。   \n",
    "                - + 打开一个文件进行更新(可读可写)。\n",
    "            - encoding: 一般使用utf-8或gbk模式\n",
    "            - buffering: 设置缓冲\n",
    "            - errors: 报错级别\n",
    "            - newline: 区分换行符\n",
    "            - closefd: 传入的file参数类型\n",
    "    - 常用格式：open(file, mode='r')\n",
    "**注意：使用 open() 方法一定要保证关闭文件对象，即调用f .close() 方法。**"
   ]
  },
  {
   "cell_type": "code",
   "execution_count": 9,
   "metadata": {},
   "outputs": [
    {
     "data": {
      "text/plain": [
       "'C:\\\\Users\\\\Administrator\\\\Desktop\\\\c.txt'"
      ]
     },
     "execution_count": 9,
     "metadata": {},
     "output_type": "execute_result"
    }
   ],
   "source": [
    "path = r\"C:\\Users\\Administrator\\Desktop\\GAINT.txt\"\n",
    "f = open(path,\"r\",encoding = \"utf-8\")\n",
    "f.name"
   ]
  },
  {
   "cell_type": "markdown",
   "metadata": {},
   "source": [
    "## 关闭文件"
   ]
  },
  {
   "cell_type": "code",
   "execution_count": 56,
   "metadata": {},
   "outputs": [],
   "source": [
    "f.close()"
   ]
  },
  {
   "cell_type": "markdown",
   "metadata": {},
   "source": [
    "##  操作文件\n",
    "- 文件读取\n",
    "- 文件写入"
   ]
  },
  {
   "cell_type": "markdown",
   "metadata": {},
   "source": [
    "#### 1.读取文件\n",
    "- file 对象使用 open 函数来创建，读文件就是file对象操作，读文件时注意指针的位置"
   ]
  },
  {
   "cell_type": "code",
   "execution_count": 3,
   "metadata": {},
   "outputs": [
    {
     "name": "stdout",
     "output_type": "stream",
     "text": [
      "SNP\tchr_pos_(b36)\treference_allele\tother_allele\tref_allele_frequency\tpvalue\thet_pvalue\tlog_odds\tlog_odds_se\tN_case\tN_control\tmodel\n",
      "rs12565286\tchr1:711153\tC\tG\t.05380729\t.065121\t.99966894\t.1282012\t.0695073\t6659\t20465\tFE\n",
      "rs11804171\tchr1:713682\tT\tA\t.94596855\t.0632817\t.99921897\t-.1297868\t.0698828\t6017\t20242\tFE\n",
      "rs3094315\tchr1:742429\tG\tA\t.17509983\t.9545154\t.99345942\t.0016609\t.0291187\t9714\t26820\tFE\n",
      "rs3131968\tchr1:744055\tG\tA\t.76986967\t.3571689\t.51464456\t-.0289617\t.0314537\t10213\t12604\tFE\n",
      "rs2905035\tchr1:765522\tG\tA\t.81987365\t.8823145\t.53146543\t-.0040285\t.0272131\t13523\t33607\tFE\n",
      "rs2980319\tchr1:766985\tT\tA\t.8205391\t.9730835\t.60747227\t-.0009125\t.0270433\t14201\t33867\tFE\n",
      "rs4040617\tchr1:769185\tG\tA\t.13653007\t.9481509\t.64700268\t-.0017451\t.0268361\t13950\t33841\tFE\n",
      "rs2977612\tchr1:770648\tT\tA\t.1365862\t.9989267\t.55412606\t.0000365\t.0271406\t13433\t33517\tFE\n",
      "rs2905062\tchr1:774913\tG\tA\t.13804454\t.9927509\t.6239609\t-.0002458\t.0270487\t13331\t33372\tFE\n",
      "rs2980300\tchr1:775852\tC\tT\t.85378004\t.8329752\t.77166037\t.0054738\t.0259561\t14715\t34231\tFE\n",
      "rs11240777\tchr1:788822\tG\tA\t.79387364\t.7668155\t.98887256\t-.008975\t.0302654\t8638\t22281\tFE\n",
      "rs3121561\tchr1:980243\tC\tT\t.705\t.3961659\t1\t-.028\t.0329999\t6633\t27582\tFE\n",
      "rs3813193\tchr1:988364\tC\tG\t.18265147\t.9108288\t.3679844\t.0034016\t.0303734\t6872\t27840\tFE\n",
      "rs4075116\tchr1:993492\tC\tT\t.25784774\t.3872931\t.37690021\t.0187703\t.0217113\t13385\t35026\tFE\n",
      "rs3934834\tchr1:995669\tC\tT\t.8408633\t.8099853\t.34355917\t.0070263\t.0292219\t6881\t27647\tFE\n",
      "rs3766193\tchr1:1007033\tC\tG\t.44910802\t.4546269\t.96167643\t.0157586\t.0210754\t10353\t49501\tFE\n",
      "rs3766192\tchr1:1007060\tC\tT\t.43803235\t.8546368\t.05401488\t.0051995\t.0283805\t5366\t23886\tFE\n",
      "rs3766191\tchr1:1007450\tC\tT\t.85557704\t.7516828\t.35202128\t-.0099465\t.0314343\t6870\t27859\tFE\n",
      "rs9442371\tchr1:1008425\tC\tT\t.42607657\t.5118057\t.23582618\t.011991\t.0182782\t13405\t49601\tFE\n",
      "rs9442372\tchr1:1008567\tG\tA\t.57236979\t.4720666\t.35573373\t-.0130313\t.0181211\t14371\t50004\tFE\n",
      "rs10907177\tchr1:1011209\tG\tA\t.14320913\t.5777016\t.39197036\t.0180932\t.0324983\t6851\t27837\tFE\n",
      "rs3737728\tchr1:1011278\tG\tA\t.72262257\t.738665\t.11664471\t-.0074473\t.0223225\t8648\t44580\tFE\n",
      "rs10907178\tchr1:1011446\tC\tA\t.14212659\t.5446643\t.43620443\t.0197099\t.0325366\t6848\t27832\tFE\n",
      "rs9442398\tchr1:1011558\tG\tA\t.72999322\t.8778309\t.08834\t-.0036201\t.0235499\t8917\t47400\tFE\n",
      "rs6701114\tchr1:1011900\tC\tT\t.4453\t.7215\t1\t.0185\t.0519\t2030\t19551\tFE\n",
      "rs4074137\tchr1:1016570\tC\tA\t.374\t.0690351\t1\t.046\t.0252999\t6630\t27567\tFE\n",
      "rs6687776\tchr1:1020428\tC\tT\t.85593638\t.0772814\t.73625847\t-.0497435\t.0281564\t8815\t30558\tFE\n",
      "rs6678318\tchr1:1020496\tG\tA\t.85712828\t.0710623\t.66334371\t-.0509073\t.0282022\t8795\t30542\tFE\n",
      "rs9651273\tchr1:1021403\tG\tA\t.74755687\t.5557181\t.11811015\t-.014647\t.0248585\t6867\t27750\tFE\n",
      "rs11579015\tchr1:1026822\tC\tT\t.08984381\t.0720208\t.72148707\t.0532598\t.0296054\t12911\t52339\tFE\n",
      "rs6671356\tchr1:1029889\tC\tT\t.12902391\t.157479\t.74596367\t.0409805\t.0289901\t9933\t31678\tFE\n",
      "rs6666280\tchr1:1036027\tC\tT\t.88064279\t.0935974\t.85503956\t-.0437258\t.0260782\t13066\t52489\tFE\n",
      "rs4970405\tchr1:1038818\tG\tA\t.09424217\t.0126915\t.18513133\t.0707107\t.0283715\t13801\t34410\tFE\n",
      "rs12726255\tchr1:1039813\tG\tA\t.12066008\t.0761728\t.8570173\t.0488419\t.0275424\t11052\t32947\tFE\n",
      "rs4970409\tchr1:1043315\tG\tA\t.90926433\t.080103\t.75164712\t-.0510508\t.0291704\t13189\t52642\tFE\n",
      "rs7548798\tchr1:1050037\tC\tT\t.67798642\t.2544999\t.13939091\t-.0331473\t.0290897\t6857\t27814\tFE\n",
      "rs7540009\tchr1:1050098\tG\tA\t.965\t.8607344\t1\t.011\t.0626997\t6640\t27609\tFE\n",
      "rs17160824\tchr1:1050471\tG\tA\t.9025358\t.0814949\t.77372072\t-.0511532\t.0293633\t13092\t52496\tFE\n",
      "rs17160826\tchr1:1050978\tC\tT\t.08962597\t.085473\t.76363208\t.0505149\t.029373\t13157\t52617\tFE\n",
      "rs12748370\tchr1:1051015\tC\tT\t.09198118\t.141181\t.73469742\t.0441971\t.0300373\t12101\t51444\tFE\n",
      "rs11807848\tchr1:1051029\tC\tT\t.40125404\t.0089792\t.66912015\t.0674\t.0257956\t6906\t27871\tFE\n",
      "rs9659914\tchr1:1051878\tC\tT\t.966\t.8533069\t1\t.012\t.0648997\t6640\t27608\tFE\n",
      "rs9442373\tchr1:1052501\tC\tA\t.44218661\t.0079342\t.7384201\t.0657354\t.0247604\t6906\t27873\tFE\n",
      "rs6682475\tchr1:1054398\tC\tG\t.73\t.4284818\t1\t-.027\t.0340999\t6626\t27553\tFE\n",
      "rs2298217\tchr1:1054842\tC\tT\t.87357389\t.1366007\t.60502803\t-.0435369\t.0292475\t8519\t30197\tFE\n",
      "rs49\n"
     ]
    }
   ],
   "source": [
    "\"\"\"\n",
    "file.read([size])  从文件读取指定的**字节数**，如果未给定或为负则读取所有。\n",
    "\"\"\"\n",
    "path = r\"C:\\Users\\Administrator\\Documents\\R\\win-library\\3.6\\TwoSampleMR\\extdata\\CARDIoGRAM_GWAS_RESULTS.txt\"\n",
    "f = open(path,\"rt\",encoding = \"utf-8\")\n",
    "str = f.read(4000)\n",
    "print(str)   \n",
    "f.close()"
   ]
  },
  {
   "cell_type": "code",
   "execution_count": 2,
   "metadata": {},
   "outputs": [
    {
     "ename": "FileNotFoundError",
     "evalue": "[Errno 2] No such file or directory: 'C:\\\\Users\\\\Administrator\\\\Desktop\\\\CARDIoGRAM_GWAS_RESULTS.txt'",
     "output_type": "error",
     "traceback": [
      "\u001b[1;31m---------------------------------------------------------------------------\u001b[0m",
      "\u001b[1;31mFileNotFoundError\u001b[0m                         Traceback (most recent call last)",
      "\u001b[1;32m<ipython-input-2-888978d0fc1e>\u001b[0m in \u001b[0;36m<module>\u001b[1;34m()\u001b[0m\n\u001b[0;32m      2\u001b[0m \u001b[0mfile\u001b[0m\u001b[1;33m.\u001b[0m\u001b[0mreadline\u001b[0m\u001b[1;33m(\u001b[0m\u001b[1;33m[\u001b[0m\u001b[0msize\u001b[0m\u001b[1;33m]\u001b[0m\u001b[1;33m)\u001b[0m \u001b[0m读取一行\u001b[0m\u001b[0;31m，\u001b[0m\u001b[0m返回字符串\u001b[0m\u001b[0;31m，\u001b[0m\u001b[0msize表示取该列表前字节数\u001b[0m\u001b[0;31m，\u001b[0m\u001b[0m包括\u001b[0m \u001b[1;34m\"\\n\"\u001b[0m \u001b[0m字符\u001b[0m\u001b[0;31m。\u001b[0m\u001b[1;33m\u001b[0m\u001b[0m\n\u001b[0;32m      3\u001b[0m \"\"\"\n\u001b[1;32m----> 4\u001b[1;33m \u001b[0mf\u001b[0m \u001b[1;33m=\u001b[0m \u001b[0mopen\u001b[0m\u001b[1;33m(\u001b[0m\u001b[1;34mr\"C:\\Users\\Administrator\\Desktop\\CARDIoGRAM_GWAS_RESULTS.txt\"\u001b[0m\u001b[1;33m,\u001b[0m\u001b[1;34m\"r\"\u001b[0m\u001b[1;33m,\u001b[0m\u001b[0mencoding\u001b[0m \u001b[1;33m=\u001b[0m \u001b[1;34m\"utf-8\"\u001b[0m\u001b[1;33m)\u001b[0m\u001b[1;33m\u001b[0m\u001b[0m\n\u001b[0m\u001b[0;32m      5\u001b[0m \u001b[0mprint\u001b[0m\u001b[1;33m(\u001b[0m\u001b[0mf\u001b[0m\u001b[1;33m.\u001b[0m\u001b[0mname\u001b[0m\u001b[1;33m)\u001b[0m\u001b[1;33m\u001b[0m\u001b[0m\n\u001b[0;32m      6\u001b[0m \u001b[0mstr\u001b[0m \u001b[1;33m=\u001b[0m \u001b[0mf\u001b[0m\u001b[1;33m.\u001b[0m\u001b[0mreadline\u001b[0m\u001b[1;33m(\u001b[0m\u001b[1;36m10000\u001b[0m\u001b[1;33m)\u001b[0m\u001b[1;33m\u001b[0m\u001b[0m\n",
      "\u001b[1;31mFileNotFoundError\u001b[0m: [Errno 2] No such file or directory: 'C:\\\\Users\\\\Administrator\\\\Desktop\\\\CARDIoGRAM_GWAS_RESULTS.txt'"
     ]
    }
   ],
   "source": [
    "\"\"\"\n",
    "file.readline([size]) 读取一行，返回字符串，size表示取该列表前字节数，包括 \"\\n\" 字符。\n",
    "\"\"\"\n",
    "f = open(r\"C:\\Users\\Administrator\\Desktop\\CARDIoGRAM_GWAS_RESULTS.txt\",\"r\",encoding = \"utf-8\")\n",
    "print(f.name)\n",
    "str = f.readline(10000)\n",
    "print(str)"
   ]
  },
  {
   "cell_type": "code",
   "execution_count": 55,
   "metadata": {},
   "outputs": [
    {
     "name": "stdout",
     "output_type": "stream",
     "text": [
      "C:\\Users\\Administrator\\Desktop\\c.txt\n"
     ]
    },
    {
     "data": {
      "text/plain": [
       "['markername\\tchr\\tbp_hg19\\teffect_allele\\tnoneffect_allele\\teffect_allele_freq\\tmedian_info\\tmodel\\tbeta\\tse_dgc\\tp_dgc\\thet_pvalue\\tn_studies\\n',\n",
       " 'rs143225517\\t1\\t751756\\tC\\tT\\t.158264\\t.92\\tFIXED\\t.013006\\t.017324\\t.4528019\\t.303481\\t35\\n',\n",
       " 'rs3094315\\t1\\t752566\\tA\\tG\\t.763018\\t1\\tFIXED\\t-.005243\\t.0157652\\t.7394597\\t.146867\\t36\\n',\n",
       " 'rs3131972\\t1\\t752721\\tG\\tA\\t.740969\\t.96034\\tFIXED\\t-.003032\\t.0156381\\t.8462652\\t.340843\\t36\\n',\n",
       " 'rs3131971\\t1\\t752894\\tC\\tT\\t.744287\\t.793\\tFIXED\\t.00464\\t.0162377\\t.7750657\\t.035821\\t37\\n',\n",
       " 'rs61770173\\t1\\t753405\\tA\\tC\\t.775368\\t.91694\\tFIXED\\t-.006291\\t.016708\\t.7065265\\t.377485\\t36\\n',\n",
       " 'rs2073814\\t1\\t753474\\tG\\tC\\t.716742\\t.8848\\tFIXED\\t.000407\\t.0157456\\t.9793782\\t.472543\\t35\\n',\n",
       " 'rs2073813\\t1\\t753541\\tA\\tG\\t.194804\\t.91034\\tFIXED\\t.005802\\t.0167808\\t.7295293\\t.36886\\t35\\n',\n",
       " 'rs3131969\\t1\\t754182\\tG\\tA\\t.760434\\t.92385\\tFIXED\\t-.006522\\t.0165571\\t.693647\\t.321205\\t34\\n',\n",
       " 'rs3131968\\t1\\t754192\\tG\\tA\\t.759886\\t.920915\\tFIXED\\t-.006791\\t.0165668\\t.6818679\\t.306346\\t34\\n']"
      ]
     },
     "execution_count": 55,
     "metadata": {},
     "output_type": "execute_result"
    }
   ],
   "source": [
    "\"\"\"\n",
    "file.readlines([size])读取所有行，以每行为元素形成列表，size为字节的行,\n",
    "## 实际读取值可能比 sizeint 较大, 因为需要填充缓冲区。\n",
    "\"\"\"\n",
    "f = open(r\"C:\\Users\\Administrator\\Desktop\\c.txt\",\"r\",encoding = \"utf-8\")\n",
    "print(f.name)\n",
    "l = f.readlines()\n",
    "l[:10]"
   ]
  },
  {
   "cell_type": "markdown",
   "metadata": {},
   "source": [
    "####  2.文件写入\n",
    "- 注意文件指针与读取模式"
   ]
  },
  {
   "cell_type": "code",
   "execution_count": 58,
   "metadata": {},
   "outputs": [],
   "source": [
    "\"\"\"\n",
    "f.write(s)  向文件写入一个字符串或字节流\n",
    "\"\"\"\n",
    "f = open(r\"C:\\Users\\Administrator\\Desktop\\1.txt\",\"x\",encoding = \"utf-8\")\n",
    "f.write(\"向文件写入一个字符串或字节流\")\n",
    "f.close()"
   ]
  },
  {
   "cell_type": "code",
   "execution_count": 60,
   "metadata": {},
   "outputs": [],
   "source": [
    "\"\"\"\n",
    "f.writelines(s) 将一个元素全为字符串的列表直接拼接后写入文件\n",
    "\"\"\"\n",
    "f = open(r\"C:\\Users\\Administrator\\Desktop\\1.txt\",\"a\",encoding = \"utf-8\")\n",
    "f.writelines([\"内科\",\"外科\",\"流行病学\"])\n",
    "f.close()"
   ]
  },
  {
   "cell_type": "markdown",
   "metadata": {},
   "source": [
    "#### 3.文件指针\n",
    "- 进行文件操作时，指针位置决定文件操作位置的开始"
   ]
  },
  {
   "cell_type": "code",
   "execution_count": null,
   "metadata": {},
   "outputs": [],
   "source": [
    "\"\"\"\n",
    "f.seek(set)  改变当前文件操作指针的位置, 0 – 文件开头；1 – 当前位置；2 – 文件结尾\n",
    "\"\"\""
   ]
  },
  {
   "cell_type": "code",
   "execution_count": 15,
   "metadata": {},
   "outputs": [
    {
     "name": "stdout",
     "output_type": "stream",
     "text": [
      "SNP\tchr_pos_(b36)\treference_allele\tother_allele\tref_allele_frequency\tpvalue\thet_pvalue\tlog_odds\tlog_odds_se\tN_case\tN_control\tmodel\n",
      "rs12565286\tchr1:711153\tC\tG\t.05380729\t.065121\t.99966894\t.1282012\t.0695073\t6659\t\n",
      "20465\tFE\n",
      "rs11804171\tchr1:713682\tT\tA\t.94596855\t.0632817\t.99921897\t-.1297868\t.0698828\t6017\t20242\tFE\n",
      "rs3094315\tchr1:742429\tG\tA\t.17509983\t.9545154\t.99345942\t.0016609\t.0291187\t9714\t26820\tFE\n",
      "rs3131968\tchr1:744055\tG\t\n",
      "SNP\tchr_pos_(b36)\treference_allele\tother_allele\tref_allele_frequency\tpvalue\thet_pvalue\tlog_odds\tlog_odds_se\tN_case\tN_control\tmodel\n",
      "rs12565286\tchr1:711153\tC\tG\t.05380729\t.065121\t.99966894\t.1282012\t.0695073\t6659\t\n"
     ]
    }
   ],
   "source": [
    "path = r\"C:\\Users\\Administrator\\Desktop\\C.txt\"\n",
    "f = open(path,\"r\",encoding = \"utf-8\")\n",
    "str = f.read(209)\n",
    "print(str)   \n",
    "str = f.read(209)\n",
    "print(str)   \n",
    "f.seek(0)\n",
    "str = f.read(209)\n",
    "print(str)   \n",
    "f.close()"
   ]
  },
  {
   "cell_type": "code",
   "execution_count": null,
   "metadata": {},
   "outputs": [],
   "source": []
  },
  {
   "cell_type": "code",
   "execution_count": null,
   "metadata": {},
   "outputs": [],
   "source": []
  }
 ],
 "metadata": {
  "kernelspec": {
   "display_name": "Python 3",
   "language": "python",
   "name": "python3"
  },
  "language_info": {
   "codemirror_mode": {
    "name": "ipython",
    "version": 3
   },
   "file_extension": ".py",
   "mimetype": "text/x-python",
   "name": "python",
   "nbconvert_exporter": "python",
   "pygments_lexer": "ipython3",
   "version": "3.7.4"
  }
 },
 "nbformat": 4,
 "nbformat_minor": 2
}
