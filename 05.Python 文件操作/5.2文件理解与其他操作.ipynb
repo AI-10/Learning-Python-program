{
 "cells": [
  {
   "cell_type": "markdown",
   "metadata": {},
   "source": [
    "### 文件的理解 "
   ]
  },
  {
   "cell_type": "markdown",
   "metadata": {},
   "source": [
    "- 文件是存储在辅助存储器上的数据序列，是数据存储的一种形式 \n",
    "- 文件展现形态：文本文件和二进制文件\n",
    "    - 文本文件：由单一特定编码组成的文件,如UTF-8编码，由于存在编码,也被看成是存储着的长字符串，如.txt,.py等\n",
    "    - 二进制文件：直接由比特0和1组成,没有统一字符编码 ，一般存在二进制0和1的组织结构，例如：.png文件,.avi文件等\n",
    "    - 文件文件和二进制文件只是文件的展示方式 ，本质上,所有文件都是二进制形式存储"
   ]
  },
  {
   "cell_type": "markdown",
   "metadata": {},
   "source": [
    "### 编码与解码"
   ]
  },
  {
   "cell_type": "code",
   "execution_count": 1,
   "metadata": {},
   "outputs": [
    {
     "name": "stdout",
     "output_type": "stream",
     "text": [
      "****\n",
      "b'nnnnnnn' <class 'bytes'>\n",
      "nnnnnnn <class 'str'>\n"
     ]
    }
   ],
   "source": [
    "\"\"\"\n",
    "编码encode\n",
    "\"\"\"\n",
    "path = r\"C:\\Users\\Administrator\\Desktop\\11.txt\"\n",
    "with open(path,\"wb\") as f1:\n",
    "    str1 = \"nnnnnnn\"\n",
    "    f1.write(str1.encode(\"utf-8\"))\n",
    "\"\"\"\n",
    "解码decode\n",
    "\"\"\"\n",
    "path = r\"C:\\Users\\Administrator\\Desktop\\11.txt\"\n",
    "with open(path,\"rb\") as f2:\n",
    "    data = f2.read()\n",
    "    print(data,type(data)) \n",
    "    newdata = data.decode(\"utf-8\")\n",
    "    print(newdata,type(newdata))\n",
    "# 编码和解码应该一致"
   ]
  },
  {
   "cell_type": "markdown",
   "metadata": {},
   "source": [
    "### 其他文件对象相关操作"
   ]
  },
  {
   "cell_type": "markdown",
   "metadata": {},
   "source": [
    "- file.fileno()\n",
    "     - 返回一个整型的文件描述符(file descriptor FD 整型), 可以用在如os模块的read方法等一些底层操作上。\n",
    "- file.isatty()\n",
    "     - 如果文件连接到一个终端设备返回 True，否则返回 False。\n",
    "- file.next()\n",
    "     - 返回文件下一行。\n",
    "- file.tell()\n",
    "     - 返回文件当前位置。\n",
    "- file.truncate([size])\n",
    "     - 从文件首行首字符开始截断，截断文件为size个字符，无size表示从当前位置截断；截断后后面所有字符被删除，Widnows 系统换行代表2个字符。\n",
    "- file.writelines(sequence)\n",
    "     - 向文件写入一个序列字符串列表，如果需要换行则要自己加入每行的换行符。"
   ]
  },
  {
   "cell_type": "code",
   "execution_count": null,
   "metadata": {},
   "outputs": [],
   "source": []
  },
  {
   "cell_type": "code",
   "execution_count": null,
   "metadata": {},
   "outputs": [],
   "source": []
  },
  {
   "cell_type": "code",
   "execution_count": null,
   "metadata": {},
   "outputs": [],
   "source": []
  },
  {
   "cell_type": "code",
   "execution_count": null,
   "metadata": {},
   "outputs": [],
   "source": []
  }
 ],
 "metadata": {
  "kernelspec": {
   "display_name": "Python 3",
   "language": "python",
   "name": "python3"
  },
  "language_info": {
   "codemirror_mode": {
    "name": "ipython",
    "version": 3
   },
   "file_extension": ".py",
   "mimetype": "text/x-python",
   "name": "python",
   "nbconvert_exporter": "python",
   "pygments_lexer": "ipython3",
   "version": "3.7.4"
  }
 },
 "nbformat": 4,
 "nbformat_minor": 2
}
