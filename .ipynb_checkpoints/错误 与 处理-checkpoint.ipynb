{
 "cells": [
  {
   "cell_type": "markdown",
   "metadata": {},
   "source": [
    "# 一、错误\n",
    "- 最常见错误包括语法错误 与 异常两种"
   ]
  },
  {
   "cell_type": "markdown",
   "metadata": {},
   "source": [
    "### 语法错误\n",
    "- Python 的语法错误或者称之为解析错，语法分析器指出了出错的一行，并且在最先找到的错误的位置标记了一个小小的箭头。"
   ]
  },
  {
   "cell_type": "markdown",
   "metadata": {},
   "source": [
    "### 功能异常\n",
    "- Python程序的语法是正确的，在运行它的时候，也有可能发生错误。运行期检测到的错误被称为异常"
   ]
  },
  {
   "cell_type": "markdown",
   "metadata": {},
   "source": [
    "# 二、错误处理"
   ]
  },
  {
   "cell_type": "markdown",
   "metadata": {},
   "source": [
    "### try……except……语句\n",
    "- **作用**：try检查语句块中的错误,expect语句在try检查出有错误时执行\n",
    "- **逻辑**：\n",
    "    - 首先，执行try子句（在关键字try和关键字except之间的语句）\n",
    "    - 如果没有异常发生，忽略except子句，try子句执行（后执行else语句）\n",
    "    - 如果在执行try子句的过程中发生了异常，那么try子句余下的部分将被忽略，并执行except语句。\n",
    "    - 如果except指定错误的类型，则只有try语句错误的类型和 except 指定的一致，那么对应的except子句将被执行。\n",
    "    - 如果一个异常没有与任何的except匹配，那么这个异常将会传递给上层的try中。"
   ]
  },
  {
   "cell_type": "code",
   "execution_count": 19,
   "metadata": {},
   "outputs": [
    {
     "name": "stdout",
     "output_type": "stream",
     "text": [
      "3.0\n",
      "正常\n",
      "***********\n"
     ]
    }
   ],
   "source": [
    "\"\"\"\n",
    "格式\n",
    "try：\n",
    "    语句块\n",
    "expect 错误码 as e:\n",
    "    语句1\n",
    "expect 错误码 as e:\n",
    "    语句2\n",
    "    ……\n",
    "else:            #可有可无\n",
    "    语句  \n",
    "\"\"\"\n",
    "\n",
    "try:\n",
    "    print(3 / 1)  \n",
    "    #print(a)\n",
    "except NameError as e:\n",
    "    print(\"变量错误\")\n",
    "except ZeroDivisionError as e:\n",
    "    print(\"错误输入\")\n",
    "else:\n",
    "    print(\"正常\")\n",
    "\n",
    "print(\"***********\")\n"
   ]
  },
  {
   "cell_type": "code",
   "execution_count": 20,
   "metadata": {},
   "outputs": [
    {
     "name": "stdout",
     "output_type": "stream",
     "text": [
      "程序异常\n"
     ]
    }
   ],
   "source": [
    "\"\"\"\n",
    "通用化，except语句不写异常类型\n",
    "\"\"\"\n",
    "try:\n",
    "    print(3 / 0)  \n",
    "    #print(a)\n",
    "except:\n",
    "    print(\"程序异常\")"
   ]
  },
  {
   "cell_type": "code",
   "execution_count": 21,
   "metadata": {},
   "outputs": [
    {
     "data": {
      "text/plain": [
       "'\\nexcept子句可以同时处理多个异常\\n格式：\\n\\ntry:\\n    print(5 / 0)\\nexcept (.......)：#错误类型元组\\n    print(\"error\")\\n'"
      ]
     },
     "execution_count": 21,
     "metadata": {},
     "output_type": "execute_result"
    }
   ],
   "source": [
    "\"\"\"\n",
    "except子句可以同时处理多个异常\n",
    "格式：\n",
    "\n",
    "try:\n",
    "    print(5 / 0)\n",
    "except (.......)：#错误类型元组\n",
    "    print(\"error\")\n",
    "\"\"\"    \n"
   ]
  },
  {
   "cell_type": "markdown",
   "metadata": {},
   "source": [
    "### try……except……finally语句\n",
    "- **作用**无论是否有错误都执行最后的语句"
   ]
  },
  {
   "cell_type": "code",
   "execution_count": 23,
   "metadata": {},
   "outputs": [
    {
     "name": "stdout",
     "output_type": "stream",
     "text": [
      "3.0\n",
      "正常\n",
      "***********\n"
     ]
    }
   ],
   "source": [
    "\"\"\"\n",
    "格式\n",
    "try：\n",
    "    语句块t\n",
    "expect 错误码 as e:\n",
    "    语句1\n",
    "expect 错误码 as e:\n",
    "    语句2\n",
    "    ……\n",
    "finally:            #可有可无\n",
    "    语句f  \n",
    "\"\"\"\n",
    "try:\n",
    "    print(3 / 1)  \n",
    "    #print(a)\n",
    "except NameError as e:\n",
    "    print(\"变量错误\")\n",
    "except ZeroDivisionError as e:\n",
    "    print(\"错误输入\")\n",
    "finally:\n",
    "    print(\"必须执行\")\n"
   ]
  },
  {
   "cell_type": "code",
   "execution_count": 2,
   "metadata": {},
   "outputs": [
    {
     "name": "stdout",
     "output_type": "stream",
     "text": [
      "3\n",
      "必须执行\n"
     ]
    }
   ],
   "source": [
    "try:\n",
    "    print(3 - 0)  \n",
    "finally:\n",
    "    print(\"必须执行\")"
   ]
  },
  {
   "cell_type": "code",
   "execution_count": null,
   "metadata": {},
   "outputs": [],
   "source": []
  }
 ],
 "metadata": {
  "kernelspec": {
   "display_name": "Python 3",
   "language": "python",
   "name": "python3"
  },
  "language_info": {
   "codemirror_mode": {
    "name": "ipython",
    "version": 3
   },
   "file_extension": ".py",
   "mimetype": "text/x-python",
   "name": "python",
   "nbconvert_exporter": "python",
   "pygments_lexer": "ipython3",
   "version": "3.7.0"
  }
 },
 "nbformat": 4,
 "nbformat_minor": 2
}
