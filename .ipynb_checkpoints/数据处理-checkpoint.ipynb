{
 "cells": [
  {
   "cell_type": "code",
   "execution_count": 51,
   "metadata": {},
   "outputs": [],
   "source": [
    "import numpy as np\n",
    "import pandas as pd\n",
    "#读取数据fileID数据,提取纯fieldID（X后面的整数）\n",
    "read_data = pd.read_csv(r\"C:\\Users\\acer\\Desktop\\fieldID_data.txt\",names = ['b','a'])\n",
    "data_DataFrame = pd.DataFrame(read_data[\"a\"])\n",
    "data_DataFrame[\"fieldID\"] = data_DataFrame[\"a\"].apply(lambda x:x.split(\".\")[0][1:])\n",
    "#去重\n",
    "fieldid_list = set(np.array(data_DataFrame[\"fieldID\"]).tolist())\n",
    "fileid = pd.DataFrame(fieldid_list,columns = [\"fieldID\"])"
   ]
  },
  {
   "cell_type": "code",
   "execution_count": 52,
   "metadata": {},
   "outputs": [],
   "source": [
    "#读取github-ukbiobank-.txt数据,并转为DataFrame\n",
    "file_github = pd.read_csv(r\"C:\\Users\\acer\\Desktop\\UK_github_data.csv\",names=[\"fieldID\",\"b\",\"c\",\"d\",\"e\",\"f\",\"g\",\"h\",\"i\",\"j\"])\n",
    "file = pd.DataFrame(file_github)"
   ]
  },
  {
   "cell_type": "code",
   "execution_count": 53,
   "metadata": {},
   "outputs": [],
   "source": [
    "#数据合并，\n",
    "result = pd.merge(fileid,file,on=[\"fieldID\"])\n",
    "result.to_csv(r\"C:\\Users\\acer\\Desktop\\result.csv\", encoding = 'utf-8', index = False)"
   ]
  },
  {
   "cell_type": "code",
   "execution_count": 54,
   "metadata": {},
   "outputs": [],
   "source": [
    "#单独提取目录中的trait并添加在文件中\n",
    "data = pd.read_csv(r\"C:\\Users\\acer\\Desktop\\result.csv\")\n",
    "a = pd.DataFrame(data)\n",
    "a[\"Trait\"] = a[\"g\"].apply(lambda x:x.split(\">\")[-1])\n",
    "a.to_csv(r\"C:\\Users\\acer\\Desktop\\result-1.csv\", encoding = 'utf-8', index = False)"
   ]
  },
  {
   "cell_type": "code",
   "execution_count": null,
   "metadata": {},
   "outputs": [],
   "source": []
  }
 ],
 "metadata": {
  "kernelspec": {
   "display_name": "Python 3",
   "language": "python",
   "name": "python3"
  },
  "language_info": {
   "codemirror_mode": {
    "name": "ipython",
    "version": 3
   },
   "file_extension": ".py",
   "mimetype": "text/x-python",
   "name": "python",
   "nbconvert_exporter": "python",
   "pygments_lexer": "ipython3",
   "version": "3.7.4"
  }
 },
 "nbformat": 4,
 "nbformat_minor": 2
}
