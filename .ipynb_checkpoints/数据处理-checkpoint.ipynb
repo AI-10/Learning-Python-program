{
 "cells": [
  {
   "cell_type": "code",
   "execution_count": 2,
   "metadata": {},
   "outputs": [],
   "source": [
    "import numpy as np\n",
    "import pandas as pd\n",
    "#读取数据fileID数据,提取纯fieldID（X后面的整数）\n",
    "read_data = pd.read_csv(r\"C:\\Users\\acer\\Desktop\\fieldID_data.txt\",names = ['b','a'])\n",
    "data_DataFrame = pd.DataFrame(read_data[\"a\"])\n",
    "data_DataFrame[\"fieldID\"] = data_DataFrame[\"a\"].apply(lambda x:x.split(\".\")[0][1:])\n",
    "#去重\n",
    "fieldid_list = set(np.array(data_DataFrame[\"fieldID\"]).tolist())\n",
    "fileid = pd.DataFrame(fieldid_list,columns = [\"fieldID\"])"
   ]
  },
  {
   "cell_type": "code",
   "execution_count": 3,
   "metadata": {},
   "outputs": [],
   "source": [
    "#读取github-ukbiobank-.txt数据,并转为DataFrame\n",
    "file_github = pd.read_csv(r\"C:\\Users\\acer\\Desktop\\UK_github_data.csv\",names=[\"fieldID\",\"b\",\"c\",\"d\",\"e\",\"f\",\"g\",\"h\",\"i\",\"j\"])\n",
    "file = pd.DataFrame(file_github)"
   ]
  },
  {
   "cell_type": "code",
   "execution_count": 4,
   "metadata": {},
   "outputs": [],
   "source": [
    "#数据合并，输出结果\n",
    "result = pd.merge(fileid,file,on=[\"fieldID\"])\n",
    "result.to_csv(r\"C:\\Users\\acer\\Desktop\\result.csv\", encoding = 'utf-8', index = False)"
   ]
  },
  {
   "cell_type": "code",
   "execution_count": 5,
   "metadata": {},
   "outputs": [],
   "source": [
    "#单独提取目录中的trait并添加在文件中\n",
    "data = pd.read_csv(r\"C:\\Users\\acer\\Desktop\\result.csv\")\n",
    "a = pd.DataFrame(data)\n",
    "a[\"Trait\"] = a[\"g\"].apply(lambda x:x.split(\">\")[-1])\n",
    "a.to_csv(r\"C:\\Users\\acer\\Desktop\\result-1.csv\", encoding = 'utf-8', index = False)"
   ]
  },
  {
   "cell_type": "code",
   "execution_count": 14,
   "metadata": {},
   "outputs": [
    {
     "name": "stdout",
     "output_type": "stream",
     "text": [
      "115\n"
     ]
    }
   ],
   "source": [
    "#输出为匹配到的性状\n",
    "list = set(np.array(result[\"fieldID\"]).tolist())\n",
    "print(len(fieldid_list)-len(list)) "
   ]
  },
  {
   "cell_type": "code",
   "execution_count": 15,
   "metadata": {},
   "outputs": [
    {
     "data": {
      "text/plain": [
       "{'10145',\n",
       " '10146',\n",
       " '105010',\n",
       " '105030',\n",
       " '10697',\n",
       " '12352',\n",
       " '12623',\n",
       " '12624',\n",
       " '12634',\n",
       " '12652',\n",
       " '12658',\n",
       " '12663',\n",
       " '12664',\n",
       " '12704',\n",
       " '12848',\n",
       " '12868',\n",
       " '20031',\n",
       " '20032',\n",
       " '20078',\n",
       " '20134',\n",
       " '20135',\n",
       " '20136',\n",
       " '20137',\n",
       " '20138',\n",
       " '22002',\n",
       " '22005',\n",
       " '22007',\n",
       " '22008',\n",
       " '22100',\n",
       " '22101',\n",
       " '22102',\n",
       " '22103',\n",
       " '22104',\n",
       " '22105',\n",
       " '22106',\n",
       " '22107',\n",
       " '22108',\n",
       " '22109',\n",
       " '22110',\n",
       " '22111',\n",
       " '22112',\n",
       " '22113',\n",
       " '22114',\n",
       " '22115',\n",
       " '22116',\n",
       " '22117',\n",
       " '22118',\n",
       " '22119',\n",
       " '22120',\n",
       " '22121',\n",
       " '22122',\n",
       " '22123',\n",
       " '22124',\n",
       " '22125',\n",
       " '22182',\n",
       " '22500',\n",
       " '22600',\n",
       " '22662',\n",
       " '22700',\n",
       " '22801',\n",
       " '22802',\n",
       " '22803',\n",
       " '22804',\n",
       " '22805',\n",
       " '22806',\n",
       " '22807',\n",
       " '22808',\n",
       " '22809',\n",
       " '22810',\n",
       " '22811',\n",
       " '22812',\n",
       " '22813',\n",
       " '22814',\n",
       " '22815',\n",
       " '22816',\n",
       " '22817',\n",
       " '22818',\n",
       " '22819',\n",
       " '22820',\n",
       " '22821',\n",
       " '22822',\n",
       " '3066',\n",
       " '40000',\n",
       " '40005',\n",
       " '40010',\n",
       " '42000',\n",
       " '42002',\n",
       " '42004',\n",
       " '42006',\n",
       " '42008',\n",
       " '42010',\n",
       " '42012',\n",
       " '4205',\n",
       " '4229',\n",
       " '4236',\n",
       " '4240',\n",
       " '4242',\n",
       " '4258',\n",
       " '4286',\n",
       " '4289',\n",
       " '4295',\n",
       " '5080',\n",
       " '5081',\n",
       " '5082',\n",
       " '5083',\n",
       " '5258',\n",
       " '5259',\n",
       " '5266',\n",
       " '5267',\n",
       " '53',\n",
       " '5987',\n",
       " '5991',\n",
       " '90003',\n",
       " '90010',\n",
       " '90011'}"
      ]
     },
     "execution_count": 15,
     "metadata": {},
     "output_type": "execute_result"
    }
   ],
   "source": [
    "c"
   ]
  },
  {
   "cell_type": "code",
   "execution_count": null,
   "metadata": {},
   "outputs": [],
   "source": []
  }
 ],
 "metadata": {
  "kernelspec": {
   "display_name": "Python 3",
   "language": "python",
   "name": "python3"
  },
  "language_info": {
   "codemirror_mode": {
    "name": "ipython",
    "version": 3
   },
   "file_extension": ".py",
   "mimetype": "text/x-python",
   "name": "python",
   "nbconvert_exporter": "python",
   "pygments_lexer": "ipython3",
   "version": "3.7.4"
  }
 },
 "nbformat": 4,
 "nbformat_minor": 2
}
