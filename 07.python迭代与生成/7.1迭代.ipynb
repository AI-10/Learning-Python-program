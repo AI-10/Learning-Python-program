{
 "cells": [
  {
   "cell_type": "markdown",
   "metadata": {},
   "source": [
    "### 迭代\n",
    "- 迭代是一个动词，它指的是一种操作，在Python中，就是 for 循环\n",
    "- 在Python中，迭代是通过 for ... in 来完成的，而很多语言比如C或者Java，迭代list是通过下标完成的。\n",
    "- 迭代操作就是对于一个集合，无论该集合是有序还是无序，我们用 for 循环总是可以依次取出集合的每一个元素。\n",
    "    - 注意: 集合是指包含一组元素的数据结构，我们已经介绍的包括：\n",
    "        - 1. 有序集合：list，tuple，str和unicode；\n",
    "        - 2. 无序集合：set\n",
    "        - 3. 无序集合并且具有 key-value 对：dict\n",
    "- 迭代与按下标访问数组最大的不同是，后者是一种具体的迭代实现方式，而前者只关心迭代结果，根本不关心迭代内部是如何实现的。"
   ]
  },
  {
   "cell_type": "markdown",
   "metadata": {},
   "source": [
    "### 索引迭代\n",
    "- Python中，迭代永远是取出元素本身，而非元素的索引。\n",
    "- 对于有序集合，元素确实是有索引的。有的时候，我们确实想在 for 循环中拿到索引，怎么办？\n",
    "    - 方法是使用 enumerate() 函数："
   ]
  },
  {
   "cell_type": "code",
   "execution_count": 1,
   "metadata": {},
   "outputs": [
    {
     "name": "stdout",
     "output_type": "stream",
     "text": [
      "0 - Adam\n",
      "1 - Lisa\n",
      "2 - Bart\n",
      "3 - Paul\n"
     ]
    }
   ],
   "source": [
    "L = ['Adam', 'Lisa', 'Bart', 'Paul']\n",
    "for index, name in enumerate(L):\n",
    "    print (index, '-', name)"
   ]
  },
  {
   "cell_type": "markdown",
   "metadata": {},
   "source": [
    "- 使用 enumerate() 函数，我们可以在for循环中同时绑定索引index和元素name。但是，这不是 enumerate() 的特殊语法。实际上，enumerate() 函数把：\n",
    "['Adam', 'Lisa', 'Bart', 'Paul']变成了类似：[(0, 'Adam'), (1, 'Lisa'), (2, 'Bart'), (3, 'Paul')]因此，迭代的每一个元素实际上是一个tuple"
   ]
  },
  {
   "cell_type": "code",
   "execution_count": 2,
   "metadata": {},
   "outputs": [
    {
     "name": "stdout",
     "output_type": "stream",
     "text": [
      "0 - Adam\n",
      "1 - Lisa\n",
      "2 - Bart\n",
      "3 - Paul\n"
     ]
    }
   ],
   "source": [
    "for t in enumerate(L):\n",
    "    index = t[0]\n",
    "    name = t[1]\n",
    "    print (index, '-', name)"
   ]
  },
  {
   "cell_type": "markdown",
   "metadata": {},
   "source": [
    "- 可见，索引迭代也不是真的按索引访问，而是由 enumerate() 函数把每个元素变成 (index, element) 这样的tuple，再迭代，就同时获得了索引和元素本身。"
   ]
  },
  {
   "cell_type": "code",
   "execution_count": null,
   "metadata": {},
   "outputs": [],
   "source": []
  }
 ],
 "metadata": {
  "kernelspec": {
   "display_name": "Python 3",
   "language": "python",
   "name": "python3"
  },
  "language_info": {
   "codemirror_mode": {
    "name": "ipython",
    "version": 3
   },
   "file_extension": ".py",
   "mimetype": "text/x-python",
   "name": "python",
   "nbconvert_exporter": "python",
   "pygments_lexer": "ipython3",
   "version": "3.7.0"
  }
 },
 "nbformat": 4,
 "nbformat_minor": 2
}
