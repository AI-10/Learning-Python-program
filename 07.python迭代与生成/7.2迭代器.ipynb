{
 "cells": [
  {
   "cell_type": "markdown",
   "metadata": {},
   "source": [
    "### 可迭代对象（Iterable）\n",
    "- 可以直接作用于for循环的对象的统称\n",
    "- 可以用isinstance()去判断一个对象是否是可迭代对象"
   ]
  },
  {
   "cell_type": "markdown",
   "metadata": {},
   "source": [
    "#### 分类\n",
    "- 集合数据类型  --  如list tuple dict set string\n",
    "- generator类型  -- 包括生成器和带yield的generator function"
   ]
  },
  {
   "cell_type": "markdown",
   "metadata": {},
   "source": [
    "#### 判断"
   ]
  },
  {
   "cell_type": "code",
   "execution_count": 29,
   "metadata": {},
   "outputs": [
    {
     "name": "stdout",
     "output_type": "stream",
     "text": [
      "True\n",
      "True\n",
      "True\n",
      "True\n",
      "True\n",
      "True\n",
      "False\n"
     ]
    }
   ],
   "source": [
    "from collections import Iterable\n",
    "print(isinstance([],Iterable))\n",
    "print(isinstance((),Iterable))\n",
    "print(isinstance({},Iterable))\n",
    "print(isinstance({},Iterable))\n",
    "print(isinstance(\"\",Iterable))\n",
    "print(isinstance((c for c in range(10)),Iterable))\n",
    "print(isinstance(7,Iterable))"
   ]
  },
  {
   "cell_type": "markdown",
   "metadata": {},
   "source": [
    "### 迭代器\n",
    "- 不仅可以用于for循环，还可以被next()函数不断调用并返回一个值，直到跑出一个stopIterable错误表示无法返回下一个值\n",
    "- 可以被next()函数不断调用并返回一个值的对象就是迭代器（Iterator对象）"
   ]
  },
  {
   "cell_type": "code",
   "execution_count": 31,
   "metadata": {},
   "outputs": [
    {
     "name": "stdout",
     "output_type": "stream",
     "text": [
      "True\n",
      "True\n",
      "True\n",
      "True\n",
      "True\n",
      "True\n",
      "False\n"
     ]
    }
   ],
   "source": [
    "from collections import Iterable\n",
    "print(isinstance([],Iterable))\n",
    "print(isinstance((),Iterable))\n",
    "print(isinstance({},Iterable))\n",
    "print(isinstance({},Iterable))\n",
    "print(isinstance(\"\",Iterable))\n",
    "print(isinstance((c for c in range(10)),Iterable))\n",
    "print(isinstance(7,Iterable))"
   ]
  },
  {
   "cell_type": "markdown",
   "metadata": {},
   "source": [
    "#### 类型转换 iter()"
   ]
  },
  {
   "cell_type": "code",
   "execution_count": 28,
   "metadata": {},
   "outputs": [
    {
     "name": "stdout",
     "output_type": "stream",
     "text": [
      "1\n",
      "2\n",
      "3\n",
      "4\n"
     ]
    }
   ],
   "source": [
    "a = iter([1,2,3,4])\n",
    "print(next(a))\n",
    "print(next(a))\n",
    "print(next(a))\n",
    "print(next(a))"
   ]
  },
  {
   "cell_type": "code",
   "execution_count": null,
   "metadata": {},
   "outputs": [],
   "source": []
  }
 ],
 "metadata": {
  "kernelspec": {
   "display_name": "Python 3",
   "language": "python",
   "name": "python3"
  },
  "language_info": {
   "codemirror_mode": {
    "name": "ipython",
    "version": 3
   },
   "file_extension": ".py",
   "mimetype": "text/x-python",
   "name": "python",
   "nbconvert_exporter": "python",
   "pygments_lexer": "ipython3",
   "version": "3.7.0"
  }
 },
 "nbformat": 4,
 "nbformat_minor": 2
}
