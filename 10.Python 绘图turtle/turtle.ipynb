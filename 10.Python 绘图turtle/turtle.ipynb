{
 "cells": [
  {
   "cell_type": "markdown",
   "metadata": {},
   "source": [
    "# turtle\n",
    "- 是一个简单的绘图工具\n",
    "- 提供一个小海龟，听得懂有限的命令,默认原点是中间，默认方向是向右\n",
    "- 运动命令  笔画控制命令  其他命令"
   ]
  },
  {
   "cell_type": "markdown",
   "metadata": {},
   "source": [
    "#### 笔画运动命令\n",
    "- forWard(d)  向前运动d\n",
    "- backward(d) 向后运动d\n",
    "- right(d)    向右转动d\n",
    "- left(d)\n",
    "- goto(x,y)   运动到坐标为（x,y）的位置\n",
    "- speed(d)    笔画运动的速度"
   ]
  },
  {
   "cell_type": "markdown",
   "metadata": {},
   "source": [
    "#### 笔画控制命令\n",
    "- up()   笔画抬起\n",
    "- down() 笔画落下\n",
    "- setheading(d) 改变海龟朝向\n",
    "- pensize() 笔画大小\n",
    "- pencolor(d)笔画颜色\n",
    "- reset()重置turtle状态\n",
    "- clear()清空窗口，不会重置状态\n",
    "- circle(r[,e])绘制一个圆形（半径[，次数]） **e表示e边形，turtle.circle(100.steps = 6):半径为100的六边形**\n",
    "- fillcolor(colorstr) 填充\n",
    "    - 格式 \n",
    "        - begin_fill()\n",
    "        - fillcolor(colorstr)\n",
    "        - end_fill()"
   ]
  },
  {
   "cell_type": "markdown",
   "metadata": {},
   "source": [
    "#### 其他命令\n",
    "- done()程序继续执行\n",
    "- undo()撤销上一次动作\n",
    "- hideturtle()隐藏海龟\n",
    "- showturtle()显示海龟\n",
    "- screensize(x,y)屏幕大小"
   ]
  },
  {
   "cell_type": "code",
   "execution_count": null,
   "metadata": {},
   "outputs": [],
   "source": []
  }
 ],
 "metadata": {
  "kernelspec": {
   "display_name": "Python 3",
   "language": "python",
   "name": "python3"
  },
  "language_info": {
   "codemirror_mode": {
    "name": "ipython",
    "version": 3
   },
   "file_extension": ".py",
   "mimetype": "text/x-python",
   "name": "python",
   "nbconvert_exporter": "python",
   "pygments_lexer": "ipython3",
   "version": "3.7.0"
  }
 },
 "nbformat": 4,
 "nbformat_minor": 2
}
