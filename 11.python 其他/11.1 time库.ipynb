{
 "cells": [
  {
   "cell_type": "code",
   "execution_count": 2,
   "metadata": {},
   "outputs": [],
   "source": [
    "import time"
   ]
  },
  {
   "cell_type": "markdown",
   "metadata": {},
   "source": [
    "### 时间获取\n",
    "-  -- time.time() -- time.ctime() -- time.gmtime()"
   ]
  },
  {
   "cell_type": "code",
   "execution_count": 9,
   "metadata": {},
   "outputs": [
    {
     "name": "stdout",
     "output_type": "stream",
     "text": [
      "1578550372.8721757\n",
      "Thu Jan  9 14:12:52 2020\n",
      "time.struct_time(tm_year=2020, tm_mon=1, tm_mday=9, tm_hour=6, tm_min=12, tm_sec=52, tm_wday=3, tm_yday=9, tm_isdst=0)\n"
     ]
    }
   ],
   "source": [
    "T1 = time.time()\n",
    "T2 = time.ctime()\n",
    "T3 = time.gmtime()\n",
    "print(T1)\n",
    "print(T2)\n",
    "print(T3)"
   ]
  },
  {
   "cell_type": "markdown",
   "metadata": {},
   "source": [
    "### 时间格式化输出\n",
    "- time.strftime(tpl,ts)"
   ]
  },
  {
   "cell_type": "code",
   "execution_count": 11,
   "metadata": {},
   "outputs": [
    {
     "data": {
      "text/plain": [
       "'2020-01-09 06:18:32'"
      ]
     },
     "execution_count": 11,
     "metadata": {},
     "output_type": "execute_result"
    }
   ],
   "source": [
    "t = time. gmtime()\n",
    "time. strftime(\"%Y-%m-%d %H:%M:%S\",t)"
   ]
  },
  {
   "cell_type": "markdown",
   "metadata": {},
   "source": [
    "### 其他\n",
    "- 程序计时：测量时间: time.perf_ counter()\n",
    "- 程序休眠: time.sleep(num)"
   ]
  },
  {
   "cell_type": "code",
   "execution_count": 3,
   "metadata": {},
   "outputs": [
    {
     "name": "stdout",
     "output_type": "stream",
     "text": [
      "8.11999999985602e-05\n",
      "3.0095545\n",
      "3.0096356999999987\n",
      "515377520732011331036461129765621272702107522001\n"
     ]
    }
   ],
   "source": [
    "T1 =  time.perf_counter()\n",
    "S = pow(3,100)\n",
    "T2 =  time.perf_counter()\n",
    "time.sleep(3)#休眠三秒\n",
    "T3 =  time.perf_counter()\n",
    "print(T2-T1)\n",
    "print(T3-T2)\n",
    "print(T3-T1)\n",
    "print(S)"
   ]
  },
  {
   "cell_type": "code",
   "execution_count": null,
   "metadata": {},
   "outputs": [],
   "source": []
  }
 ],
 "metadata": {
  "kernelspec": {
   "display_name": "Python 3",
   "language": "python",
   "name": "python3"
  },
  "language_info": {
   "codemirror_mode": {
    "name": "ipython",
    "version": 3
   },
   "file_extension": ".py",
   "mimetype": "text/x-python",
   "name": "python",
   "nbconvert_exporter": "python",
   "pygments_lexer": "ipython3",
   "version": "3.7.0"
  }
 },
 "nbformat": 4,
 "nbformat_minor": 2
}
