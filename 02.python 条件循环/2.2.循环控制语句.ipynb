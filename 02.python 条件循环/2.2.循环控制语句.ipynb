{
 "cells": [
  {
   "cell_type": "markdown",
   "metadata": {},
   "source": [
    "- 循环结构\n",
    "    - for遍历循环\n",
    "    - while无限循环\n",
    "- 循环控制保留字\n",
    "    - break当前循环\n",
    "    - continue当次循环"
   ]
  },
  {
   "cell_type": "markdown",
   "metadata": {},
   "source": [
    "## for遍历循环"
   ]
  },
  {
   "cell_type": "code",
   "execution_count": 11,
   "metadata": {},
   "outputs": [
    {
     "name": "stdout",
     "output_type": "stream",
     "text": [
      "1\n",
      "3\n",
      "**********\n",
      "2\n",
      "6\n",
      "10\n"
     ]
    }
   ],
   "source": [
    "\"\"\"\n",
    "for 遍历变量 in 遍历结构：\n",
    "    语句\n",
    "\"\"\"\n",
    "a = [1,3]\n",
    "for i in range(2):\n",
    "    print(a[i])\n",
    "print(\"**********\")\n",
    "#range()函数生成列表\n",
    "for i in range(2,12,4):#start（默认为0） end（必须有） step \n",
    "    print(i)"
   ]
  },
  {
   "cell_type": "code",
   "execution_count": 2,
   "metadata": {},
   "outputs": [
    {
     "name": "stdout",
     "output_type": "stream",
     "text": [
      "A1\n",
      "A2\n",
      "A3\n",
      "B1\n",
      "B2\n",
      "B3\n",
      "C1\n",
      "C2\n",
      "C3\n"
     ]
    }
   ],
   "source": [
    "\"\"\"\n",
    "嵌套循环\n",
    "\"\"\"\n",
    "# x 每循环一次，y 就会循环 3 次，这样，我们可以打印出一个全排列：\n",
    "for x in ['A', 'B', 'C']:\n",
    "    for y in ['1', '2', '3']:\n",
    "        print (x + y)"
   ]
  },
  {
   "cell_type": "markdown",
   "metadata": {},
   "source": [
    "## while无限循环"
   ]
  },
  {
   "cell_type": "code",
   "execution_count": null,
   "metadata": {},
   "outputs": [],
   "source": [
    "\"\"\"\n",
    "    while 表达式 ：\n",
    "        语句1\n",
    "    else：\n",
    "        语句2\n",
    "\"\"\"\n",
    "#计算前100的和\n",
    "a = 1\n",
    "s = 0\n",
    "while a <= 100:\n",
    "    s += a\n",
    "    a +=1\n",
    "#   print(\"sum = %d\" %(s))# print的位置决定了打印的内容\n",
    "print(\"sum = %d\" %(s))"
   ]
  },
  {
   "cell_type": "code",
   "execution_count": null,
   "metadata": {},
   "outputs": [],
   "source": [
    "# 打印字符串里的字符\n",
    "a = \"we are good\"\n",
    "index = 0\n",
    "while index < len(a):\n",
    "    print(\"str[%d] = %s\" %(index,a[index]))\n",
    "    index += 1"
   ]
  },
  {
   "cell_type": "markdown",
   "metadata": {},
   "source": [
    "# continue语句"
   ]
  },
  {
   "cell_type": "code",
   "execution_count": 15,
   "metadata": {},
   "outputs": [
    {
     "name": "stdout",
     "output_type": "stream",
     "text": [
      "0\n",
      "1\n",
      "2\n",
      "3\n",
      "4\n",
      "6\n",
      "7\n",
      "8\n",
      "9\n",
      "yes\n"
     ]
    }
   ],
   "source": [
    "\"\"\"\n",
    "跳过当前循环中的剩余语句，然后执行下一次循环\n",
    "注意：只能跳过距离离他最近的那一层循环\n",
    "\"\"\"\n",
    "for i in range(10):\n",
    "    if i == 5:\n",
    "        continue \n",
    "    print(i)\n",
    "else:\n",
    "    print(\"yes\")"
   ]
  },
  {
   "cell_type": "markdown",
   "metadata": {},
   "source": [
    "## break语句"
   ]
  },
  {
   "cell_type": "code",
   "execution_count": 1,
   "metadata": {},
   "outputs": [
    {
     "name": "stdout",
     "output_type": "stream",
     "text": [
      "0\n",
      "1\n",
      "2\n",
      "3\n",
      "4\n",
      "yes\n"
     ]
    }
   ],
   "source": [
    "\"\"\"\n",
    "跳出for和while循环\n",
    "注意：只能跳出距离离他最近的那一层循环\n",
    "\"\"\"\n",
    "for i in range(10):\n",
    "    if i == 5:\n",
    "        break \n",
    "    print(i)\n",
    "print(\"yes\")"
   ]
  },
  {
   "cell_type": "code",
   "execution_count": 2,
   "metadata": {},
   "outputs": [
    {
     "name": "stdout",
     "output_type": "stream",
     "text": [
      "0\n",
      "1\n",
      "2\n",
      "3\n",
      "4\n",
      "5\n",
      "end\n",
      "0\n",
      "1\n",
      "2\n",
      "3\n",
      "4\n",
      "5\n",
      "6\n",
      "7\n",
      "8\n",
      "9\n",
      "yes\n"
     ]
    }
   ],
   "source": [
    "# 加else语句：若循环没有被break打破，将执行else语句\n",
    "for i in range(10):\n",
    "    print(i)\n",
    "    if i == 5:\n",
    "        print(\"end\")\n",
    "        break  \n",
    "else:\n",
    "    print(\"yes\")\n",
    "for i in range(10):\n",
    "    print(i)\n",
    "    if i == 20:\n",
    "        print(\"end\")\n",
    "        break  \n",
    "else:\n",
    "    print(\"yes\")"
   ]
  },
  {
   "cell_type": "code",
   "execution_count": null,
   "metadata": {},
   "outputs": [],
   "source": []
  }
 ],
 "metadata": {
  "kernelspec": {
   "display_name": "Python 3",
   "language": "python",
   "name": "python3"
  },
  "language_info": {
   "codemirror_mode": {
    "name": "ipython",
    "version": 3
   },
   "file_extension": ".py",
   "mimetype": "text/x-python",
   "name": "python",
   "nbconvert_exporter": "python",
   "pygments_lexer": "ipython3",
   "version": "3.7.0"
  }
 },
 "nbformat": 4,
 "nbformat_minor": 2
}
