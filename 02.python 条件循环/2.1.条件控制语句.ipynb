{
 "cells": [
  {
   "cell_type": "markdown",
   "metadata": {},
   "source": [
    "# if条件语句"
   ]
  },
  {
   "cell_type": "markdown",
   "metadata": {},
   "source": [
    "### 条件表达式\n",
    "- 见第一单元"
   ]
  },
  {
   "cell_type": "markdown",
   "metadata": {},
   "source": [
    "### 条件语句格式"
   ]
  },
  {
   "cell_type": "code",
   "execution_count": 3,
   "metadata": {},
   "outputs": [
    {
     "name": "stdout",
     "output_type": "stream",
     "text": [
      "5\n",
      "none\n"
     ]
    }
   ],
   "source": [
    "\"\"\"\n",
    "基本格式：\n",
    "    if 表达式 ：\n",
    "        语句1\n",
    "    else:\n",
    "        语句2       \n",
    "\"\"\"\n",
    "a = int(input()) \n",
    "if a % 2 == 0:\n",
    "    print(\"偶数\")\n",
    "else:\n",
    "    print(\"none\")"
   ]
  },
  {
   "cell_type": "code",
   "execution_count": 4,
   "metadata": {},
   "outputs": [
    {
     "name": "stdout",
     "output_type": "stream",
     "text": [
      "33\n",
      "基本不符合条件\n"
     ]
    }
   ],
   "source": [
    "\"\"\"\n",
    "多重格式\n",
    "    if 表达式 ：\n",
    "        语句1\n",
    "    elif:\n",
    "        语句2\n",
    "        ···    \n",
    "    else：           # 可有可无\n",
    "        语句x\n",
    "\"\"\"    \n",
    "#elif格式\n",
    "age = int(input())\n",
    "if age >= 0 and age <= 10 :\n",
    "    print(\"符合条件\")\n",
    "elif age >=11  and age < 20 :\n",
    "    print(\"基本符合条件\")\n",
    "elif age >=21  and age < 40 :\n",
    "    print(\"基本不符合条件\")   \n",
    "else :\n",
    "    print(\"不符合条件\")    "
   ]
  },
  {
   "cell_type": "code",
   "execution_count": null,
   "metadata": {},
   "outputs": [],
   "source": [
    "\"\"\"\n",
    "嵌套语句：\n",
    "    if 表达式 ：\n",
    "            语句1\n",
    "        if:\n",
    "            语句2\n",
    "            。。。\n",
    "    else：\n",
    "            语句x"
   ]
  },
  {
   "cell_type": "markdown",
   "metadata": {},
   "source": [
    "#### 注意事项：条件之间的包含关系"
   ]
  }
 ],
 "metadata": {
  "kernelspec": {
   "display_name": "Python 3",
   "language": "python",
   "name": "python3"
  },
  "language_info": {
   "codemirror_mode": {
    "name": "ipython",
    "version": 3
   },
   "file_extension": ".py",
   "mimetype": "text/x-python",
   "name": "python",
   "nbconvert_exporter": "python",
   "pygments_lexer": "ipython3",
   "version": "3.7.0"
  }
 },
 "nbformat": 4,
 "nbformat_minor": 2
}
