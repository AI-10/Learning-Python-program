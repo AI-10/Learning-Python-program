{
 "cells": [
  {
   "cell_type": "markdown",
   "metadata": {},
   "source": [
    "### 高阶函数\n",
    "**能接受函数作为参数的函数就是高阶函数。**\n",
    "- 函数名就是指向函数的变量\n",
    "- 变量可以指向函数\n",
    "- 函数可以接受变量作为参数\n",
    "- 一个函数可以接受另外一个函数作为参数"
   ]
  },
  {
   "cell_type": "code",
   "execution_count": 4,
   "metadata": {},
   "outputs": [
    {
     "name": "stdout",
     "output_type": "stream",
     "text": [
      "10\n",
      "10\n"
     ]
    }
   ],
   "source": [
    "print(abs(-10))\n",
    "f = abs         # 可以赋值，说明变量可以指向一个函数\n",
    "print(f(-10))   # 调用f函数和调用abs函数的效果一致"
   ]
  },
  {
   "cell_type": "code",
   "execution_count": 19,
   "metadata": {},
   "outputs": [
    {
     "data": {
      "text/plain": [
       "2"
      ]
     },
     "execution_count": 19,
     "metadata": {},
     "output_type": "execute_result"
    }
   ],
   "source": [
    "abs = len #变量abs指向Len函数\n",
    "abs ([1,23])\n",
    "#abs(-10)  报错"
   ]
  },
  {
   "cell_type": "code",
   "execution_count": 20,
   "metadata": {},
   "outputs": [],
   "source": [
    "del abs"
   ]
  },
  {
   "cell_type": "code",
   "execution_count": 18,
   "metadata": {},
   "outputs": [
    {
     "data": {
      "text/plain": [
       "5"
      ]
     },
     "execution_count": 18,
     "metadata": {},
     "output_type": "execute_result"
    }
   ],
   "source": [
    "\"\"\"\n",
    "高阶函数\n",
    "\"\"\"\n",
    "def ccc(x,y,f):\n",
    "    return f(x)+f(y)\n",
    "ccc(-2,3,abs)"
   ]
  },
  {
   "cell_type": "markdown",
   "metadata": {},
   "source": [
    "### python内置高阶函数"
   ]
  },
  {
   "cell_type": "markdown",
   "metadata": {},
   "source": [
    "#### map()函数\n",
    "- 接收一个函数 f 和一个 list，并通过把函数 f 依次作用在 list 的每个元素上，得到一个**新**的 list 并返回。\n",
    "- 由于list包含的元素可以是任何类型，因此，可以处理包含任意类型的 list，只要传入的函数f可以处理这种数据类型"
   ]
  },
  {
   "cell_type": "code",
   "execution_count": null,
   "metadata": {},
   "outputs": [],
   "source": [
    "def f(x):\n",
    "    return x*x\n",
    "print map(f, [1, 2, 3, 4, 5, 6, 7, 8, 9])"
   ]
  },
  {
   "attachments": {
    "image.png": {
     "image/png": "[encoded data removed]"
    }
   },
   "cell_type": "markdown",
   "metadata": {},
   "source": [
    "![image.png](attachment:image.png)"
   ]
  },
  {
   "cell_type": "markdown",
   "metadata": {},
   "source": [
    "#### reduce()函数\n",
    "- reduce()函数接收两（三）个参数，一个函数 f，一个list，一个可选参数为初始值。\n",
    "- reduce()传入的函数 f 必须接收两个参数，reduce()对list的每个元素反复调用函数f，并返回最终结果值。"
   ]
  },
  {
   "cell_type": "code",
   "execution_count": 27,
   "metadata": {},
   "outputs": [
    {
     "name": "stdout",
     "output_type": "stream",
     "text": [
      "25\n",
      "125\n"
     ]
    }
   ],
   "source": [
    "#对 list 的所有元素求和\n",
    "from functools import reduce #reduce() 函数已经被从全局名字空间里移除了，放置在 functools 模块里，需要通过引入 functools 模块来调用 reduce() \n",
    "def f(x, y):\n",
    "    return x + y\n",
    "print(reduce(f, [1, 3, 5, 7, 9]))\n",
    "# 先计算头两个元素：f(1, 3)，结果为4；\n",
    "# 再把结果和第3个元素计算：f(4, 5)，结果为9；\n",
    "# 再把结果和第4个元素计算：f(9, 7)，结果为16；\n",
    "# 再把结果和第5个元素计算：f(16, 9)，结果为25；\n",
    "# 由于没有更多的元素了，计算结束，返回结果25。\n",
    "print(reduce(f, [1, 3, 5, 7, 9], 100))\n",
    "#计算初始值和第一个元素：f(100, 1)，结果为101"
   ]
  },
  {
   "cell_type": "markdown",
   "metadata": {},
   "source": [
    "#### filter()函数\n",
    "- filter()函数接收一个函数 f 和一个list，filter(function, iterable)\n",
    "     - function -- 判断函数 \n",
    "     - iterable -- 可迭代对象。\n",
    "- 函数 f 的作用是对每个元素进行判断，返回 True或 False，filter()根据判断结果自动过滤掉不符合条件的元素\n",
    "- filter函数返回一个迭代器对象，无法直接打印出内容，如果要转换为列表，可以使用 list() 来转换,。"
   ]
  },
  {
   "cell_type": "code",
   "execution_count": 34,
   "metadata": {},
   "outputs": [
    {
     "name": "stdout",
     "output_type": "stream",
     "text": [
      "[1, 3, 5, 7, 9]\n",
      "<filter object at 0x000001E642E68048>\n",
      "['test', 'str', 'END']\n"
     ]
    }
   ],
   "source": [
    "#从一个list [1, 4, 6, 7, 9, 12, 17]中删除偶数，保留奇数\n",
    "#首先，要编写一个判断奇数的函数：\n",
    "def is_odd(n):\n",
    "    return n % 2 == 1\n",
    "tmplist = filter(is_odd, [1, 2, 3, 4, 5, 6, 7, 8, 9, 10]) # 返回值需要赋值给变量。 \n",
    "newlist = list(tmplist)\n",
    "print(newlist)\n",
    "#删除 None 或者空字符串：\n",
    "def is_not_empty(s):\n",
    "    return s and len(s.strip()) > 0\n",
    "    #s.strip(rm) 删除 s 字符串中开头、结尾处的 rm 序列的字符，默认为空白符（包括'\\n', '\\r', '\\t', ' ')。\n",
    "print(filter(is_not_empty, ['test', None, '', 'str', '  ', 'END']))\n",
    "l = filter(is_not_empty, ['test', None, '', 'str', '  ', 'END'])\n",
    "s = list(l)\n",
    "print(s)"
   ]
  },
  {
   "cell_type": "markdown",
   "metadata": {},
   "source": [
    "#### sorted()函数\n",
    "- 对所有可迭代的对象进行排序操作\n",
    "- sorted(iterable, key=None, reverse=False)  \n",
    "    - iterable -- 可迭代对象。\n",
    "    - key      -- 主要是用来进行比较的元素，只有一个参数，具体的函数的参数就是取自于可迭代对象中，指定可迭代对象中的一个元素来进行排序。\n",
    "    - reverse  -- 排序规则，reverse = True 降序 ， reverse = False 升序（默认）。\n",
    "- sort 与 sorted 的区别：\n",
    "    - sort 是应用在 list 上的方法，sorted 可以对所有可迭代的对象进行排序操作。\n",
    "    - list 的 sort 方法返回的是对已经存在的列表进行操作，而内建函数 sorted 方法返回的是一个新的 list，而不是在原来的基础上进行的操作。\n",
    "- sorted()也可以对字符串进行排序，字符串默认按照ASCII大小来比较"
   ]
  },
  {
   "cell_type": "code",
   "execution_count": 42,
   "metadata": {},
   "outputs": [
    {
     "name": "stdout",
     "output_type": "stream",
     "text": [
      "[5, 9, 12, 21, 36]\n"
     ]
    }
   ],
   "source": [
    "# 对list进行顺序排序\n",
    "print(sorted([36, 5, 12, 9, 21]))"
   ]
  },
  {
   "cell_type": "code",
   "execution_count": 44,
   "metadata": {},
   "outputs": [
    {
     "name": "stdout",
     "output_type": "stream",
     "text": [
      "[7, 6, 5, 4, 3, 2, 1, 0]\n",
      "[7, 6, 5, 4, 3, 2, 1, 0]\n"
     ]
    }
   ],
   "source": [
    "# 对list进行逆序排序（高阶函数）\n",
    "\"\"\"\n",
    "利用key进行倒序排序\n",
    "\"\"\"\n",
    "example_list = [5, 0, 6, 1, 2, 7, 3, 4]\n",
    "result_list = sorted(example_list, key=lambda x: x*-1)\n",
    "print(result_list)\n",
    "\"\"\"\n",
    "利用reverse=True进行排序\n",
    "\"\"\"\n",
    "example_list = [5, 0, 6, 1, 2, 7, 3, 4]\n",
    "s = sorted(example_list, reverse=True)\n",
    "print(s)"
   ]
  },
  {
   "cell_type": "code",
   "execution_count": null,
   "metadata": {},
   "outputs": [],
   "source": []
  }
 ],
 "metadata": {
  "kernelspec": {
   "display_name": "Python 3",
   "language": "python",
   "name": "python3"
  },
  "language_info": {
   "codemirror_mode": {
    "name": "ipython",
    "version": 3
   },
   "file_extension": ".py",
   "mimetype": "text/x-python",
   "name": "python",
   "nbconvert_exporter": "python",
   "pygments_lexer": "ipython3",
   "version": "3.7.0"
  }
 },
 "nbformat": 4,
 "nbformat_minor": 2
}
