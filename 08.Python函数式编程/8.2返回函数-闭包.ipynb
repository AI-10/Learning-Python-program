{
 "cells": [
  {
   "cell_type": "markdown",
   "metadata": {},
   "source": [
    "### 返回函数\n",
    "- Python的函数不但可以返回int、str、list、dict等数据类型，还可以返回函数！"
   ]
  },
  {
   "cell_type": "code",
   "execution_count": 5,
   "metadata": {},
   "outputs": [
    {
     "name": "stdout",
     "output_type": "stream",
     "text": [
      "call f()...\n",
      "call g()...\n"
     ]
    },
    {
     "data": {
      "text/plain": [
       "<function __main__.f.<locals>.g()>"
      ]
     },
     "execution_count": 5,
     "metadata": {},
     "output_type": "execute_result"
    }
   ],
   "source": [
    "#在函数 f 内部又定义函数 g,由于函数 g 也是一个对象，函数名 g 就是指向函数 g 的变量，所以，最外层函数 f 可以返回变量 g，也就是函数 g 本身。\n",
    "def f():\n",
    "    print ('call f()...')\n",
    "    # 定义函数g:\n",
    "    def g():\n",
    "        print ('call g()...')\n",
    "    # 返回函数g:\n",
    "    return g\n",
    "x = f()  # 调用f()\n",
    "x()      # x指向函数，因此可以调用,调用x()就是执行g()函数定义的代码\n",
    "x        # 变量x是f()返回的函数："
   ]
  },
  {
   "cell_type": "markdown",
   "metadata": {},
   "source": [
    "- 注意区分返回函数和返回值"
   ]
  },
  {
   "cell_type": "code",
   "execution_count": 6,
   "metadata": {},
   "outputs": [],
   "source": [
    "def myabs():\n",
    "    return abs      # 返回函数\n",
    "def myabs2(x):\n",
    "    return abs(x)   # 返回函数调用的结果，返回值是一个数值"
   ]
  },
  {
   "cell_type": "markdown",
   "metadata": {},
   "source": [
    "- 返回函数可以把一些计算延迟执行"
   ]
  },
  {
   "cell_type": "code",
   "execution_count": 7,
   "metadata": {},
   "outputs": [
    {
     "data": {
      "text/plain": [
       "10"
      ]
     },
     "execution_count": 7,
     "metadata": {},
     "output_type": "execute_result"
    }
   ],
   "source": [
    "def calc_sum(lst):\n",
    "    return sum(lst)\n",
    "#调用calc_sum()函数时，将立刻计算并得到结果：\n",
    "calc_sum([1, 2, 3, 4])"
   ]
  },
  {
   "cell_type": "code",
   "execution_count": 10,
   "metadata": {},
   "outputs": [
    {
     "name": "stdout",
     "output_type": "stream",
     "text": [
      "<function calc_sum.<locals>.lazy_sum at 0x000002DD96CCC840>\n",
      "10\n"
     ]
    }
   ],
   "source": [
    "def calc_sum(lst):\n",
    "    def lazy_sum():\n",
    "        return sum(lst)\n",
    "    return lazy_sum\n",
    "# 调用calc_sum()并没有计算出结果，而是返回函数:\n",
    "f = calc_sum([1, 2, 3, 4])\n",
    "print(f)\n",
    "print(f())"
   ]
  },
  {
   "cell_type": "code",
   "execution_count": 12,
   "metadata": {},
   "outputs": [
    {
     "name": "stdout",
     "output_type": "stream",
     "text": [
      "24\n"
     ]
    }
   ],
   "source": [
    "#编写一个函数calc_prod(lst)，它接收一个list，返回一个函数，返回函数可以计算参数的乘积。\n",
    "from functools import reduce\n",
    "def calc_prod(lst):\n",
    "    def lazy_prod():\n",
    "        def f(x, y):\n",
    "            return x * y\n",
    "        return reduce(f, lst)\n",
    "    return lazy_prod\n",
    "f = calc_prod([1, 2, 3, 4])\n",
    "print (f())"
   ]
  },
  {
   "cell_type": "markdown",
   "metadata": {},
   "source": [
    "### 闭包\n",
    "- 内层函数引用了外层函数的变量（参数也算变量），然后返回内层函数的情况，称为闭包（Closure）。\n",
    "- 闭包的特点是返回的函数还引用了外层函数的局部变量，所以，要正确使用闭包，就要确保引用的局部变量在函数返回后不能变。\n",
    "- 在函数内部定义的函数和外部定义的函数是一样的，只是他们无法被外部访问："
   ]
  },
  {
   "cell_type": "code",
   "execution_count": null,
   "metadata": {},
   "outputs": [],
   "source": [
    "def calc_sum(lst):\n",
    "    def lazy_sum():\n",
    "        return sum(lst)\n",
    "    return lazy_sum\n",
    "#没法把 lazy_sum 移到 calc_sum 的外部，因为它引用了 calc_sum 的参数 lst。"
   ]
  },
  {
   "cell_type": "code",
   "execution_count": 22,
   "metadata": {},
   "outputs": [
    {
     "name": "stdout",
     "output_type": "stream",
     "text": [
      "9\n",
      "9\n",
      "9\n",
      "1 4 9\n"
     ]
    }
   ],
   "source": [
    "# 希望一次返回3个函数，分别计算1x1,2x2,3x3:\n",
    "def count():\n",
    "    fs = []\n",
    "    for i in range(1, 4):\n",
    "        def f():\n",
    "             return i*i\n",
    "        fs.append(f)\n",
    "    return fs\n",
    "f1, f2, f3 = count()\n",
    "print(f1()) # 因为f1现在才计算i*i，但现在i的值已经变为3,因此，返回函数不要引用任何循环变量，或者后续会发生变化的变量。\n",
    "print(f2())\n",
    "print(f3())\n",
    "# 修改：\n",
    "def count():\n",
    "    fs = []\n",
    "    for i in range(1, 4):\n",
    "        def f(j):\n",
    "            def g():\n",
    "                return j*j\n",
    "            return g\n",
    "        r = f(i)\n",
    "        fs.append(r)\n",
    "    return fs\n",
    "f1, f2, f3 = count()\n",
    "print (f1(), f2(), f3())"
   ]
  },
  {
   "cell_type": "code",
   "execution_count": null,
   "metadata": {},
   "outputs": [],
   "source": []
  },
  {
   "cell_type": "markdown",
   "metadata": {},
   "source": []
  },
  {
   "cell_type": "code",
   "execution_count": null,
   "metadata": {},
   "outputs": [],
   "source": []
  }
 ],
 "metadata": {
  "kernelspec": {
   "display_name": "Python 3",
   "language": "python",
   "name": "python3"
  },
  "language_info": {
   "codemirror_mode": {
    "name": "ipython",
    "version": 3
   },
   "file_extension": ".py",
   "mimetype": "text/x-python",
   "name": "python",
   "nbconvert_exporter": "python",
   "pygments_lexer": "ipython3",
   "version": "3.7.0"
  }
 },
 "nbformat": 4,
 "nbformat_minor": 2
}
