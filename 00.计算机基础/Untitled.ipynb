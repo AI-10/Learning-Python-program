{
 "cells": [
  {
   "cell_type": "markdown",
   "metadata": {},
   "source": [
    "# 数据的存储"
   ]
  },
  {
   "cell_type": "markdown",
   "metadata": {},
   "source": [
    "#### 计算机的用途：\n",
    "    - 存储数据  计算数据"
   ]
  },
  {
   "cell_type": "markdown",
   "metadata": {},
   "source": [
    "#### 数据存在哪里\n",
    "    - 内存 [百度](https://baike.so.com/doc/176561-186541.html)"
   ]
  },
  {
   "cell_type": "markdown",
   "metadata": {},
   "source": [
    "#### 数据怎么存储\n",
    "    - 先开辟内存，最小单位时字节，再存储数据，二进制存储（如：四字节存储 00000000 00000000 00000000 00001010），最高位1为负数，0为正数"
   ]
  },
  {
   "cell_type": "markdown",
   "metadata": {},
   "source": [
    "#### 进制转换\n",
    "    - 存储数据二进制，内存地址十六进制"
   ]
  },
  {
   "cell_type": "markdown",
   "metadata": {},
   "source": [
    "# 原码 反码 补码"
   ]
  },
  {
   "cell_type": "markdown",
   "metadata": {},
   "source": [
    "####   机器数和真值\n",
    "- 机器数  ： 一个数在计算机中的二进制表示形式,  叫做这个数的机器数。机器数是带符号的，在计算机用一个数的最高位存放符号, 正数为0, 负数为1.\n",
    "    - 比如，十进制中的数 +3 ，计算机字长为8位，转换成二进制就是00000011，如果是 -3 ，就是 10000011 这里的 00000011 和 10000011 就是机器数。\n",
    "    \n",
    "- 真值    ： 因为第一位是符号位，所以机器数的形式值就不等于真正的数值，为区别起见，将带符号位的机器数对应的真正数值称为机器数的真值。\n",
    "    -例如上面的有符号数 10000011，其最高位1代表负，其真正数值是 -3 而不是形式值131（10000011转换成十进制等于131）。\n"
   ]
  },
  {
   "cell_type": "markdown",
   "metadata": {},
   "source": [
    "#### 原码, 反码, 补码的基础概念和计算方法\n",
    "- **原码**就是符号位加上真值的绝对值, 即用第一位表示符号, 其余位表示值. 比如如果是8位二进制\n",
    "    - [+1]原 = 0000 0001\n",
    "    - [-1]原 = 1000 0001\n",
    "        - 第一位是符号位. 因为第一位是符号位, 所以8位二进制数的取值范围就是:[1111 1111 , 0111 1111]，即，[-127 , 127]        \n",
    "        - 原码是人脑最容易理解和计算的表示方式\n",
    "        \n",
    "        \n",
    "- **反码**正数的反码是其本身，负数的反码是在其原码的基础上, 符号位不变，其余各个位取反。\n",
    "    - [+1] = [00000001]原 = [00000001]反\n",
    "    - [-1]  = [10000001]原 = [11111110]反\n",
    "        - 如果一个反码表示的是负数, 人脑无法直观的看出来它的数值. 通常要将其转换成原码再计算.\n",
    "        \n",
    "        \n",
    "        \n",
    "- **补码**正数的补码就是其本身，负数的补码是在其原码的基础上, 符号位不变, 其余各位取反, 最后+1. (即在反码的基础上+1)\n",
    "    - [+1] = [00000001]原 = [00000001]反 = [00000001]补\n",
    "    - [-1] = [10000001]原 = [11111110]反 = [11111111]补\n",
    "        - 对于负数, 补码表示方式也是人脑无法直观看出其数值的. 通常也需要转换成原码在计算其数值."
   ]
  },
  {
   "cell_type": "markdown",
   "metadata": {},
   "source": [
    "https://www.cnblogs.com/zhangziqiu/archive/2011/03/30/ComputerCode.html"
   ]
  },
  {
   "cell_type": "code",
   "execution_count": null,
   "metadata": {},
   "outputs": [],
   "source": []
  },
  {
   "cell_type": "code",
   "execution_count": null,
   "metadata": {},
   "outputs": [],
   "source": []
  },
  {
   "cell_type": "code",
   "execution_count": null,
   "metadata": {},
   "outputs": [],
   "source": []
  },
  {
   "cell_type": "code",
   "execution_count": null,
   "metadata": {},
   "outputs": [],
   "source": []
  },
  {
   "cell_type": "markdown",
   "metadata": {},
   "source": []
  }
 ],
 "metadata": {
  "kernelspec": {
   "display_name": "Python 3",
   "language": "python",
   "name": "python3"
  },
  "language_info": {
   "codemirror_mode": {
    "name": "ipython",
    "version": 3
   },
   "file_extension": ".py",
   "mimetype": "text/x-python",
   "name": "python",
   "nbconvert_exporter": "python",
   "pygments_lexer": "ipython3",
   "version": "3.7.0"
  }
 },
 "nbformat": 4,
 "nbformat_minor": 2
}
