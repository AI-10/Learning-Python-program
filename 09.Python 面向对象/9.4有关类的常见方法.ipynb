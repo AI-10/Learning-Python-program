{
 "cells": [
  {
   "cell_type": "code",
   "execution_count": null,
   "metadata": {},
   "outputs": [],
   "source": [
    "\"\"\"\n",
    "__del__方法(折构函数)\n",
    "\"\"\"\n",
    "# 用于实现对象被销毁所需的操作\n",
    "# Python实现自动的垃圾回收机制，当对象没有被引用时（引用计数为0），则调用折构函数\n",
    "# 一般不需要自己定义\n",
    "\n",
    "class Person:\n",
    "    \n",
    "    def __del__(self):\n",
    "        print(\"{0}\".format(self))\n",
    "        \n",
    "p1 = Person()\n",
    "p2 = Person()\n",
    "print(\"******\")\n",
    "print(p1,p2)\n",
    "del p1\n",
    "print(\"结束\")"
   ]
  },
  {
   "cell_type": "code",
   "execution_count": null,
   "metadata": {},
   "outputs": [],
   "source": [
    "\"\"\"\n",
    "__call__方法\n",
    "\"\"\"\n",
    "# 定义了此方法的对象，称为可调用对象，即该对象可以像函数一样调用"
   ]
  },
  {
   "cell_type": "code",
   "execution_count": 4,
   "metadata": {},
   "outputs": [
    {
     "name": "stdout",
     "output_type": "stream",
     "text": [
      "['__class__', '__delattr__', '__dir__', '__doc__', '__eq__', '__format__', '__ge__', '__getattribute__', '__gt__', '__hash__', '__init__', '__init_subclass__', '__le__', '__lt__', '__ne__', '__new__', '__reduce__', '__reduce_ex__', '__repr__', '__setattr__', '__sizeof__', '__str__', '__subclasshook__']\n"
     ]
    }
   ],
   "source": [
    "\"\"\"\n",
    "dir()查看属性\n",
    "\"\"\"\n",
    "print(dir(object))# 查看object类的所有属性"
   ]
  },
  {
   "cell_type": "code",
   "execution_count": null,
   "metadata": {},
   "outputs": [],
   "source": [
    "\"\"\"\n",
    "mro()查看类的层次结构\n",
    "\"\"\""
   ]
  },
  {
   "cell_type": "code",
   "execution_count": 9,
   "metadata": {},
   "outputs": [
    {
     "name": "stdout",
     "output_type": "stream",
     "text": [
      "<__main__.Person object at 0x000001FFEA42C550>\n",
      "方法重写\n"
     ]
    }
   ],
   "source": [
    "\"\"\"\n",
    "__str__()方法\n",
    "\"\"\"\n",
    "# 返回一个对于对象的描述，对应内置函数str(),常用于print()方法，帮助我们查看信息，可以重写\n",
    "class Person(object):\n",
    "    \n",
    "    def __init__(self, name, gender):\n",
    "        self.name = name\n",
    "        self.gender = gender\n",
    "        \n",
    "s = Person(\"ww\",\"男\")\n",
    "print(s)\n",
    "\n",
    "class Person(object):\n",
    "    \n",
    "    def __init__(self, name, gender):\n",
    "        self.name = name\n",
    "        self.gender = gender\n",
    "    \n",
    "    def __str__(self):# 重写str方法\n",
    "        return \"方法重写\"\n",
    "s = Person(\"ww\",\"男\")\n",
    "print(s)\n"
   ]
  },
  {
   "cell_type": "code",
   "execution_count": null,
   "metadata": {},
   "outputs": [],
   "source": []
  }
 ],
 "metadata": {
  "kernelspec": {
   "display_name": "Python 3",
   "language": "python",
   "name": "python3"
  },
  "language_info": {
   "codemirror_mode": {
    "name": "ipython",
    "version": 3
   },
   "file_extension": ".py",
   "mimetype": "text/x-python",
   "name": "python",
   "nbconvert_exporter": "python",
   "pygments_lexer": "ipython3",
   "version": "3.7.0"
  }
 },
 "nbformat": 4,
 "nbformat_minor": 2
}
