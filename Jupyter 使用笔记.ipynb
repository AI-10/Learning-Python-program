{
 "cells": [
  {
   "cell_type": "markdown",
   "metadata": {},
   "source": [
    "# Markdown笔记\n",
    "    - 斜体  双星号或下划线 *呼吁* _huyu_\n",
    "    - 粗体  四星号或双下划线 **呼吁**  __huyu__\n",
    "    - 删除线  ~~delete~~\n",
    "    _ 分级标题  \n",
    "            - 双级标题   一级标题=====    二级标题------\n",
    "            - 多级标题1  ######  一级到六级 一个# 到六个######\n",
    "    -超链接 [百度](http//www.baidu.com)\n",
    "            或者[百度](1)\n",
    "                (1):http://www.baidu.com\n",
    "    -列表 有序：序号+\".\"，可以自动调整序号。要保留数字，输入 \\  如：123.\\\n",
    "          无序：*\n",
    "    -引用 \">\"\">>>...\"\n",
    "    - 表格 |。。。 |。。。 |。。。 |。。。 |\n",
    "           |-|-|-|\n",
    "           "
   ]
  },
  {
   "cell_type": "markdown",
   "metadata": {},
   "source": [
    "*呼吁*\n",
    "**呼吁**\n",
    "_huyu_\n",
    "__huyu__\n",
    "~~gggg~~"
   ]
  },
  {
   "cell_type": "markdown",
   "metadata": {},
   "source": [
    "# 换\n",
    "## 换\n",
    "### 换"
   ]
  },
  {
   "cell_type": "markdown",
   "metadata": {},
   "source": [
    "1.[百度](http://www.baidu.com)\n",
    "2.[百度](1)\n",
    "(1):http://www.baidu.com"
   ]
  },
  {
   "cell_type": "markdown",
   "metadata": {},
   "source": [
    "# 无序\n",
    "* ihuahc\n",
    "* hav\n",
    "* njansj"
   ]
  },
  {
   "cell_type": "markdown",
   "metadata": {},
   "source": [
    "# 有序\n",
    "1. 爸爸还是\n",
    "2. 哈哈不会\n",
    "4. 好巴适\n",
    "\n",
    "7.\\ uyua "
   ]
  },
  {
   "cell_type": "markdown",
   "metadata": {},
   "source": [
    "|瓜果蔬菜|sd|sf|\n",
    "|-|-|-|\n",
    "|sd|ff|g|"
   ]
  }
 ],
 "metadata": {
  "kernelspec": {
   "display_name": "Python 3",
   "language": "python",
   "name": "python3"
  },
  "language_info": {
   "codemirror_mode": {
    "name": "ipython",
    "version": 3
   },
   "file_extension": ".py",
   "mimetype": "text/x-python",
   "name": "python",
   "nbconvert_exporter": "python",
   "pygments_lexer": "ipython3",
   "version": "3.7.0"
  }
 },
 "nbformat": 4,
 "nbformat_minor": 2
}
