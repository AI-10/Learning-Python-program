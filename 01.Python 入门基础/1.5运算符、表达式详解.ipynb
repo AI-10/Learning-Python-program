{
 "cells": [
  {
   "cell_type": "markdown",
   "metadata": {},
   "source": [
    "# 表达式 与 运算符\n",
    "### 包括：算数···，赋值···，复合···，按位···，移位···，关系···，逻辑···，成员···，身份···等\n",
    "    - 表达式：由变量、常量和运算符组成的式子\n",
    "    - 阅读表达式  ： 功能 + 值"
   ]
  },
  {
   "cell_type": "markdown",
   "metadata": {},
   "source": [
    "### 算数运算符、算数表达式"
   ]
  },
  {
   "cell_type": "code",
   "execution_count": 1,
   "metadata": {},
   "outputs": [
    {
     "name": "stdout",
     "output_type": "stream",
     "text": [
      "8\n",
      "14\n",
      "33\n",
      "3.6666666666666665\n",
      "1331\n",
      "1331\n",
      "2\n",
      "3\n"
     ]
    }
   ],
   "source": [
    "\"\"\"\n",
    "算数运算符\n",
    "\"\"\"\n",
    "#  +  -  *  /   **  %    //\n",
    "# 加 减 乘 除  幂 取模  取整\n",
    "\"\"\"\n",
    "算数表达式\n",
    "\"\"\"\n",
    "#功能：进行相关符号的数学运算，变量的值是不变的\n",
    "# 值 ：先关的运算结果\n",
    "a = 11\n",
    "b = 3\n",
    "print(a - b)\n",
    "print(a + b)\n",
    "print(a * b)\n",
    "print(a / b)\n",
    "print(a ** b),print(pow(a,b))\n",
    "print(a % b)\n",
    "print(a // b)"
   ]
  },
  {
   "cell_type": "markdown",
   "metadata": {},
   "source": [
    "### 复合运算符、复合表达式"
   ]
  },
  {
   "cell_type": "code",
   "execution_count": 3,
   "metadata": {},
   "outputs": [
    {
     "name": "stdout",
     "output_type": "stream",
     "text": [
      "2\n"
     ]
    }
   ],
   "source": [
    "\"\"\"\n",
    "复合运算符\n",
    "\"\"\"\n",
    "#  +=  -=  *=  /=  **=  %=  //=\n",
    "\"\"\"\n",
    "复合表达式\n",
    "\"\"\"\n",
    "a = 1\n",
    "a += 1\n",
    "print(a)"
   ]
  },
  {
   "cell_type": "markdown",
   "metadata": {},
   "source": [
    "### 赋值运算符、赋值表达式"
   ]
  },
  {
   "cell_type": "code",
   "execution_count": 2,
   "metadata": {},
   "outputs": [
    {
     "name": "stdout",
     "output_type": "stream",
     "text": [
      "12 12\n"
     ]
    }
   ],
   "source": [
    "\"\"\"\n",
    "赋值运算符\n",
    "\"\"\"\n",
    "#  =\n",
    "\"\"\"\n",
    "赋值表达式 \n",
    "\"\"\"\n",
    "#功能：计算等号右侧的值并赋值给左侧的变量\n",
    "#格式：变量 = 表达式\n",
    "b = a = 11 + 1\n",
    "print(a,b)"
   ]
  },
  {
   "cell_type": "markdown",
   "metadata": {},
   "source": [
    "### 关系运算符与关系运算表达式"
   ]
  },
  {
   "cell_type": "code",
   "execution_count": 6,
   "metadata": {},
   "outputs": [
    {
     "name": "stdout",
     "output_type": "stream",
     "text": [
      "True False\n",
      "3\n",
      "True\n"
     ]
    }
   ],
   "source": [
    "\"\"\"\n",
    "关系运算符：==     !=      >      <     >=    <=\n",
    "\"\"\"\n",
    "print(4 == 4,2>5)\n",
    "\"\"\"\n",
    "关系运算表达式\n",
    "\"\"\"\n",
    "#表达式：a   op   b\n",
    "#功能：计算表达式1和2\n",
    "#结果：True   False\n",
    "\n",
    "T = eval(input())\n",
    "print(T == 3)"
   ]
  },
  {
   "cell_type": "markdown",
   "metadata": {},
   "source": [
    "### 逻辑运算符、逻辑表达式"
   ]
  },
  {
   "cell_type": "code",
   "execution_count": 9,
   "metadata": {},
   "outputs": [
    {
     "name": "stdout",
     "output_type": "stream",
     "text": [
      "yes\n",
      "fff\n"
     ]
    }
   ],
   "source": [
    "\"\"\"\n",
    "逻辑运算符\n",
    "\"\"\"\n",
    "# 与 and   或 or  非 not\n",
    "\"\"\"\n",
    "逻辑表达式\n",
    "\"\"\"\n",
    "#   a 逻辑运算符 b\n",
    "# and 全真则真有假则假   or有真则真全假则假 not 颠倒真假\n",
    "if 10 and 20:\n",
    "    print(\"yes\")\n",
    "if 0 and 19: #为假 后面的不执行\n",
    "    print(\"none\")\n",
    "if not 0:\n",
    "    print(\"fff\")"
   ]
  },
  {
   "cell_type": "markdown",
   "metadata": {},
   "source": [
    "### 集合运算符、集合表达式\n",
    "- 交 : a & b\n",
    "- 差 : a - b\n",
    "- 并 : a | b\n",
    "- 补 : a ^ b"
   ]
  },
  {
   "cell_type": "markdown",
   "metadata": {},
   "source": [
    "### 成员运算符"
   ]
  },
  {
   "cell_type": "code",
   "execution_count": 11,
   "metadata": {},
   "outputs": [
    {
     "data": {
      "text/plain": [
       "'\\n成员运算符\\n'"
      ]
     },
     "execution_count": 11,
     "metadata": {},
     "output_type": "execute_result"
    }
   ],
   "source": [
    "\"\"\"\n",
    "成员运算符\n",
    "\"\"\"\n",
    "#in :找到返回Ture  否则返回False \n",
    "#not in : 与in相反"
   ]
  },
  {
   "cell_type": "markdown",
   "metadata": {},
   "source": [
    "### 身份运算符"
   ]
  },
  {
   "cell_type": "code",
   "execution_count": 12,
   "metadata": {},
   "outputs": [
    {
     "data": {
      "text/plain": [
       "'\\n身份运算符\\n'"
      ]
     },
     "execution_count": 12,
     "metadata": {},
     "output_type": "execute_result"
    }
   ],
   "source": [
    "\"\"\"\n",
    "身份运算符\n",
    "\"\"\"\n",
    "#is：   判断两个标识符是不是引用同一个对象\n",
    "#not is 判断两个标识符是不是引用不同对象"
   ]
  },
  {
   "cell_type": "markdown",
   "metadata": {},
   "source": [
    "### 位置运算符、位置表达式"
   ]
  },
  {
   "cell_type": "code",
   "execution_count": 11,
   "metadata": {},
   "outputs": [
    {
     "name": "stdout",
     "output_type": "stream",
     "text": [
      "5\n",
      "7\n",
      "2\n",
      "-8\n"
     ]
    },
    {
     "data": {
      "text/plain": [
       "'\\n位置运算表达式\\n'"
      ]
     },
     "execution_count": 11,
     "metadata": {},
     "output_type": "execute_result"
    }
   ],
   "source": [
    "\"\"\"\n",
    "位置运算符\n",
    "\"\"\"\n",
    "#  按位运算就是把数字看做二进制来进行计算\n",
    "# &  按位与运算符   转换为二进制，如果相对应的位置都为1，则为1，否则为0\n",
    "# \\  按位或运算符   转换为二进制，如果相对应的位置有一个为1，则为1，否则为0\n",
    "# ^  按位异或运算符 转换为二进制，如果相对应的位置相异时，则为1，否则为0\n",
    "# ~  按位取反运算符 转换为二进制，二进制数取反\n",
    "print(5 & 7)# 5：0b101  7：0b111  对应位置综合：0b101 = 5\n",
    "print(5 | 7)#5：0b101  7：0b111  对应位置综合：0b111 = 7\n",
    "print(5 ^ 7)#5：0b101  7：0b111  对应位置综合：0b010 = 2\n",
    "print(~ 7)"
   ]
  },
  {
   "cell_type": "markdown",
   "metadata": {},
   "source": [
    "### 移位运算符"
   ]
  },
  {
   "cell_type": "code",
   "execution_count": 25,
   "metadata": {},
   "outputs": [
    {
     "name": "stdout",
     "output_type": "stream",
     "text": [
      "0b1101\n",
      "3\n",
      "-4\n",
      "3\n"
     ]
    }
   ],
   "source": [
    "# <<  二进制左移，高位丢弃，低位补0\n",
    "# >>  二进制右移，低位丢弃，高位补0\n",
    "print(bin(13))#十进制转换为二进制\n",
    "print(13 >> 2)  #二进制左移两位01100\n",
    "print(-13 >> 2) \n",
    "print(int(\"0011\",2))#将二进制转换为十进制  后面的2表示要转换的数值的类型"
   ]
  },
  {
   "cell_type": "markdown",
   "metadata": {},
   "source": [
    "# 运算的优先级"
   ]
  },
  {
   "cell_type": "code",
   "execution_count": null,
   "metadata": {},
   "outputs": [],
   "source": [
    "\"\"\"\n",
    "**     \n",
    "~ + -  \n",
    "* / % //\n",
    "&\n",
    "^ |\n",
    "<= < >= >\n",
    "== !=\n",
    "= %= += -=等\n",
    "is  is not \n",
    "in  not in\n",
    "and or not\n",
    "\"\"\"\n",
    "\"\"\"\n",
    "括号优化  短路优先\n",
    "\"\"\""
   ]
  }
 ],
 "metadata": {
  "kernelspec": {
   "display_name": "Python 3",
   "language": "python",
   "name": "python3"
  },
  "language_info": {
   "codemirror_mode": {
    "name": "ipython",
    "version": 3
   },
   "file_extension": ".py",
   "mimetype": "text/x-python",
   "name": "python",
   "nbconvert_exporter": "python",
   "pygments_lexer": "ipython3",
   "version": "3.7.0"
  }
 },
 "nbformat": 4,
 "nbformat_minor": 2
}
