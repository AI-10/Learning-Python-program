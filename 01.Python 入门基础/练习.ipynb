{
 "cells": [
  {
   "cell_type": "code",
   "execution_count": 7,
   "metadata": {},
   "outputs": [
    {
     "name": "stdout",
     "output_type": "stream",
     "text": [
      "1.44-----0.69\n"
     ]
    }
   ],
   "source": [
    "T = pow(1.001,365)\n",
    "D = pow(0.999,365)\n",
    "print(\"{:.2f}-----{:.2f}\".format(T,D))"
   ]
  },
  {
   "cell_type": "code",
   "execution_count": 11,
   "metadata": {},
   "outputs": [
    {
     "name": "stdout",
     "output_type": "stream",
     "text": [
      "工作日的力量: 4.63 \n"
     ]
    }
   ],
   "source": [
    "dayup = 1.0\n",
    "dayfactor = 0.01\n",
    "for i in range(365):\n",
    "    if i % 7 in [0,6]:\n",
    "        dayup = dayup* (1-dayfactor)\n",
    "    else:\n",
    "        dayup = dayup* ( 1+dayfactor)\n",
    "print(\"工作日的力量: {:.2f} \".format(dayup))\n"
   ]
  },
  {
   "cell_type": "code",
   "execution_count": 39,
   "metadata": {},
   "outputs": [
    {
     "name": "stdout",
     "output_type": "stream",
     "text": [
      "工作日的努力参数是:  0.019 \n"
     ]
    }
   ],
   "source": [
    "#DayDayUpQ4. py\n",
    "def dayUP(df):\n",
    "    dayup=1\n",
    "    for i in range (365):\n",
    "        if i %7 in [6,0]:\n",
    "            dayup = dayup*(1 - 0.01)\n",
    "        else:\n",
    "            dayup = dayup*(1 + df)\n",
    "    return dayup\n",
    "df = 0.01\n",
    "while  dayUP(df) < 37.78 :\n",
    "    df += 0.001\n",
    "print(\"工作日的努力参数是: {: .3f} \" . format (df))"
   ]
  },
  {
   "cell_type": "code",
   "execution_count": null,
   "metadata": {},
   "outputs": [],
   "source": []
  }
 ],
 "metadata": {
  "kernelspec": {
   "display_name": "Python 3",
   "language": "python",
   "name": "python3"
  },
  "language_info": {
   "codemirror_mode": {
    "name": "ipython",
    "version": 3
   },
   "file_extension": ".py",
   "mimetype": "text/x-python",
   "name": "python",
   "nbconvert_exporter": "python",
   "pygments_lexer": "ipython3",
   "version": "3.7.0"
  }
 },
 "nbformat": 4,
 "nbformat_minor": 2
}
