{
 "cells": [
  {
   "cell_type": "markdown",
   "metadata": {},
   "source": [
    "### 输入"
   ]
  },
  {
   "cell_type": "markdown",
   "metadata": {},
   "source": [
    "- 输入input可以从控制台接受数据，input语句的“”中的内容是提示信息，控制台并不接受“”中的内容\n",
    "- input的内容可以进行赋值\n",
    "- input输入的数据是字符串形式，对于数字可以用eval（）函数去掉字符串两边的引号,变成数字"
   ]
  },
  {
   "cell_type": "code",
   "execution_count": 15,
   "metadata": {},
   "outputs": [
    {
     "name": "stdout",
     "output_type": "stream",
     "text": [
      "请输入:3\n",
      "<class 'str'>\n"
     ]
    }
   ],
   "source": [
    "T = input(\"请输入:\")\n",
    "print(type(T))"
   ]
  },
  {
   "cell_type": "code",
   "execution_count": 16,
   "metadata": {},
   "outputs": [
    {
     "name": "stdout",
     "output_type": "stream",
     "text": [
      "请输入:3\n",
      "<class 'int'>\n"
     ]
    }
   ],
   "source": [
    "A = eval(input(\"请输入:\"))\n",
    "print(type(A))"
   ]
  },
  {
   "cell_type": "markdown",
   "metadata": {},
   "source": [
    "### 输出"
   ]
  },
  {
   "cell_type": "markdown",
   "metadata": {},
   "source": [
    "- 输出：print可以输出运算后结果输出到控制台\n",
    "- 格式化输出：格式化是对字符串进行格式表达的方式\n",
    "    - 字符串格式化使用.format()方法，用法:<模板字符串> .format( <逗号分隔的参数>)\n",
    "    - 其格式控制包括填充、对齐、宽度、分隔、精度、类型"
   ]
  },
  {
   "cell_type": "code",
   "execution_count": 29,
   "metadata": {},
   "outputs": [
    {
     "name": "stdout",
     "output_type": "stream",
     "text": [
      "输出1为*******20.00********\n",
      "输出2为*******30.00********\n"
     ]
    },
    {
     "data": {
      "text/plain": [
       "'\\n上述表达式含义：将format()中的数字依次填入到左边的两个{}中，并按{}中的规定格式表述\\n：  表示取format()中的那个位置的数据，默认按顺序依次取值\\n20 表示输出的长度\\n^  表示展示位置为规定长度的中间\\n*   表示空余位置用这个符号填充\\n， 表示用千位分隔符表示数据\\n.2  表示数据精度为两位\\nf   表示输出为浮点数类型\\n'"
      ]
     },
     "execution_count": 29,
     "metadata": {},
     "output_type": "execute_result"
    }
   ],
   "source": [
    "# 格式化输出:\n",
    "print(\"输出1为{:*^20,.2f}\\n输出2为{:*^20,.2f}\".format(20,30))\n",
    "\"\"\"\n",
    "上述表达式含义：将format()中的数字依次填入到左边的两个{}中，并按{}中的规定格式表述\n",
    "：  表示取format()中的那个位置的数据，默认按顺序依次取值\n",
    "20 表示输出的长度\n",
    "^  表示展示位置为规定长度的中间\n",
    "*   表示空余位置用这个符号填充\n",
    "， 表示用千位分隔符表示数据\n",
    ".2  表示数据精度为两位\n",
    "f   表示输出为浮点数类型\n",
    "\"\"\""
   ]
  },
  {
   "cell_type": "code",
   "execution_count": null,
   "metadata": {},
   "outputs": [],
   "source": []
  }
 ],
 "metadata": {
  "kernelspec": {
   "display_name": "Python 3",
   "language": "python",
   "name": "python3"
  },
  "language_info": {
   "codemirror_mode": {
    "name": "ipython",
    "version": 3
   },
   "file_extension": ".py",
   "mimetype": "text/x-python",
   "name": "python",
   "nbconvert_exporter": "python",
   "pygments_lexer": "ipython3",
   "version": "3.7.0"
  }
 },
 "nbformat": 4,
 "nbformat_minor": 2
}
