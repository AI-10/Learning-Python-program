{
 "cells": [
  {
   "cell_type": "markdown",
   "metadata": {},
   "source": [
    "### 递归函数\n",
    "- 递归调用：一个函数调用自身就叫递归调用\n",
    "- 递归函数：一个会调用自身的函数就叫递归函数\n",
    "    - **凡是循环能做的是，递归就能做**\n",
    "- 使用递归函数需要注意防止栈溢出。\n",
    "    - 在计算机中，函数调用是通过栈（stack）这种数据结构实现的，每当进入一个函数调用，栈就会加一层栈帧，每当函数返回，栈就会减一层栈帧。\n",
    "    - 由于栈的大小不是无限的，所以，递归调用的次数过多，会导致栈溢出。可以试试计算 fact(10000)。"
   ]
  },
  {
   "cell_type": "markdown",
   "metadata": {},
   "source": [
    "### 书写方式"
   ]
  },
  {
   "cell_type": "markdown",
   "metadata": {},
   "source": [
    "- 写出临界条件，\n",
    "- 找这一次与上一次的关系\n",
    "- 假设当前函数已经能用，调用自身计算上一次的结果，再求出本次的结果"
   ]
  },
  {
   "cell_type": "code",
   "execution_count": 7,
   "metadata": {},
   "outputs": [
    {
     "name": "stdout",
     "output_type": "stream",
     "text": [
      "5050\n",
      "5050\n"
     ]
    }
   ],
   "source": [
    "# 输入一个数（>=1），求1+2+3···+n的和\n",
    "# 函数法：\n",
    "def sum1(n):\n",
    "    sum = 0\n",
    "    for i in range(1,n + 1):\n",
    "        sum += i\n",
    "    return sum\n",
    "print(sum1(100))\n",
    "\n",
    "# 递归法\n",
    "def sum2(n):\n",
    "    if n == 1:                #第一步：临界条件\n",
    "        return 1\n",
    "    else:\n",
    "        return n + sum2(n-1)  #第二、三步\n",
    "print(sum2(100))"
   ]
  },
  {
   "cell_type": "code",
   "execution_count": 1,
   "metadata": {},
   "outputs": [
    {
     "name": "stdout",
     "output_type": "stream",
     "text": [
      "A --> C\n",
      "A --> B\n",
      "C --> B\n",
      "A --> C\n",
      "B --> A\n",
      "B --> C\n",
      "A --> C\n"
     ]
    }
   ],
   "source": [
    "#汉诺塔\n",
    "# move(n, a, b, c)表示的是有n个盘子在a柱子上，将要移到b柱子上面去\n",
    "def move(n, a, b, c):\n",
    "    if n == 1:              # 如果a柱子上面只有一个盘子，则直接移到c柱子上面去并输出路径，结束递归\n",
    "        print (a, '-->', c)\n",
    "        return\n",
    "    move(n-1, a, c, b)      # 表示的是将n-1的盘子从a柱子上面移到b柱子上面去\n",
    "    print (a, '-->', c )      # 输出最下面个盘子移从a移到c的路径\n",
    "    move(n-1, b, a, c)      # 将b柱子上面的n-1个盘子移动到c柱子上面\n",
    "move(3, 'A', 'B', 'C')"
   ]
  },
  {
   "cell_type": "code",
   "execution_count": null,
   "metadata": {},
   "outputs": [],
   "source": []
  },
  {
   "cell_type": "code",
   "execution_count": null,
   "metadata": {},
   "outputs": [],
   "source": []
  },
  {
   "cell_type": "code",
   "execution_count": null,
   "metadata": {},
   "outputs": [],
   "source": []
  }
 ],
 "metadata": {
  "kernelspec": {
   "display_name": "Python 3",
   "language": "python",
   "name": "python3"
  },
  "language_info": {
   "codemirror_mode": {
    "name": "ipython",
    "version": 3
   },
   "file_extension": ".py",
   "mimetype": "text/x-python",
   "name": "python",
   "nbconvert_exporter": "python",
   "pygments_lexer": "ipython3",
   "version": "3.7.0"
  }
 },
 "nbformat": 4,
 "nbformat_minor": 2
}
