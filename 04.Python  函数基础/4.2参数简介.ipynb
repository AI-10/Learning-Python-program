{
 "cells": [
  {
   "cell_type": "markdown",
   "metadata": {},
   "source": [
    "## 参数传递\n",
    "- 值传递：传递不可变类型（str - num - tuple）\n",
    "    - \n",
    "- 引用传递：传递可变类型(dict - list - set)\n",
    "\n",
    "**在 python 中，类型属于对象，变量是没有类型的,她仅仅是一个对象的引用（一个指针），可以是指向类型对象**\n",
    "    - 不可变类型：变量赋值a=5后再赋值a=10，这里实际是新生成一个int值对象 10，再让a指向它，而5被丢弃,不是改变a的值，相当于新生成了a。\n",
    "    - 可变类型：变量赋值 la=[1,2,3,4] 后再赋值 la[2]=5 则是将 list la 的第三个元素值更改，本身la没有动，只是其内部的一部分值被修改了。"
   ]
  },
  {
   "cell_type": "code",
   "execution_count": 2,
   "metadata": {},
   "outputs": [
    {
     "name": "stdout",
     "output_type": "stream",
     "text": [
      "2\n",
      "函数内取值:  [10, 20, 30, [1, 2, 3, 4]]\n",
      "函数外取值:  [10, 20, 30, [1, 2, 3, 4]]\n"
     ]
    }
   ],
   "source": [
    "\"\"\"\n",
    "值传递\n",
    "\"\"\"\n",
    "b = 2\n",
    "def ChangeInt( a ):\n",
    "    a = 10\n",
    "ChangeInt(b)\n",
    "print( b ) # 结果没有改变b的值\n",
    "\n",
    "\n",
    "\"\"\"\n",
    "引用传递\n",
    "\"\"\"\n",
    "# 可写函数说明\n",
    "def changeme( mylist ):\n",
    "   \"修改传入的列表\"\n",
    "   mylist.append([1,2,3,4])\n",
    "   print (\"函数内取值: \", mylist)\n",
    "   return\n",
    " \n",
    "# 调用changeme函数\n",
    "mylist = [10,20,30]\n",
    "changeme( mylist )\n",
    "print (\"函数外取值: \", mylist)#结果改变mylist的值"
   ]
  },
  {
   "cell_type": "markdown",
   "metadata": {},
   "source": [
    "## 参数类型\n",
    "**调用函数时可使用的正式参数类型**\n",
    "- 必需参数\n",
    "- 关键字参数\n",
    "- 默认参数\n",
    "- 不定长参数"
   ]
  },
  {
   "cell_type": "markdown",
   "metadata": {},
   "source": [
    "### 关键字参数\n",
    "- 函数调用使用关键字参数来确定传入的参数值。使用关键字参数允许函数调用时参数的**顺序**与声明时不一致，Python 解释器能够用参数名匹配参数值。"
   ]
  },
  {
   "cell_type": "code",
   "execution_count": 3,
   "metadata": {},
   "outputs": [
    {
     "name": "stdout",
     "output_type": "stream",
     "text": [
      "名字:  runoob\n",
      "年龄:  50\n"
     ]
    }
   ],
   "source": [
    "#可写函数说明\n",
    "def printinfo( name, age ):\n",
    "   \"打印任何传入的字符串\"\n",
    "   print (\"名字: \", name)\n",
    "   print (\"年龄: \", age)\n",
    "   return\n",
    " \n",
    "#调用printinfo函数\n",
    "printinfo( age=50, name=\"runoob\" )# 顺序可变"
   ]
  },
  {
   "cell_type": "markdown",
   "metadata": {},
   "source": [
    "### 默认参数\n",
    "- 调用函数时，如果没有传递参数，则会使用默认参数。\n",
    "- 最好将默认参数放到最后"
   ]
  },
  {
   "cell_type": "code",
   "execution_count": 8,
   "metadata": {},
   "outputs": [
    {
     "name": "stdout",
     "output_type": "stream",
     "text": [
      "名字:  runoob\n",
      "年龄:  50\n",
      "名字:  runoob\n",
      "年龄:  None\n"
     ]
    }
   ],
   "source": [
    "#可写函数说明\n",
    "def printinfo( name = 'good', age = None ):\n",
    "   \"打印任何传入的字符串\"\n",
    "   print (\"名字: \", name)\n",
    "   print (\"年龄: \", age)\n",
    "   return\n",
    "#调用printinfo函数\n",
    "printinfo( age=50, name=\"runoob\" )\n",
    "printinfo( name=\"runoob\" )"
   ]
  },
  {
   "cell_type": "markdown",
   "metadata": {},
   "source": [
    "### 不定长参数\n",
    "- 能处理比当初声明时更多的参数\n",
    "- 格式：\n",
    "    - 加了星号 * 的参数会以元组(tuple)的形式导入，存放所有未命名的变量参数。\n",
    "    - 带两个星号 ** 的参数以字典的形式导入，存放所有未命名的变量参数,传值时要用关键字参数。\n",
    "- 如果在函数调用时没有指定参数，它就是一个空元组。我们也可以不向函数传递未命名的变量。"
   ]
  },
  {
   "cell_type": "code",
   "execution_count": 19,
   "metadata": {},
   "outputs": [
    {
     "name": "stdout",
     "output_type": "stream",
     "text": [
      "输出: \n",
      "70\n",
      "(60, 50)\n",
      "***********************\n",
      "输出: \n",
      "1\n",
      "{'a': 2, 'b': 3}\n"
     ]
    }
   ],
   "source": [
    "\"\"\"\n",
    "格式1：\n",
    "def functionname([formal_args,] *var_args_tuple ):\n",
    "   \"函数_文档字符串\"\n",
    "   function_suite\n",
    "   return [expression]\n",
    "\"\"\"\n",
    "# 可写函数说明\n",
    "def printinfo( arg1, *vartuple ):\n",
    "   \"打印任何传入的参数\"\n",
    "   print (\"输出: \")\n",
    "   print (arg1)\n",
    "   print (vartuple)\n",
    " \n",
    "# 调用printinfo 函数\n",
    "printinfo( 70, 60, 50 )\n",
    "\n",
    "print(\"***********************\")\n",
    "\n",
    "\"\"\"\n",
    "格式2：\n",
    "def functionname([formal_args,] **var_args_dict ):\n",
    "   函数_文档字符串\"\n",
    "   function_suite\n",
    "   return [expression]\n",
    "\"\"\"\n",
    "# 可写函数说明\n",
    "def printinfo( arg1, **vardict ):\n",
    "   \"打印任何传入的参数\"\n",
    "   print (\"输出: \")\n",
    "   print (arg1)\n",
    "   print (vardict)\n",
    " \n",
    "# 调用printinfo 函数\n",
    "printinfo(arg1=1,a=2,b=3)"
   ]
  },
  {
   "cell_type": "code",
   "execution_count": 16,
   "metadata": {},
   "outputs": [
    {
     "name": "stdout",
     "output_type": "stream",
     "text": [
      "输出: \n",
      "(1, 2, 4)\n",
      "{'a': 2, 'b': 3}\n"
     ]
    }
   ],
   "source": [
    "\"\"\"\n",
    "def printinfo( *arg1, **vardict ):     #可以传递任何参数,只是要注意参数的顺序\n",
    "\"\"\" \n",
    "def printinfo( *arg1, **vardict ):\n",
    "   \"打印任何传入的参数\"\n",
    "   print (\"输出: \")\n",
    "   print (arg1)\n",
    "   print (vardict)\n",
    " \n",
    "# 调用printinfo 函数\n",
    "printinfo(1,2,4,a=2,b=3)"
   ]
  },
  {
   "cell_type": "code",
   "execution_count": 9,
   "metadata": {},
   "outputs": [
    {
     "name": "stdout",
     "output_type": "stream",
     "text": [
      "输出: \n",
      "10\n",
      "输出: \n",
      "70\n",
      "60\n",
      "50\n"
     ]
    }
   ],
   "source": [
    "\"\"\"\n",
    "函数调用时没有指定参数\n",
    "\"\"\"\n",
    "# 可写函数说明\n",
    "def printinfo( arg1, *vartuple ):\n",
    "   \"打印任何传入的参数\"\n",
    "   print (\"输出: \")\n",
    "   print (arg1)\n",
    "   for var in vartuple:\n",
    "      print (var)\n",
    "   return\n",
    " \n",
    "# 调用printinfo 函数\n",
    "printinfo( 10 )\n",
    "printinfo( 70, 60, 50 )"
   ]
  },
  {
   "cell_type": "code",
   "execution_count": null,
   "metadata": {},
   "outputs": [],
   "source": []
  }
 ],
 "metadata": {
  "kernelspec": {
   "display_name": "Python 3",
   "language": "python",
   "name": "python3"
  },
  "language_info": {
   "codemirror_mode": {
    "name": "ipython",
    "version": 3
   },
   "file_extension": ".py",
   "mimetype": "text/x-python",
   "name": "python",
   "nbconvert_exporter": "python",
   "pygments_lexer": "ipython3",
   "version": "3.7.0"
  }
 },
 "nbformat": 4,
 "nbformat_minor": 2
}
