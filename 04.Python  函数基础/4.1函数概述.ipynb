{
 "cells": [
  {
   "cell_type": "markdown",
   "metadata": {},
   "source": [
    "# 函数 \n",
    "- 本质就是功能的封装，用易实现特定的目的，简化代码结构，增加代码复用度，修改更为简便，如print()"
   ]
  },
  {
   "cell_type": "code",
   "execution_count": null,
   "metadata": {},
   "outputs": [],
   "source": [
    "help (print)"
   ]
  },
  {
   "cell_type": "markdown",
   "metadata": {},
   "source": [
    "### 函数的定义"
   ]
  },
  {
   "cell_type": "markdown",
   "metadata": {},
   "source": [
    "#### 规则：\n",
    "    - 函数代码块以 def 关键词开头，后接函数标识符名称（遵循标识符规则）和圆括号 ()。\n",
    "    - 任何传入参数和自变量必须放在圆括号中间，逗号分隔，圆括号之间可以用于定义参数。\n",
    "    - 函数的第一行语句可以选择性地使用文档字符串—用于存放函数说明。\n",
    "    - 函数内容以冒号起始，并且缩进。\n",
    "    - return [表达式] 结束函数，选择性地返回一个值给调用方。不带表达式的return默认返回 None。"
   ]
  },
  {
   "cell_type": "markdown",
   "metadata": {},
   "source": [
    "#### 格式\n",
    "- def functionname( parameters ):\n",
    "- ……\"函数_文档字符串\"\n",
    "- ……function_suite\n",
    "- ……return [expression]"
   ]
  },
  {
   "cell_type": "markdown",
   "metadata": {},
   "source": [
    "### 函数的调用"
   ]
  },
  {
   "cell_type": "markdown",
   "metadata": {},
   "source": [
    "#### 格式：\n",
    "    - 函数名(参数列表)\n",
    "#### 本质：\n",
    "    - 实参(值)给形参赋值\n",
    "    - 参数必须按顺序传递，一一对应，实参形参数目相等。"
   ]
  },
  {
   "cell_type": "code",
   "execution_count": 2,
   "metadata": {},
   "outputs": [
    {
     "name": "stdout",
     "output_type": "stream",
     "text": [
      "114\n",
      "wanle\n"
     ]
    }
   ],
   "source": [
    "def func(x):\n",
    "    print(eval(\"111+{0}\".format(x)))\n",
    "    return \"wanle\"\n",
    "p = 3\n",
    "g = func(p)\n",
    "print (g)"
   ]
  },
  {
   "cell_type": "markdown",
   "metadata": {},
   "source": [
    "### 函数返回值\n",
    "    - return [表达式] 语句用于退出函数，后面的语句无效，选择性地向调用方返回一个表达式。不带参数值的return语句返回None\n",
    "    - 返回值可以赋值"
   ]
  },
  {
   "cell_type": "code",
   "execution_count": 3,
   "metadata": {},
   "outputs": [
    {
     "name": "stdout",
     "output_type": "stream",
     "text": [
      "函数内 :  30\n"
     ]
    },
    {
     "data": {
      "text/plain": [
       "30"
      ]
     },
     "execution_count": 3,
     "metadata": {},
     "output_type": "execute_result"
    }
   ],
   "source": [
    "# 可写函数说明\n",
    "def sum( arg1, arg2 ):\n",
    "   # 返回2个参数的和.\"\n",
    "   total = arg1 + arg2\n",
    "   print (\"函数内 : \", total)\n",
    "   return total\n",
    " \n",
    "# 调用sum函数\n",
    "total = sum( 10, 20 )\n",
    "print (\"函数外 : \", total)"
   ]
  },
  {
   "cell_type": "markdown",
   "metadata": {},
   "source": [
    "#### 函数返回多个值时，是以元祖的形式。"
   ]
  },
  {
   "attachments": {
    "image.png": {
     "image/png": "[encoded data removed]"
    }
   },
   "cell_type": "markdown",
   "metadata": {},
   "source": [
    "![image.png](attachment:image.png)"
   ]
  },
  {
   "cell_type": "code",
   "execution_count": 2,
   "metadata": {},
   "outputs": [
    {
     "name": "stdout",
     "output_type": "stream",
     "text": [
      "Welcome Runoob\n",
      "width = 4  height = 5  area = 20\n"
     ]
    }
   ],
   "source": [
    "# 计算面积函数\n",
    "def area(width, height):\n",
    "    return width * height\n",
    " \n",
    "def print_welcome(name):\n",
    "    print(\"Welcome\", name)\n",
    " \n",
    "print_welcome(\"Runoob\")\n",
    "w = 4\n",
    "h = 5\n",
    "print(\"width =\", w, \" height =\", h, \" area =\", area(w, h))"
   ]
  },
  {
   "cell_type": "code",
   "execution_count": 7,
   "metadata": {},
   "outputs": [
    {
     "name": "stdout",
     "output_type": "stream",
     "text": [
      "1 \n",
      "2 4 \n",
      "3 6 9 \n",
      "4 8 12 16 \n",
      "5 10 15 20 25 \n",
      "6 12 18 24 30 36 \n",
      "7 14 21 28 35 42 49 \n",
      "8 16 24 32 40 48 56 64 \n",
      "9 18 27 36 45 54 63 72 81 \n",
      "1 ----------------\n",
      "2 4 ----------------\n",
      "3 6 9 ----------------\n",
      "4 8 12 16 ----------------\n",
      "5 10 15 20 25 ----------------\n",
      "6 12 18 24 30 36 ----------------\n",
      "7 14 21 28 35 42 49 ----------------\n",
      "8 16 24 32 40 48 56 64 ----------------\n",
      "9 18 27 36 45 54 63 72 81 ----------------\n"
     ]
    }
   ],
   "source": [
    "#乘法表\n",
    "def ll(row):\n",
    "    for col in range(1,row+1):\n",
    "       print (col*row,end = \" \")\n",
    "    print ()\n",
    "for row in range(1,10):\n",
    "    ll(row)\n",
    "    \n",
    "for row in range(1,10):\n",
    "    for col in range(1,row+1):\n",
    "       print (col*row,end = \" \")\n",
    "    print(\"----------------\")"
   ]
  },
  {
   "cell_type": "markdown",
   "metadata": {},
   "source": []
  },
  {
   "cell_type": "code",
   "execution_count": 2,
   "metadata": {},
   "outputs": [
    {
     "name": "stdout",
     "output_type": "stream",
     "text": [
      "(0.0, -1.5)\n",
      "(5.0, 1.0)\n"
     ]
    }
   ],
   "source": [
    "import math\n",
    "def quadratic_equation(a, b, c):\n",
    "    t = math.sqrt(b * b - 4 * a * c)\n",
    "    return (-b + t) / (2 * a),( -b - t )/ (2 * a)\n",
    "print (quadratic_equation(2, 3, 0))\n",
    "print (quadratic_equation(1, -6, 5))"
   ]
  },
  {
   "cell_type": "code",
   "execution_count": null,
   "metadata": {},
   "outputs": [],
   "source": []
  }
 ],
 "metadata": {
  "kernelspec": {
   "display_name": "Python 3",
   "language": "python",
   "name": "python3"
  },
  "language_info": {
   "codemirror_mode": {
    "name": "ipython",
    "version": 3
   },
   "file_extension": ".py",
   "mimetype": "text/x-python",
   "name": "python",
   "nbconvert_exporter": "python",
   "pygments_lexer": "ipython3",
   "version": "3.7.0"
  }
 },
 "nbformat": 4,
 "nbformat_minor": 2
}
