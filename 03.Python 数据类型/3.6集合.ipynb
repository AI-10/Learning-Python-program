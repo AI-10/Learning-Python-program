{
 "cells": [
  {
   "cell_type": "markdown",
   "metadata": {},
   "source": [
    "# 集合 set\n",
    "- 唯一的，不可变对象的无序无重复集合"
   ]
  },
  {
   "cell_type": "code",
   "execution_count": null,
   "metadata": {},
   "outputs": [],
   "source": [
    "help(set)"
   ]
  },
  {
   "cell_type": "markdown",
   "metadata": {},
   "source": [
    "### 集合的特性\n",
    "- 无序，无法索引和分片。\n",
    "- 唯一：内部元素有唯一性，添加多个相同值，只存贮一个，可以用来排重。\n",
    "- 不可变：集合中的数据类型可以是str，int，float,tuple等可哈希数据（不可改变的数据结构）,而不可以是列表等可变数据结构。\n",
    "- 不可索引与切片"
   ]
  },
  {
   "cell_type": "markdown",
   "metadata": {},
   "source": [
    "### 集合的创建"
   ]
  },
  {
   "cell_type": "code",
   "execution_count": 10,
   "metadata": {},
   "outputs": [
    {
     "name": "stdout",
     "output_type": "stream",
     "text": [
      "{} <class 'dict'>\n",
      "set() <class 'set'>\n"
     ]
    }
   ],
   "source": [
    "\"\"\"\n",
    "创建空的集合\n",
    "\"\"\"\n",
    "###空集合只能用set()定义，不能只用大括号定义空集合，否则是字典\n",
    "s = {}\n",
    "print(s,type(s))\n",
    "s = set()\n",
    "print(s,type(s))"
   ]
  },
  {
   "cell_type": "code",
   "execution_count": 11,
   "metadata": {},
   "outputs": [
    {
     "name": "stdout",
     "output_type": "stream",
     "text": [
      "{1, ('2', '4')} <class 'set'>\n"
     ]
    }
   ],
   "source": [
    "\"\"\"\n",
    "创建非空集合\n",
    "\"\"\"\n",
    "### 非空集合可以用set（）或{}建立，，元素间使用逗号进行分割，注意元素是不可变类型，元素是list会报错\n",
    "s = {1,(\"2\",\"4\")}\n",
    "print(s,type(s))"
   ]
  },
  {
   "cell_type": "code",
   "execution_count": 12,
   "metadata": {},
   "outputs": [
    {
     "name": "stdout",
     "output_type": "stream",
     "text": [
      "{1, 2, 3} {1, 2, 3}\n",
      "{'4', '2'} <class 'set'>\n"
     ]
    }
   ],
   "source": [
    "\"\"\"\n",
    "用函数set(list  or  tuple  or  dict)创建\n",
    "\"\"\"\n",
    "#重复元素被过滤，dict类型用来创建集合时，只会保留key,且一次只能转变一个\n",
    "a = (1,2,3,3,3,3)\n",
    "b = [1,2,3,3,3,3]\n",
    "c = set(a)\n",
    "d = set(b)\n",
    "print(c,d)\n",
    "s =set ([\"2\",\"4\"])\n",
    "print(s,type(s))"
   ]
  },
  {
   "cell_type": "markdown",
   "metadata": {},
   "source": [
    "### 集合操作符\n",
    "- 交 :   a  &  b\n",
    "- 差 :   a  -   b\n",
    "- 并 :   a   |   b\n",
    "- 补 :   a  ^  b\n",
    "- 集合也有关系运算符，判断集合之间的包含关系"
   ]
  },
  {
   "cell_type": "code",
   "execution_count": 24,
   "metadata": {},
   "outputs": [
    {
     "name": "stdout",
     "output_type": "stream",
     "text": [
      "{5} {1, 2, 3, 4, 5, 7, 8, 9}\n"
     ]
    }
   ],
   "source": [
    "\"\"\"\n",
    "集合的交差并集\n",
    "\"\"\"\n",
    "a = {1,2,3,4,5,3}\n",
    "b = {5,7,7,8,9}\n",
    "# 交集\n",
    "c = a & b\n",
    "# 并集\n",
    "d = a | b\n",
    "print(c,d)"
   ]
  },
  {
   "cell_type": "markdown",
   "metadata": {},
   "source": [
    "### 集合处理方法"
   ]
  },
  {
   "cell_type": "code",
   "execution_count": 18,
   "metadata": {},
   "outputs": [
    {
     "name": "stdout",
     "output_type": "stream",
     "text": [
      "{1, 2, 3, (3, 5, 2, 6, 7)}\n"
     ]
    }
   ],
   "source": [
    "\"\"\"\n",
    "s.add(x)   添加 \n",
    "\"\"\"\n",
    "b = set([2,1,3,3,3,3])\n",
    "b.add(3)           #add可以添加重复的数不会报错，但不会保存重复数据。\n",
    "b.add((3,5,2,6,7)) #add可以添加不可变对象为元素，而且是作为一个元素存入set中\n",
    "print(b)\n",
    "#b.add([1,5,6])    add不可以添加可变的类型作为元素，只能是不可变元素"
   ]
  },
  {
   "cell_type": "code",
   "execution_count": 26,
   "metadata": {},
   "outputs": [
    {
     "name": "stdout",
     "output_type": "stream",
     "text": [
      "{1, 2, 3, 4, 34, 55}\n"
     ]
    }
   ],
   "source": [
    "\"\"\"\n",
    "s.remove(x)，s.discard(x)移除指定值\n",
    "\"\"\"\n",
    "s = {1,2,3,4,55,2,34,3}\n",
    "s.discard(0)#discard删除不存在与集合中的值时，不会报错\n",
    "#s.remove(0)remove删除不存在与集合中的值时，会报错\n",
    "print(s)"
   ]
  },
  {
   "cell_type": "code",
   "execution_count": 27,
   "metadata": {},
   "outputs": [
    {
     "name": "stdout",
     "output_type": "stream",
     "text": [
      "{1, 2, 3, 4, 34, 55} []\n"
     ]
    }
   ],
   "source": [
    "\"\"\"\n",
    "s.pop()随机取出一个元素（可以赋值给其他变量），并将这个元素删除，可用于集合的遍历\n",
    "\"\"\"\n",
    "s = {1,2,3,4,55,2,34,3}\n",
    "d = []\n",
    "try :\n",
    "    for i in s:\n",
    "        d = d.add( s.pop()) \n",
    "except:\n",
    "    print(s,d)\n"
   ]
  },
  {
   "cell_type": "code",
   "execution_count": 28,
   "metadata": {},
   "outputs": [
    {
     "name": "stdout",
     "output_type": "stream",
     "text": [
      "{1, 2, 3, '们', 'w', 's', '我', 'o', 'm', 'h', ' ', 'i'}\n"
     ]
    }
   ],
   "source": [
    "\"\"\"\n",
    "set.update() 插入 \n",
    "\"\"\"\n",
    "#将数据（list,str,tuple,dict等）打碎插入\n",
    "a =  \"womshi 我们\"\n",
    "b = set([2,1,3,3,3,3])\n",
    "b.update(a)\n",
    "print(b)"
   ]
  },
  {
   "cell_type": "code",
   "execution_count": 29,
   "metadata": {},
   "outputs": [],
   "source": [
    "##其他集合相关方法：\n",
    "# :in、not in成员检测\n",
    "#:s.clear()清空集合，地址未变\n",
    "#:s.copy（）深拷贝"
   ]
  },
  {
   "cell_type": "markdown",
   "metadata": {},
   "source": [
    "### 集合相关函数"
   ]
  },
  {
   "cell_type": "code",
   "execution_count": 30,
   "metadata": {},
   "outputs": [
    {
     "data": {
      "text/plain": [
       "'\\nlen(s) ,max(s) ,min(s)\\n'"
      ]
     },
     "execution_count": 30,
     "metadata": {},
     "output_type": "execute_result"
    }
   ],
   "source": [
    "\"\"\"\n",
    "len(s) ,max(s) ,min(s)函数\n",
    "\"\"\""
   ]
  },
  {
   "cell_type": "code",
   "execution_count": 31,
   "metadata": {},
   "outputs": [
    {
     "data": {
      "text/plain": [
       "'\\nset(s)函数,类型转换可以去重。\\n'"
      ]
     },
     "execution_count": 31,
     "metadata": {},
     "output_type": "execute_result"
    }
   ],
   "source": [
    "\"\"\"\n",
    "set(s)函数，数据类型转换\n",
    "\"\"\""
   ]
  },
  {
   "cell_type": "markdown",
   "metadata": {},
   "source": [
    "### 集合的应用"
   ]
  },
  {
   "cell_type": "markdown",
   "metadata": {},
   "source": [
    "- 判断数据之间的包含关系\n",
    "- 数据去重"
   ]
  },
  {
   "cell_type": "code",
   "execution_count": null,
   "metadata": {},
   "outputs": [],
   "source": []
  },
  {
   "cell_type": "code",
   "execution_count": null,
   "metadata": {},
   "outputs": [],
   "source": []
  },
  {
   "cell_type": "code",
   "execution_count": null,
   "metadata": {},
   "outputs": [],
   "source": []
  },
  {
   "cell_type": "code",
   "execution_count": null,
   "metadata": {},
   "outputs": [],
   "source": []
  },
  {
   "cell_type": "code",
   "execution_count": null,
   "metadata": {},
   "outputs": [],
   "source": []
  }
 ],
 "metadata": {
  "kernelspec": {
   "display_name": "Python 3",
   "language": "python",
   "name": "python3"
  },
  "language_info": {
   "codemirror_mode": {
    "name": "ipython",
    "version": 3
   },
   "file_extension": ".py",
   "mimetype": "text/x-python",
   "name": "python",
   "nbconvert_exporter": "python",
   "pygments_lexer": "ipython3",
   "version": "3.7.4"
  }
 },
 "nbformat": 4,
 "nbformat_minor": 2
}
