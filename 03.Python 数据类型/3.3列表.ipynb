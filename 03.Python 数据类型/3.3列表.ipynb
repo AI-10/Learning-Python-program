{
 "cells": [
  {
   "cell_type": "markdown",
   "metadata": {},
   "source": [
    "# 列表  list\n",
    " - 有序的一组向量，是一种序列数据类型（序列数据类型包括：列表元组字符串）\n",
    " - help(list)"
   ]
  },
  {
   "cell_type": "code",
   "execution_count": null,
   "metadata": {},
   "outputs": [],
   "source": [
    "help(list)"
   ]
  },
  {
   "cell_type": "markdown",
   "metadata": {},
   "source": [
    "### 创建列表"
   ]
  },
  {
   "cell_type": "code",
   "execution_count": 10,
   "metadata": {},
   "outputs": [
    {
     "name": "stdout",
     "output_type": "stream",
     "text": [
      "<class 'list'>\n",
      "[]\n",
      "<class 'list'>\n",
      "[100, 12, 'ww']\n"
     ]
    }
   ],
   "source": [
    "\"\"\"\n",
    "一般创建格式 ： 列表名 = [列表选项1，列表选项二······]\n",
    "\"\"\"\n",
    "#创建列表且列表为空\n",
    "i1 = []\n",
    "print(type(i1))\n",
    "print(i1)\n",
    "i1 = [100,12,\"ww\"]\n",
    "print(type(i1))\n",
    "print(i1)"
   ]
  },
  {
   "cell_type": "code",
   "execution_count": 11,
   "metadata": {},
   "outputs": [
    {
     "name": "stdout",
     "output_type": "stream",
     "text": [
      "[10, 20, 30, 50, 60, 70, 30, 20, 50, 30, 20, 30]\n",
      "[2, 4, 6, 8, 10, 12, 14, 16, 18, 20, 22, 24, 26, 28, 30, 32]\n",
      "[3, 54, 3, 4, 55, 4, 5, 56, 5, 6, 57, 6, 7, 58, 7, 8, 59, 8, 8, 59, 8, 9, 60, 9]\n",
      "3 54 3 4 55 4 5 56 5 6 57 6 7 58 7 8 59 8 8 59 8 9 60 9 "
     ]
    }
   ],
   "source": [
    "\n",
    "\"\"\"\n",
    "其他形式创建\n",
    "\"\"\"\n",
    "#列表内涵for创建 \n",
    "l = [1,2,3,5,6,7,3,2,5,3,2,3]\n",
    "b = [i*10 for i in l]#对于a中的元素都放入新的列表中，并乘以10\n",
    "print(b)\n",
    "# 过滤作用\n",
    "a = [x for x in range(1,34)]\n",
    "b = [m for m in a if m % 2 == 0]\n",
    "print(b)#建列表且列表不为空（一个或多个数据，数据的类型可以不同）\n",
    "\n",
    "\n",
    "\n",
    "#列表生成可以嵌套\n",
    "a = [1,2,3,4,5,6,6,7]\n",
    "b = [2,53,2]\n",
    "c = [x + y for x in a for y in b]\n",
    "print(c)\n",
    "#上式相当于  只是生成的不是列表形式\n",
    "for x in a:\n",
    "    for y in b:\n",
    "        print(x + y,end = \" \")"
   ]
  },
  {
   "cell_type": "markdown",
   "metadata": {},
   "source": [
    "### 列表的相关操作"
   ]
  },
  {
   "cell_type": "markdown",
   "metadata": {},
   "source": [
    "#### （1）列表索引：使用下标操作（同字符串）\n",
    "例如：l[2] 访问列表第2+1位数 **注意顺序列表位置从0开始，逆向列表从-1开始索引不要超界**"
   ]
  },
  {
   "cell_type": "code",
   "execution_count": 4,
   "metadata": {},
   "outputs": [
    {
     "name": "stdout",
     "output_type": "stream",
     "text": [
      "2\n",
      "[1, 2, 100, 4, 5, 2, 3]\n"
     ]
    }
   ],
   "source": [
    "# 取值 ：列表名[下标]\n",
    "l = [1,2,3,4,5,2,3]\n",
    "i = l[5] # 不超范围\n",
    "print(i)\n",
    "# 替换 ：列表名[要替换目标的下标] = 替换值\n",
    "l = [1,2,3,4,5,2,3]\n",
    "l[2] = 100\n",
    "print(l)"
   ]
  },
  {
   "cell_type": "markdown",
   "metadata": {},
   "source": [
    "#### （2）列表分片：对列表任意一段的截取 \n",
    "- 例如： l[2:6] 截取第2+1--6+1位数 **注意包括左边的数字但不包括右边的数字**\n",
    "  - 若为： l[:] 则截取的是全部的数据， 若为： l[1:]则截取的是第二位到最后一位（包括左后一位），若为： l[:x]则截取到第一位到x+1位数（包括第一位）\n",
    "  - l[1:3:1]:截取第二位到第三位，间隔为1，print(l[1:8:2]):截取第二位到第八位，间隔为2\n",
    "- 下标和幅度值可以为负数,分片截取方向是由幅度值决定的，注意截取方向和幅度值得匹配，如果截取方向与幅度值方向不一致，则返回[]空集,\n",
    "- 分片是生成一个**新的列表**，在后面更改原来的列表时（例如：重新给列表某一位置赋值），截取的列表是不会随愿列表变化而变化的。\n",
    "  - 可以用id函数，显示一个变量或者数据的唯一编号\n",
    "  - id相同，则为同一份数据，如赋值得到的数据\n",
    "  - id不同，则为不同份数据，如分片得到的列表"
   ]
  },
  {
   "cell_type": "code",
   "execution_count": 15,
   "metadata": {},
   "outputs": [
    {
     "name": "stdout",
     "output_type": "stream",
     "text": [
      "[3, 5, 6]\n",
      "[1, 2, 3, 5, 6, 7, 3, 2]\n",
      "[2, 3, 5, 6, 7, 3, 2]\n",
      "[1, 2, 3, 5]\n",
      "[2, 3, 5, 6]\n",
      "[2, 5, 7]\n",
      "[]\n",
      "[3, 2, 3]\n",
      "[5, 3, 2]\n",
      "3\n"
     ]
    }
   ],
   "source": [
    "#列表截取\n",
    "l = [1,2,3,5,6,7,3,2]\n",
    "print(l[2:5])#包括左但不包括右，所以第五位数不算在内\n",
    "print(l[:])\n",
    "print(l[1:])\n",
    "print(l[:4])\n",
    "#列表间隔问题\n",
    "l = [1,2,3,5,6,7,3,2,5,3,2,3]\n",
    "print(l[1:5:1])#增长幅度为1\n",
    "print(l[1:7:2])#增长幅度为2\n",
    "#负数问题\n",
    "print(l[-1:-4])#左边的数大于右边的数，幅度值默认为1，返回空集\n",
    "print(l[-1:-4:-1])#左边的数大于右边的数，幅度值默认为-1\n",
    "print(l[-4:-1])\n",
    "#二维数据问题\n",
    "l = [[1,2],[3,5,6],[7,3],[2,5,3,2,3]]\n",
    "print(l[2][1])#嵌套的列表的索引方法"
   ]
  },
  {
   "cell_type": "markdown",
   "metadata": {},
   "source": [
    "#### （3）列表相加，重复\n",
    "-  \"+\"连接相加 生成新的列表\n",
    "-  '* 连接相乘 只能是列表乘以数字，而不能两个列表相乘"
   ]
  },
  {
   "cell_type": "code",
   "execution_count": 13,
   "metadata": {},
   "outputs": [
    {
     "name": "stdout",
     "output_type": "stream",
     "text": [
      "[1, 2, 3, 3, 3, 3, 'a', 'c'] [1, 2, 3, 1, 2, 3, 1, 2, 3, 1, 2, 3, 1, 2, 3, 1, 2, 3, 1, 2, 3, 1, 2, 3, 1, 2, 3, 1, 2, 3]\n",
      "1818609686344 1818609791688\n"
     ]
    }
   ],
   "source": [
    "a = [1,2,3]\n",
    "b = [3,3,3]\n",
    "c = [\"a\",\"c\"]\n",
    "#列表相加\n",
    "d = a+b+c\n",
    "#列表重复\n",
    "f = a*10\n",
    "print(d,f)\n",
    "print(id(d),id(a))"
   ]
  },
  {
   "cell_type": "markdown",
   "metadata": {},
   "source": [
    "#### （4）成员资格运算\n",
    "- 判断一个元素是否在一个列表里\n",
    "- 计算结果是一个布尔值 x = y (not) in l"
   ]
  },
  {
   "cell_type": "code",
   "execution_count": 14,
   "metadata": {},
   "outputs": [
    {
     "name": "stdout",
     "output_type": "stream",
     "text": [
      "True\n"
     ]
    }
   ],
   "source": [
    "a = [1,2,3]\n",
    "g = 2\n",
    "c = g in a\n",
    "print(c)"
   ]
  },
  {
   "cell_type": "markdown",
   "metadata": {},
   "source": [
    "### 列表方法与函数\n",
    "- 有些函数方法表达式没有返回值的要单独占一行，不能将表达式赋值，否则返回None，有返回值的可以进行赋值操作。"
   ]
  },
  {
   "cell_type": "markdown",
   "metadata": {},
   "source": [
    "#### len(l)：列表长度 \n",
    "#### max(l)  min(l)：列表最大小值\n",
    "#### l.count(x)：列表某元素个数 \n",
    "#### l.index(x)：找出列表中某个元素的第一个匹配的索引下标"
   ]
  },
  {
   "cell_type": "code",
   "execution_count": 2,
   "metadata": {},
   "outputs": [
    {
     "name": "stdout",
     "output_type": "stream",
     "text": [
      "9 1 2 2\n"
     ]
    }
   ],
   "source": [
    "a = [1,2,3,4,3,5,7,7,8]\n",
    "print(len(a),min(a),a.count(3) ,a.index(3))"
   ]
  },
  {
   "cell_type": "markdown",
   "metadata": {},
   "source": [
    "#### 修改：\n",
    "- ls[i]=x\n",
    "- ls[i,j,k] = lt"
   ]
  },
  {
   "cell_type": "markdown",
   "metadata": {},
   "source": [
    "#### 插入\n",
    "- l.append(x) 在末尾追加一个元素\n",
    "- l.extend(x) 在末尾追加另一个列表中的多个值\n",
    "- l.inset(index,x) 指定位置插入一个元素，不覆盖原先数据，插入位置在index前面。"
   ]
  },
  {
   "cell_type": "code",
   "execution_count": 16,
   "metadata": {},
   "outputs": [
    {
     "name": "stdout",
     "output_type": "stream",
     "text": [
      "[1, 2, 3, 4, 3, 5, 7, 7, 8]\n",
      "[1, 2, 3, 4, 3, 5, 7, 7, 8, [9, 0]]\n",
      "[1, 2, 3, 4, 3, 5, 7, 7, 8, [9, 0], 9, 0]\n",
      "[1, 2, [11, 2], 3, 4, 3, 5, 7, 7, 8, [9, 0], 9, 0]\n"
     ]
    }
   ],
   "source": [
    "a = [1,2,3,4,3,5,7,7,8]\n",
    "b = [9,0]\n",
    "print(a)\n",
    "a.append(b)# 尾部追加,而且是将b作为一整个元素【列表】加入到a中\n",
    "print(a)\n",
    "a.extend(b)# 在末尾追加另一个列表中的多个值\n",
    "print(a)\n",
    "a.insert(2,[11,2])#指定插入,插入元素作为一个整体,(注意正序和逆序插入的区别，插入位置元素以及以后的元素后移)\n",
    "print(a)"
   ]
  },
  {
   "cell_type": "code",
   "execution_count": 2,
   "metadata": {},
   "outputs": [
    {
     "name": "stdout",
     "output_type": "stream",
     "text": [
      "['Adam', 'Lisa', 'paul', 'Bart']\n"
     ]
    }
   ],
   "source": [
    "L = ['Adam', 'Lisa', 'Bart']\n",
    "L.insert(-1,'paul')\n",
    "print (L)"
   ]
  },
  {
   "cell_type": "markdown",
   "metadata": {},
   "source": [
    "#### 删除\n",
    "- del 删除  格式： del l[index]\n",
    "- l.pop(x) 把指定一位元素移除出来，默认为最后一位，并返回移除的数据  x=l.pop(index)**{取出指定一位并赋值给x}**\n",
    "- l.remove(x) 指定删除**存在于列表里**的元素,不生成新的列表，直接在原来的列表中删除某一元素,而且是删除指定元素顺序的第一个匹配值。\n",
    "- clear 清空 格式: l.clear(),不生成新的列表，直接清空原来的列表,原列表仍然存在，如果不想保存原来的列表，则可以使用l = list()或l = []"
   ]
  },
  {
   "cell_type": "code",
   "execution_count": 17,
   "metadata": {},
   "outputs": [
    {
     "name": "stdout",
     "output_type": "stream",
     "text": [
      "[1, 2, 3, 3, 5, 7, 7, 8]\n",
      "[1, 2, 3, 3, 5, 7, 7] 8\n",
      "[2, 3, 3, 5, 7, 7]\n",
      "1818609688520\n",
      "[]\n",
      "1818609688520\n"
     ]
    }
   ],
   "source": [
    "a = [1,2,3,4,3,5,7,7,8]\n",
    "del a[3]\n",
    "print(a)\n",
    "x = a.pop()\n",
    "print(a,x)\n",
    "x = a.remove(1)\n",
    "print(a)\n",
    "a = [1,2,3,4,3,5,7,7,8]\n",
    "print(id(a))\n",
    "a.clear()\n",
    "print(a)\n",
    "print(id(a))"
   ]
  },
  {
   "cell_type": "markdown",
   "metadata": {},
   "source": [
    "#### 翻转 reverse\n",
    "- 格式： a.reverse()\n",
    "- 原地翻转，地址不变。"
   ]
  },
  {
   "cell_type": "code",
   "execution_count": 19,
   "metadata": {},
   "outputs": [
    {
     "name": "stdout",
     "output_type": "stream",
     "text": [
      "[1, 3, 4, 6, 7, 8, 9, 4, 43, 2, 1, 8] 1818609688520\n",
      "[8, 1, 2, 43, 4, 9, 8, 7, 6, 4, 3, 1] 1818609688520\n"
     ]
    }
   ],
   "source": [
    "a = [1,3,4,6,7,8,9,4,43,2,1,8]\n",
    "print(a,id(a))\n",
    "a.reverse()\n",
    "print(a,id(a))"
   ]
  },
  {
   "cell_type": "markdown",
   "metadata": {},
   "source": [
    "#### 排序 \n",
    "- sort()升序"
   ]
  },
  {
   "cell_type": "code",
   "execution_count": 20,
   "metadata": {},
   "outputs": [
    {
     "name": "stdout",
     "output_type": "stream",
     "text": [
      "[1, 1, 2, 3, 4, 4, 6, 7, 8, 8, 9, 43]\n"
     ]
    }
   ],
   "source": [
    "a = [1,3,4,6,7,8,9,4,43,2,1,8]\n",
    "a.sort()\n",
    "print(a)"
   ]
  },
  {
   "cell_type": "markdown",
   "metadata": {},
   "source": [
    "#### 拷贝\n",
    "###### copy拷贝\n",
    "- 浅拷贝\n",
    "    - list类型，直接赋值操作传地址（id没变），改变被赋值的变量，原列表也会发生变化\n",
    "    - #变量在内存栈区，程序结束，自动释放空间，而堆区是手动开辟，也需要手动释放，一般存放对象，如列表，直接赋值，相当于开辟两个栈区的变量指向同一个堆区数据，所以改变原列表数据，两个都发生变化）\n",
    "- 深拷贝\n",
    "    - 相当于堆区数据首先赋值一份，然后赋值给新的变量，所以改变原列表的数据，新的列表的数据不变。\n",
    "    - 赋值时使用 b=a.copy()是传值作用。"
   ]
  },
  {
   "cell_type": "code",
   "execution_count": 21,
   "metadata": {},
   "outputs": [
    {
     "name": "stdout",
     "output_type": "stream",
     "text": [
      "[1, 12, 3, 666, 55, 67] [1, 12, 3, 666, 55, 67] 1818609792776 1818609792776\n",
      "[1, 12, 3, 666, 55, 67] [1, 12, 777, 666, 55, 67]\n"
     ]
    }
   ],
   "source": [
    "\"\"\"\n",
    "浅拷贝（引用拷贝）\n",
    "\"\"\"\n",
    "# 传址作用\n",
    "a = [1,12,3,3,55,67]\n",
    "b = a\n",
    "b[3]=666\n",
    "print(a,b,id(a),id(b))\n",
    "\"\"\"\n",
    "深拷贝（内存拷贝）\n",
    "\"\"\"\n",
    "#传值作用\n",
    "c = b.copy()\n",
    "c[2]=777\n",
    "print(b,c)"
   ]
  },
  {
   "cell_type": "markdown",
   "metadata": {},
   "source": [
    "#### 将其他形式转换成list : list(data)"
   ]
  },
  {
   "cell_type": "code",
   "execution_count": 22,
   "metadata": {},
   "outputs": [
    {
     "name": "stdout",
     "output_type": "stream",
     "text": [
      "['w', 'e', ' ', 'a', 'r', 'e', ' ', 'b', 'o', 'y', 's']\n",
      "[1, 12, 3, 3, 55, 67]\n"
     ]
    }
   ],
   "source": [
    "a = \"we are boys\"\n",
    "b = list(a)\n",
    "print(b)\n",
    "a = (1,12,3,3,55,67)\n",
    "b = list(a)\n",
    "print(b)"
   ]
  },
  {
   "cell_type": "markdown",
   "metadata": {},
   "source": [
    "### 练习题"
   ]
  },
  {
   "cell_type": "code",
   "execution_count": 23,
   "metadata": {},
   "outputs": [
    {
     "name": "stdout",
     "output_type": "stream",
     "text": [
      "9\n"
     ]
    }
   ],
   "source": [
    "list = [1,3,4,6,7,8,9,4,43,43,43,2,1,8]\n",
    "list.sort()\n",
    "count = list.count(list[len(list)-1])\n",
    "c = 0\n",
    "while c < count:\n",
    "    list.pop()\n",
    "    c += 1\n",
    "print(list[len(list)-1])"
   ]
  },
  {
   "cell_type": "code",
   "execution_count": 3,
   "metadata": {},
   "outputs": [
    {
     "name": "stdout",
     "output_type": "stream",
     "text": [
      "Hello\n",
      "Sunday\n",
      "September\n"
     ]
    }
   ],
   "source": [
    "def firstCharUpper(s):\n",
    "    c = s[0].upper() + s[1:]\n",
    "    return c\n",
    "\n",
    "print (firstCharUpper('hello'))\n",
    "print (firstCharUpper('sunday'))\n",
    "print (firstCharUpper('september'))"
   ]
  }
 ],
 "metadata": {
  "kernelspec": {
   "display_name": "Python 3",
   "language": "python",
   "name": "python3"
  },
  "language_info": {
   "codemirror_mode": {
    "name": "ipython",
    "version": 3
   },
   "file_extension": ".py",
   "mimetype": "text/x-python",
   "name": "python",
   "nbconvert_exporter": "python",
   "pygments_lexer": "ipython3",
   "version": "3.7.4"
  }
 },
 "nbformat": 4,
 "nbformat_minor": 2
}
