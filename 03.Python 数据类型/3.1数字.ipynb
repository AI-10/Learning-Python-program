{
 "cells": [
  {
   "cell_type": "markdown",
   "metadata": {},
   "source": [
    "# 数字"
   ]
  },
  {
   "cell_type": "markdown",
   "metadata": {},
   "source": [
    "### 分类\n",
    "   - 整数： Python可以处理任意大小的整数\n",
    "   - 浮点数： 浮点数由整数和小数部分组成，浮点数运算有四舍五入\n",
    "   - 复数: 由实部和虚部组成"
   ]
  },
  {
   "cell_type": "code",
   "execution_count": 2,
   "metadata": {},
   "outputs": [
    {
     "name": "stdout",
     "output_type": "stream",
     "text": [
      "<class 'int'>\n",
      "<class 'float'>\n",
      "<class 'complex'>\n"
     ]
    }
   ],
   "source": [
    "\"\"\"\n",
    "整数\n",
    "\"\"\"\n",
    "print(type(1))#type查看数据或者变量的类型\n",
    "\"\"\"\n",
    "浮点数\n",
    "\"\"\"\n",
    "print(type(1.1))\n",
    "\"\"\"\n",
    "复数\n",
    "\"\"\"\n",
    "print(type(1 + 3j))"
   ]
  },
  {
   "cell_type": "markdown",
   "metadata": {},
   "source": [
    "### 进制\n",
    "- 0x十六进制\n",
    "- 0o八进制\n",
    "- 0b二进制\n",
    "- 十进 制：无前缀"
   ]
  },
  {
   "cell_type": "code",
   "execution_count": 14,
   "metadata": {},
   "outputs": [
    {
     "name": "stdout",
     "output_type": "stream",
     "text": [
      "<class 'int'> <class 'int'> 13\n"
     ]
    }
   ],
   "source": [
    "print(type(0b1),type(0o3),0o15)"
   ]
  },
  {
   "cell_type": "markdown",
   "metadata": {},
   "source": [
    "### 运算\n",
    "- Python支持对整数和浮点数直接进行四则混合运算，运算规则和数学上的四则运算规则完全一致。\n",
    "- 浮点数运算有时有不确定尾数，可以用round（）函数进行保留小数，由于浮点数不确定尾数的精度很小，round（）函数就可以消去不确定尾数\n",
    "- python运算后结果的类型是“较宽”类型，除法运算总是浮点数\n",
    "- 具体运算规则见第一章"
   ]
  },
  {
   "cell_type": "code",
   "execution_count": 9,
   "metadata": {},
   "outputs": [
    {
     "name": "stdout",
     "output_type": "stream",
     "text": [
      "<class 'int'>\n",
      "3.3000000000000003\n",
      "3.3\n",
      "<class 'float'>\n",
      "<class 'int'>\n",
      "<class 'float'>\n",
      "1.0\n",
      "1\n",
      "0.0\n",
      "0\n"
     ]
    }
   ],
   "source": [
    "# Python运算规则\n",
    "print(type(1+1))\n",
    "\n",
    "print(2.2+1.1)\n",
    "print(round(2.2+1.1,3))\n",
    "\n",
    "print(type(1+1.0))\n",
    "print(type(1*1))\n",
    "print(type(1*1.0))\n",
    "print(1/1)\n",
    "print(1//1)\n",
    "print(1//2.0)\n",
    "print(1//2)     "
   ]
  },
  {
   "cell_type": "code",
   "execution_count": 3,
   "metadata": {},
   "outputs": [
    {
     "name": "stdout",
     "output_type": "stream",
     "text": [
      "25 11.0\n"
     ]
    },
    {
     "data": {
      "text/plain": [
       "2"
      ]
     },
     "execution_count": 3,
     "metadata": {},
     "output_type": "execute_result"
    }
   ],
   "source": [
    "# 不同进制带上前缀可以直接进行相关运算\n",
    "print(23 + 0b10,22/0b10)\n",
    "int(0b10)# 转换为二进制"
   ]
  },
  {
   "cell_type": "markdown",
   "metadata": {},
   "source": [
    "### 常见的数学函数"
   ]
  },
  {
   "cell_type": "code",
   "execution_count": 13,
   "metadata": {},
   "outputs": [
    {
     "name": "stdout",
     "output_type": "stream",
     "text": [
      "1\n",
      "1.0\n",
      "123\n",
      "12.3\n",
      "123\n",
      "-123\n"
     ]
    }
   ],
   "source": [
    "\"\"\"\n",
    "转换类型\n",
    "\"\"\"\n",
    "#浮点数转整数\n",
    "print(int(1.9))#取整数\n",
    "#整数转浮点数\n",
    "print(float(1))\n",
    "#字符串（以下是可转形式）\n",
    "print(int(\"123\"))\n",
    "print(float(\"12.3\"))\n",
    "print(int(\"+123\"))\n",
    "print(int(\"-123\"))"
   ]
  },
  {
   "cell_type": "code",
   "execution_count": 2,
   "metadata": {},
   "outputs": [
    {
     "name": "stdout",
     "output_type": "stream",
     "text": [
      "12\n"
     ]
    }
   ],
   "source": [
    "\"\"\"\n",
    "绝对值\n",
    "\"\"\"\n",
    "# abs函数\n",
    "a = -12\n",
    "b = abs(a)#取绝对值，赋值给b\n",
    "print(b)"
   ]
  },
  {
   "cell_type": "code",
   "execution_count": 5,
   "metadata": {},
   "outputs": [
    {
     "name": "stdout",
     "output_type": "stream",
     "text": [
      "4 1\n"
     ]
    }
   ],
   "source": [
    "\"\"\"\n",
    "最大值最小值\n",
    "\"\"\"\n",
    "# max min 函数\n",
    "a = 1,2,3,4,2\n",
    "print(max(a),min(a))"
   ]
  },
  {
   "cell_type": "code",
   "execution_count": 6,
   "metadata": {},
   "outputs": [
    {
     "name": "stdout",
     "output_type": "stream",
     "text": [
      "144\n"
     ]
    }
   ],
   "source": [
    "\"\"\"\n",
    "求幂\n",
    "\"\"\"\n",
    "#pow函数\n",
    "a = 12\n",
    "b = 2\n",
    "print(pow(a,b))#a 的 b 次方"
   ]
  },
  {
   "cell_type": "code",
   "execution_count": 15,
   "metadata": {},
   "outputs": [
    {
     "name": "stdout",
     "output_type": "stream",
     "text": [
      "1\n",
      "2\n",
      "1.32\n",
      "1.53\n"
     ]
    }
   ],
   "source": [
    "\"\"\"\n",
    "四舍五入\n",
    "\"\"\"\n",
    "#round函数\n",
    "a = 1.3245\n",
    "b = 1.5345\n",
    "print(round(a))\n",
    "print(round(b))\n",
    "print(round(a,2))# round(变量，保留小数点后位数)  \n",
    "print(round(b,2))#保留小数后位数时，只看临近一位\n"
   ]
  },
  {
   "cell_type": "code",
   "execution_count": 4,
   "metadata": {},
   "outputs": [
    {
     "name": "stdout",
     "output_type": "stream",
     "text": [
      "0\n"
     ]
    }
   ],
   "source": [
    "\"\"\"\n",
    "比较大小\n",
    "\"\"\"\n",
    "a = 10\n",
    "b = 11\n",
    "print((a>b) -  (a<b))# -1:a<b   1:a>b  0:a=b"
   ]
  },
  {
   "cell_type": "markdown",
   "metadata": {},
   "source": [
    "### 随机数-random库"
   ]
  },
  {
   "cell_type": "code",
   "execution_count": 81,
   "metadata": {},
   "outputs": [
    {
     "name": "stdout",
     "output_type": "stream",
     "text": [
      "1\n",
      "3\n",
      "d\n",
      "45\n",
      "6\n"
     ]
    }
   ],
   "source": [
    "\"\"\"\n",
    "随机数\n",
    "\"\"\"\n",
    "#还需调入random\n",
    "import math\n",
    "import random\n",
    "print(random.choice([1,23,3,4,2,1,\"aa\"]))# 从序列的元素(数字字符串均可)中随机选择一个数输出\n",
    "print(random.choice(range(5)))# range(5) = [0,1,2,3,4]   算左不算右  整数\n",
    "\"\"\"\n",
    "range()函数：列表生成器\n",
    "\"\"\"\n",
    "print(random.choice(\"add\"))# \"add\" = [\"a\".\"d\",\"d\"]\n",
    "\"\"\"\n",
    "生成一个1到100的随机数\n",
    "\"\"\"\n",
    "print(random.choice(range(100))+1)#注意 +1 的位置，是生成的随机数+1，而不是在range后+1\n",
    "a = random.choice(range(100))+1,print(a)"
   ]
  },
  {
   "cell_type": "code",
   "execution_count": 101,
   "metadata": {},
   "outputs": [
    {
     "name": "stdout",
     "output_type": "stream",
     "text": [
      "11\n",
      "68\n",
      "67\n"
     ]
    }
   ],
   "source": [
    "\"\"\"\n",
    "指定范围按指定数字递变序列中随机选取一个数  （整数）\n",
    "\"\"\"\n",
    "# random.randrange(开始值，终止值，step)   含左不含右\n",
    "#开始值：指定范围的开始值，包含在范围内，可以不写，默认0开始\n",
    "#终止值：指定范围的终止值，不包括在范围内，必须要写\n",
    "#step：数字间隔的数字，可正可负，可以不写，默认递变为1\n",
    "print(random.randrange(1,100,2))#生成[1-100）间的随机奇数\n",
    "print(random.randrange(100,1,-2))#生成（1-100]间的随机偶数\n",
    "print(random.randrange(1,100,3))"
   ]
  },
  {
   "cell_type": "code",
   "execution_count": 102,
   "metadata": {},
   "outputs": [
    {
     "name": "stdout",
     "output_type": "stream",
     "text": [
      "0.6186630803012111\n"
     ]
    }
   ],
   "source": [
    "\"\"\"\n",
    "随机生成[0,1)之间的随机数（浮点数）\n",
    "\"\"\"\n",
    "print(random.random())#不传值"
   ]
  },
  {
   "cell_type": "code",
   "execution_count": 114,
   "metadata": {},
   "outputs": [
    {
     "name": "stdout",
     "output_type": "stream",
     "text": [
      "[4, 1, 2, 3, 5]\n"
     ]
    }
   ],
   "source": [
    "\"\"\"\n",
    "将序列随机排序\n",
    "\"\"\"\n",
    "list = [1,2,3,4,5]\n",
    "random.shuffle(list)# 这是一个表达式，要单独占一行\n",
    "print(list)"
   ]
  },
  {
   "cell_type": "code",
   "execution_count": 116,
   "metadata": {},
   "outputs": [
    {
     "name": "stdout",
     "output_type": "stream",
     "text": [
      "4.5587374580688955\n"
     ]
    }
   ],
   "source": [
    "\"\"\"\n",
    "随机生成实数（包括小数，整数，左右值）\n",
    "\"\"\"\n",
    "print(random.uniform(3,9))# 包含左右[3,9]"
   ]
  },
  {
   "cell_type": "code",
   "execution_count": null,
   "metadata": {},
   "outputs": [],
   "source": []
  },
  {
   "cell_type": "markdown",
   "metadata": {},
   "source": [
    "### 练习题"
   ]
  },
  {
   "cell_type": "code",
   "execution_count": 90,
   "metadata": {},
   "outputs": [
    {
     "name": "stdout",
     "output_type": "stream",
     "text": [
      "输入一个数字：2\n",
      "bye\n"
     ]
    }
   ],
   "source": [
    "\"\"\"\n",
    "制作一个彩票抽奖系统\n",
    "\"\"\"\n",
    "import random\n",
    "num = int(input(\"输入一个数字：\")) \n",
    "res = random.choice(range(100)) + 1\n",
    "if num == res :\n",
    "    print(\"yes\")\n",
    "else:\n",
    "    print(\"bye\")"
   ]
  },
  {
   "cell_type": "markdown",
   "metadata": {},
   "source": [
    "# 布尔值"
   ]
  },
  {
   "cell_type": "code",
   "execution_count": 2,
   "metadata": {},
   "outputs": [
    {
     "name": "stdout",
     "output_type": "stream",
     "text": [
      "True False\n",
      "False True\n"
     ]
    }
   ],
   "source": [
    "# 布尔值只有True 和 False 两种值\n",
    "a = True\n",
    "b = False\n",
    "print(a,b)\n",
    "print(10<9,10>9)"
   ]
  },
  {
   "cell_type": "markdown",
   "metadata": {},
   "source": [
    "# 空值"
   ]
  },
  {
   "cell_type": "code",
   "execution_count": 2,
   "metadata": {},
   "outputs": [
    {
     "name": "stdout",
     "output_type": "stream",
     "text": [
      "None\n"
     ]
    }
   ],
   "source": [
    "# 空值：是Python里一个特殊的值，用 None 表示\n",
    "# 不能理解为0，因为0是有意义的，而 None 是一个特殊值\n",
    "k = None\n",
    "print(k)"
   ]
  }
 ],
 "metadata": {
  "kernelspec": {
   "display_name": "Python 3",
   "language": "python",
   "name": "python3"
  },
  "language_info": {
   "codemirror_mode": {
    "name": "ipython",
    "version": 3
   },
   "file_extension": ".py",
   "mimetype": "text/x-python",
   "name": "python",
   "nbconvert_exporter": "python",
   "pygments_lexer": "ipython3",
   "version": "3.7.0"
  }
 },
 "nbformat": 4,
 "nbformat_minor": 2
}
