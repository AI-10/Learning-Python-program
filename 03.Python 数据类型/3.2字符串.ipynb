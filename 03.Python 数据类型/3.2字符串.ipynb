{
 "cells": [
  {
   "cell_type": "markdown",
   "metadata": {},
   "source": [
    "# 字符串"
   ]
  },
  {
   "cell_type": "markdown",
   "metadata": {},
   "source": [
    "- 单引号或双引号括起来的任意文本,有序且可索引切片"
   ]
  },
  {
   "cell_type": "markdown",
   "metadata": {},
   "source": [
    "### 创建字符串"
   ]
  },
  {
   "cell_type": "code",
   "execution_count": 1,
   "metadata": {},
   "outputs": [],
   "source": [
    "a = \"sun is right\"#字符串创建后不可变"
   ]
  },
  {
   "cell_type": "markdown",
   "metadata": {},
   "source": [
    "### 字符串的相关操作"
   ]
  },
  {
   "cell_type": "code",
   "execution_count": 3,
   "metadata": {},
   "outputs": [
    {
     "name": "stdout",
     "output_type": "stream",
     "text": [
      "r\n",
      "re  wea weare are good\n",
      "wrgd \n",
      "do r\n",
      "wrg\n"
     ]
    }
   ],
   "source": [
    "\"\"\"\n",
    "字符串的索引\n",
    "\"\"\"\n",
    "#索引是顺序从0开始的,逆序从-1开始索引空格也算\n",
    "a = \"wearegood\"\n",
    "print(a[3])\n",
    "\"\"\"\n",
    "字符串的切片\n",
    "\"\"\"\n",
    "#包括左不包括右\n",
    "a = \"weare good\"\n",
    "b = a[3:6]\n",
    "c = a[0:3]\n",
    "d = a[:5]#从开头到第四\n",
    "f = a[2:]#从2到末尾\n",
    "g = a[0:12:3]#按一定的跳跃次序截取\n",
    "# 下标和幅度值可以为负数,分片截取方向是由幅度值决定的，注意截取方向和幅度值得匹配，如果截取方向与幅度值方向不一致，则返回[]空集\n",
    "g1 = a[0:12:-3]\n",
    "k = a[11:1:-2]\n",
    "l = a[-11:-1:3]\n",
    "print(b,c,d,f)\n",
    "print(g,g1)\n",
    "print(k)\n",
    "print(l)"
   ]
  },
  {
   "cell_type": "code",
   "execution_count": 2,
   "metadata": {},
   "outputs": [
    {
     "name": "stdout",
     "output_type": "stream",
     "text": [
      "wwwwmmmm\n"
     ]
    }
   ],
   "source": [
    "\"\"\"\n",
    "字符串的连接\n",
    "\"\"\"\n",
    "a = \"wwww\"\n",
    "b = \"mmmm\"\n",
    "s = a + b\n",
    "print(s)"
   ]
  },
  {
   "cell_type": "code",
   "execution_count": 3,
   "metadata": {},
   "outputs": [
    {
     "name": "stdout",
     "output_type": "stream",
     "text": [
      "wwwwwwwwwwww\n"
     ]
    }
   ],
   "source": [
    "\"\"\"\n",
    "字符串的重复\n",
    "\"\"\"\n",
    "s = a * 3\n",
    "print(s)"
   ]
  },
  {
   "cell_type": "code",
   "execution_count": 5,
   "metadata": {},
   "outputs": [
    {
     "name": "stdout",
     "output_type": "stream",
     "text": [
      "True\n",
      "True\n"
     ]
    }
   ],
   "source": [
    "\"\"\"\n",
    "字符串的成员判断\n",
    "\"\"\"\n",
    "print(\"we\" in a)#成员判断\n",
    "print(\"wea\" not in a)"
   ]
  },
  {
   "cell_type": "markdown",
   "metadata": {},
   "source": [
    "### 字符串函数"
   ]
  },
  {
   "cell_type": "code",
   "execution_count": 6,
   "metadata": {},
   "outputs": [
    {
     "name": "stdout",
     "output_type": "stream",
     "text": [
      "7\n",
      "7\n"
     ]
    }
   ],
   "source": [
    "\"\"\"\n",
    "len(str)  返回字符串的长度（字符个数） 包括空格\n",
    "\"\"\"\n",
    "a = \"we good\"\n",
    "print(len(a))\n",
    "print (len(\"we good\"))"
   ]
  },
  {
   "cell_type": "code",
   "execution_count": 7,
   "metadata": {},
   "outputs": [
    {
     "data": {
      "text/plain": [
       "'13'"
      ]
     },
     "execution_count": 7,
     "metadata": {},
     "output_type": "execute_result"
    }
   ],
   "source": [
    "\"\"\"\n",
    "str(a) 将任意类型转换为字符\n",
    "\"\"\"\n",
    "t = str(13)\n",
    "t"
   ]
  },
  {
   "cell_type": "code",
   "execution_count": 8,
   "metadata": {},
   "outputs": [
    {
     "name": "stdout",
     "output_type": "stream",
     "text": [
      "123\n",
      "-123\n",
      "24\n",
      "123\n",
      "-22\n"
     ]
    }
   ],
   "source": [
    "\"\"\"\n",
    "eval(a) 将字符串当成有效的表达式并返回计算结果\n",
    "\"\"\"\n",
    "print(eval(\"+123\"))\n",
    "print(eval(\"-123\"))\n",
    "#以下区别于int方法，eval可以进行计算\n",
    "print(eval(\"1+23\"))\n",
    "print(eval(\"123\"))\n",
    "print(eval(\"1-23\"))\n",
    "#以下无效\n",
    "#print(eval(\"a123\"))\n",
    "#print(eval(\"1a23\"))"
   ]
  },
  {
   "cell_type": "markdown",
   "metadata": {},
   "source": [
    "### 字符串方法\n",
    "http://www.runoob.com/python3/python3-string.html"
   ]
  },
  {
   "cell_type": "code",
   "execution_count": 1,
   "metadata": {},
   "outputs": [
    {
     "name": "stdout",
     "output_type": "stream",
     "text": [
      "we good\n",
      "WE GOOD\n",
      "we GOOD\n",
      "We good\n",
      "We Good\n"
     ]
    }
   ],
   "source": [
    "\"\"\"\n",
    "a.lower(str)   转换字符串的大写字母为小写字母\n",
    "\"\"\"\n",
    "a = \"WE good\"\n",
    "print(a.lower())\n",
    "\"\"\"\n",
    "a.upper(str)   转换字符串的小写字母为大写字母\n",
    "\"\"\"\n",
    "a = \"WE good\"\n",
    "print(a.upper())#a.upper()相当于生成一个新的变量\n",
    "\"\"\"\n",
    "a.swapcase()   字符串的大小写字母相互转换\n",
    "\"\"\"\n",
    "a = \"WE good\"\n",
    "print(a.swapcase())\n",
    "\"\"\"\n",
    "a,capitalize()  每一句首字母大写，其他小写\n",
    "\"\"\"\n",
    "a = \"WE good\"\n",
    "print(a.capitalize())\n",
    "\"\"\"\n",
    "a.title ()      每个单词的首字母大写\n",
    "\"\"\"\n",
    "a = \"WE good\"\n",
    "print(a.title())"
   ]
  },
  {
   "cell_type": "code",
   "execution_count": 4,
   "metadata": {},
   "outputs": [
    {
     "name": "stdout",
     "output_type": "stream",
     "text": [
      "['sunck', 'is', 'a', 'good', 'man'] ['sunck', '', '', '', 'is', '', 'a', '', '', '', 'good', '', '', '', 'man'] ['sunck ', '', '', ' is ', '', '', ' a ', '', '', ' good ', '', '', ' man']\n"
     ]
    }
   ],
   "source": [
    "\"\"\"\n",
    "str.split(str=\"\", num=string.count(str)) （从左至右）分割字符串，返回字符串的分割列表\n",
    "\"\"\"\n",
    "#str -- 分隔符，默认为所有的空字符，包括空格、换行(\\n)、制表符(\\t)等。\n",
    "#num -- 分割次数。默认为 -1, 即分隔所有。\n",
    "a = \"sunck is a good man\"\n",
    "b = \"sunck    is  a    good    man\"\n",
    "c = \"sunck *** is *** a *** good *** man\"\n",
    "print(a.split(\" \"),b.split(\" \"),c.split(\"*\"))"
   ]
  },
  {
   "attachments": {
    "image.png": {
     "image/png": "[encoded data removed]"
    }
   },
   "cell_type": "markdown",
   "metadata": {},
   "source": [
    "![image.png](attachment:image.png)"
   ]
  },
  {
   "cell_type": "code",
   "execution_count": 7,
   "metadata": {},
   "outputs": [
    {
     "name": "stdout",
     "output_type": "stream",
     "text": [
      "sunck is a good man,\n",
      "sunck is a good man,\n",
      "sunck is a good man\n"
     ]
    }
   ],
   "source": [
    "\"\"\"\n",
    "str.join(seq) 以指定字符串作为分隔符，将 seq 中所有的元素(的字符串表示)合并为一个新的字符串\n",
    "\"\"\"\n",
    "a = ['sunck is a good man,\\n', 'sunck is a good man,\\n', 'sunck is a good man']\n",
    "b = \"\".join(a)\n",
    "print(b)"
   ]
  },
  {
   "cell_type": "code",
   "execution_count": 10,
   "metadata": {},
   "outputs": [
    {
     "name": "stdout",
     "output_type": "stream",
     "text": [
      "['sunck is a good man', 'sunck is a good man', 'sunck is a good man']\n"
     ]
    }
   ],
   "source": [
    "\"\"\"\n",
    "splitlines(keepends) 按照行('\\r', '\\r\\n', \\n')分隔，返回一个包含各行作为元素的列表\n",
    "\"\"\"\n",
    "#如果参数 keepends 为 False，不包含换行符，如果为 True，则保留换行符。\n",
    "a = \"\"\"sunck is a good man\n",
    "sunck is a good man\n",
    "sunck is a good man\"\"\"\n",
    "b = a.splitlines()\n",
    "print(b)\n"
   ]
  },
  {
   "cell_type": "code",
   "execution_count": 35,
   "metadata": {},
   "outputs": [
    {
     "name": "stdout",
     "output_type": "stream",
     "text": [
      "1\n"
     ]
    }
   ],
   "source": [
    "\"\"\"\n",
    "count(str[,start][,end])返回字符串中str出现的次数，【start，end】是指定范围，可不加(包括左不包括右)，默认为全部字符串\n",
    "\"\"\"\n",
    "a = \"WE good opps\"\n",
    "print(a.count(\"o\",3,5))"
   ]
  },
  {
   "cell_type": "code",
   "execution_count": 28,
   "metadata": {},
   "outputs": [
    {
     "name": "stdout",
     "output_type": "stream",
     "text": [
      "sunck is a nice nice good man\n"
     ]
    }
   ],
   "source": [
    "\"\"\"\n",
    "replace(old, new [, max])把 将字符串中的 str1 替换成 str2,默认全部替换，如果 max 指定，则替换不超过 max 次。\n",
    "\"\"\"\n",
    "a = \"sunck is a good good good man\"\n",
    "b = a.replace(\"good\",\"nice\",2)\n",
    "print(b)"
   ]
  },
  {
   "cell_type": "code",
   "execution_count": 1,
   "metadata": {},
   "outputs": [
    {
     "name": "stdout",
     "output_type": "stream",
     "text": [
      "\\(~_~)/ \\(~_~)/\n"
     ]
    }
   ],
   "source": [
    "\"\"\"\n",
    "r\n",
    "\"\"\"\n",
    "# 如果一字符串包含很多需转义的字符，对每个字符都进行转义会很麻烦,但在字符串前面加个前缀 r ，表示这是一个raw字符串，里面的字符就不需转义了。\n",
    "print(r'\\(~_~)/ \\(~_~)/')"
   ]
  },
  {
   "cell_type": "code",
   "execution_count": 9,
   "metadata": {},
   "outputs": [
    {
     "name": "stdout",
     "output_type": "stream",
     "text": [
      "WE good opps\n",
      "WE good opps\n",
      "WE good opps\n",
      "WE good opps\n",
      "WE good opps\n"
     ]
    }
   ],
   "source": [
    "\"\"\"\n",
    "strip()  截掉字符串两侧指定的字符，默认为空格\n",
    "\"\"\"\n",
    "a = \"***WE good opps***\"\n",
    "print(a.strip(\"*\"))\n",
    "\"\"\"\n",
    "lstrip() 截掉字符串左侧指定的字符，默认为空格\n",
    "\"\"\"\n",
    "a = \"  WE good opps\"\n",
    "print(a.lstrip())\n",
    "a = \"***WE good opps\"\n",
    "print(a.lstrip(\"*\"))\n",
    "\"\"\"\n",
    "rstrip() 截掉字符串右侧指定的字符，默认为空格\n",
    "\"\"\"\n",
    "a = \"WE good opps    \"\n",
    "print(a.rstrip())\n",
    "a = \"WE good opps***\"\n",
    "print(a.rstrip(\"*\"))"
   ]
  },
  {
   "cell_type": "code",
   "execution_count": 21,
   "metadata": {},
   "outputs": [
    {
     "name": "stdout",
     "output_type": "stream",
     "text": [
      "^^^^^^^^^^^^^^^^WE good^^^^^^^^^^^^^^^^^\n",
      "WE good^^^^^^^^^^^^^^^^^^^^^^^^^^^^^^^^^\n",
      "^^^^^^^^^^^^^^^^^^^^^^^^^^^^^^^^^WE good\n",
      "000000000000000000000000000000000WE good\n"
     ]
    }
   ],
   "source": [
    "\"\"\"\n",
    "center(width,fillchar)  返回指定宽度为width的字符串，fillchar为填充空缺的字符(默认为空格)\n",
    "\"\"\"\n",
    "a = \"WE good\"\n",
    "print(a.center(40,\"^\"))\n",
    "\"\"\"\n",
    "ljust(width,fillchar)   返回指定宽度为width的左对齐的字符串，fillchar为填充空缺的字符(默认为空格)\n",
    "\"\"\"\n",
    "a = \"WE good\"\n",
    "print(a.ljust(40,\"^\"))\n",
    "\"\"\"\n",
    "rjust(width,fillchar)   返回指定宽度为width的右对齐的字符串，fillchar为填充空缺的字符串(默认为空格)\n",
    "\"\"\"\n",
    "a = \"WE good\"\n",
    "print(a.rjust(40,\"^\"))\n",
    "\"\"\"\n",
    "zfill(width)            返回一个长度为width的字符串，原字符串右对齐，空缺补0\n",
    "\"\"\"\n",
    "a = \"WE good\"\n",
    "print(a.zfill(40))"
   ]
  },
  {
   "cell_type": "code",
   "execution_count": 42,
   "metadata": {},
   "outputs": [
    {
     "name": "stdout",
     "output_type": "stream",
     "text": [
      "4 -1\n",
      "4 -1\n"
     ]
    }
   ],
   "source": [
    "\"\"\"\n",
    "find(str,start,end) 从左至右，检验str字符串是否在字符串中，【start，end】指定范围，可不加(包左不包右)，默认全部字符串\n",
    "得到的数值是第一次出现的位置索引，如果str不包含在字符串中则返回 -1\n",
    "\"\"\"\n",
    "a = \"WE good opps\"\n",
    "print(a.find(\"o\",3,5),a.find(\"x\",3,5))\n",
    "\"\"\"\n",
    "rfind(str,start,end) 从右至左，检验str字符串是否在字符串中，【start，end】指定范围，可不加(包左不包右)，默认全部字符串\n",
    "得到的数值是第一次出现的位置索引，如果str不包含在字符串中则返回 -1\n",
    "\"\"\"\n",
    "a = \"WE good opps\"\n",
    "print(a.rfind(\"o\",3,5),a.rfind(\"x\",3,5))\n",
    "\n",
    "\"\"\"\n",
    "index(str,start=0,end=len(str))  跟find相似，只是不存在与字符串时会报错\n",
    "\"\"\"\n",
    "a = \"WE good opps\"\n",
    "# print(a.index(\"o\",3,5),a.index(\"x\",3,5))\n",
    "\"\"\"\n",
    "rindex(str,start=0,end=len(str)) 跟rfind相似，只是不存在与字符串时会报错\n",
    "\"\"\"\n",
    "a = \"WE good opps\"\n",
    "# print(a.rindex(\"o\",3,5),a.rindex(\"x\",3,5))"
   ]
  },
  {
   "cell_type": "code",
   "execution_count": 25,
   "metadata": {},
   "outputs": [
    {
     "name": "stdout",
     "output_type": "stream",
     "text": [
      "u  \n",
      "的 天\n"
     ]
    }
   ],
   "source": [
    "\"\"\"\n",
    "max()  min()   返回字符串中最大（小）的字母,按照字符在 unicode 中的编码值来决定大小\n",
    "\"\"\"\n",
    "a = \"sunck is a good man\"\n",
    "b = \"我的天\"\n",
    "print(max(a),min(a)) # 注意 此处最小值是空格\n",
    "print(max(b),min(b))"
   ]
  },
  {
   "cell_type": "code",
   "execution_count": 29,
   "metadata": {},
   "outputs": [
    {
     "name": "stdout",
     "output_type": "stream",
     "text": [
      "th3s 3s str3ng 2x1mpl2....w4w!!!\n"
     ]
    }
   ],
   "source": [
    "\"\"\"\n",
    "str.maketrans(intab, outtab) 用于创建字符映射转换表，第一个参数是字符串，表示需要转换的字符，第二个参数也是字符串表示转换的目标。\n",
    "注意：两字符串的长度必须相同，为一一对应。\n",
    "\"\"\"\n",
    "#intab -- 字符串中要替代的字符组成的字符串。\n",
    "#outtab -- 相应的映射字符的字符串。\n",
    "intab = \"aeiou\"\n",
    "outtab = \"12345\"\n",
    "trantab = str.maketrans(intab, outtab)\n",
    "\n",
    "str = \"this is string example....wow!!!\"\n",
    "print (str.translate(trantab))"
   ]
  },
  {
   "cell_type": "markdown",
   "metadata": {},
   "source": [
    "### 中文分词jieba库\n",
    "- 返回列表"
   ]
  },
  {
   "cell_type": "markdown",
   "metadata": {},
   "source": [
    "- jieba.lcut(s)：精确模式\n",
    "- jieba.lcut(s, cut_all=True)：全模式\n",
    "- jieba.lcut_for_search(s)：搜索引擎模式\n",
    "- jieba.add_word(w)：向分词词典中添加新词"
   ]
  },
  {
   "cell_type": "code",
   "execution_count": null,
   "metadata": {},
   "outputs": [],
   "source": []
  },
  {
   "cell_type": "code",
   "execution_count": null,
   "metadata": {},
   "outputs": [],
   "source": []
  },
  {
   "cell_type": "code",
   "execution_count": null,
   "metadata": {},
   "outputs": [],
   "source": []
  },
  {
   "cell_type": "code",
   "execution_count": null,
   "metadata": {},
   "outputs": [],
   "source": []
  },
  {
   "cell_type": "code",
   "execution_count": null,
   "metadata": {},
   "outputs": [],
   "source": []
  },
  {
   "cell_type": "code",
   "execution_count": null,
   "metadata": {},
   "outputs": [],
   "source": []
  }
 ],
 "metadata": {
  "kernelspec": {
   "display_name": "Python 3",
   "language": "python",
   "name": "python3"
  },
  "language_info": {
   "codemirror_mode": {
    "name": "ipython",
    "version": 3
   },
   "file_extension": ".py",
   "mimetype": "text/x-python",
   "name": "python",
   "nbconvert_exporter": "python",
   "pygments_lexer": "ipython3",
   "version": "3.7.4"
  }
 },
 "nbformat": 4,
 "nbformat_minor": 2
}
