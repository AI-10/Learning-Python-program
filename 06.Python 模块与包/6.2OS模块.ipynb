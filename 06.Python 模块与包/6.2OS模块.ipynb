{
 "cells": [
  {
   "cell_type": "markdown",
   "metadata": {},
   "source": [
    "###  os\n",
    "- 包含了普遍的系统操作功能"
   ]
  },
  {
   "cell_type": "code",
   "execution_count": 5,
   "metadata": {},
   "outputs": [
    {
     "name": "stdout",
     "output_type": "stream",
     "text": [
      "nt\n"
     ]
    }
   ],
   "source": [
    "import os\n",
    "\"\"\"\n",
    "os.name()   操作系统类型\n",
    "\"\"\"\n",
    "#获取操作系统类型，nt--Windows，posix--Linux、Unix\n",
    "print(os.name)"
   ]
  },
  {
   "cell_type": "code",
   "execution_count": 9,
   "metadata": {},
   "outputs": [
    {
     "data": {
      "text/plain": [
       "'\\nos.unname() 操作系统详细内容【注意：Windows下不支持】\\n'"
      ]
     },
     "execution_count": 9,
     "metadata": {},
     "output_type": "execute_result"
    }
   ],
   "source": [
    "\"\"\"\n",
    "os.unname() 操作系统详细内容【注意：Windows下不支持】\n",
    "\"\"\"\n",
    "#print(os.unname())"
   ]
  },
  {
   "cell_type": "code",
   "execution_count": 14,
   "metadata": {},
   "outputs": [
    {
     "name": "stdout",
     "output_type": "stream",
     "text": [
      "environ({'ALLUSERSPROFILE': 'C:\\\\ProgramData', 'APPDATA': 'C:\\\\Users\\\\Administrator\\\\AppData\\\\Roaming', 'COMMONPROGRAMFILES': 'C:\\\\Program Files\\\\Common Files', 'COMMONPROGRAMFILES(X86)': 'C:\\\\Program Files (x86)\\\\Common Files', 'COMMONPROGRAMW6432': 'C:\\\\Program Files\\\\Common Files', 'COMPUTERNAME': 'WIN-M18F8UC0O87', 'COMSPEC': 'C:\\\\WINDOWS\\\\system32\\\\cmd.exe', 'DRIVERDATA': 'C:\\\\Windows\\\\System32\\\\Drivers\\\\DriverData', 'FPS_BROWSER_APP_PROFILE_STRING': 'Internet Explorer', 'FPS_BROWSER_USER_PROFILE_STRING': 'Default', 'HOMEDRIVE': 'C:', 'HOMEPATH': '\\\\Users\\\\Administrator', 'LOCALAPPDATA': 'C:\\\\Users\\\\Administrator\\\\AppData\\\\Local', 'LOGONSERVER': '\\\\\\\\WIN-M18F8UC0O87', 'NUMBER_OF_PROCESSORS': '4', 'OS': 'Windows_NT', 'PATH': 'C:\\\\Users\\\\Administrator\\\\Anaconda3;C:\\\\Users\\\\Administrator\\\\Anaconda3\\\\Library\\\\mingw-w64\\\\bin;C:\\\\Users\\\\Administrator\\\\Anaconda3\\\\Library\\\\usr\\\\bin;C:\\\\Users\\\\Administrator\\\\Anaconda3\\\\Library\\\\bin;C:\\\\Users\\\\Administrator\\\\Anaconda3\\\\Scripts;C:\\\\WINDOWS\\\\system32;C:\\\\WINDOWS;C:\\\\WINDOWS\\\\System32\\\\Wbem;C:\\\\WINDOWS\\\\System32\\\\WindowsPowerShell\\\\v1.0\\\\;C:\\\\WINDOWS\\\\System32\\\\OpenSSH\\\\;C:\\\\Users\\\\Administrator\\\\Anaconda3;C:\\\\Users\\\\Administrator\\\\Anaconda3\\\\Library\\\\mingw-w64\\\\bin;C:\\\\Users\\\\Administrator\\\\Anaconda3\\\\Library\\\\usr\\\\bin;C:\\\\Users\\\\Administrator\\\\Anaconda3\\\\Library\\\\bin;C:\\\\Users\\\\Administrator\\\\Anaconda3\\\\Scripts;C:\\\\Users\\\\Administrator\\\\AppData\\\\Local\\\\Programs\\\\Python\\\\Python37\\\\Scripts\\\\;C:\\\\Users\\\\Administrator\\\\AppData\\\\Local\\\\Programs\\\\Python\\\\Python37\\\\;C:\\\\Users\\\\Administrator\\\\AppData\\\\Local\\\\Microsoft\\\\WindowsApps;', 'PATHEXT': '.COM;.EXE;.BAT;.CMD;.VBS;.VBE;.JS;.JSE;.WSF;.WSH;.MSC', 'PROCESSOR_ARCHITECTURE': 'AMD64', 'PROCESSOR_IDENTIFIER': 'Intel64 Family 6 Model 69 Stepping 1, GenuineIntel', 'PROCESSOR_LEVEL': '6', 'PROCESSOR_REVISION': '4501', 'PROGRAMDATA': 'C:\\\\ProgramData', 'PROGRAMFILES': 'C:\\\\Program Files', 'PROGRAMFILES(X86)': 'C:\\\\Program Files (x86)', 'PROGRAMW6432': 'C:\\\\Program Files', 'PSMODULEPATH': 'C:\\\\Program Files\\\\WindowsPowerShell\\\\Modules;C:\\\\WINDOWS\\\\system32\\\\WindowsPowerShell\\\\v1.0\\\\Modules', 'PUBLIC': 'C:\\\\Users\\\\Public', 'SESSIONNAME': 'Console', 'SYSTEMDRIVE': 'C:', 'SYSTEMROOT': 'C:\\\\WINDOWS', 'TEMP': 'C:\\\\Users\\\\ADMINI~1\\\\AppData\\\\Local\\\\Temp', 'TMP': 'C:\\\\Users\\\\ADMINI~1\\\\AppData\\\\Local\\\\Temp', 'USERDOMAIN': 'WIN-M18F8UC0O87', 'USERDOMAIN_ROAMINGPROFILE': 'WIN-M18F8UC0O87', 'USERNAME': 'Administrator', 'USERPROFILE': 'C:\\\\Users\\\\Administrator', 'WINDIR': 'C:\\\\WINDOWS', 'CONDA_PREFIX': 'C:\\\\Users\\\\Administrator\\\\Anaconda3', 'JPY_INTERRUPT_EVENT': '2032', 'IPY_INTERRUPT_EVENT': '2032', 'JPY_PARENT_PID': '2024', 'TERM': 'xterm-color', 'CLICOLOR': '1', 'PAGER': 'cat', 'GIT_PAGER': 'cat', 'MPLBACKEND': 'module://ipykernel.pylab.backend_inline'})\n",
      "C:\\Users\\Administrator\\AppData\\Roaming\n"
     ]
    }
   ],
   "source": [
    "\"\"\"\n",
    "os.environ         获取操作系统中的全部环境变量\n",
    "\"\"\"\n",
    "print(os.environ)\n",
    "\"\"\"\n",
    "os.environ.get(\"x\")获取操作系统中的指定环境变量\n",
    "\"\"\"\n",
    "print(os.environ.get(\"APPDATA\"))"
   ]
  },
  {
   "cell_type": "code",
   "execution_count": 26,
   "metadata": {},
   "outputs": [
    {
     "name": "stdout",
     "output_type": "stream",
     "text": [
      ".\n",
      "C:\\Users\\Administrator\\Python学习笔记\n"
     ]
    }
   ],
   "source": [
    "\"\"\"\n",
    "os.curdir  获取当前目录  当前目录就是“.”\n",
    "\"\"\"\n",
    "print(os.curdir)\n",
    "\"\"\"\n",
    "os.getcwd()获取当前python脚本所在的目录\n",
    "\"\"\"\n",
    "print(os.getcwd())"
   ]
  },
  {
   "cell_type": "code",
   "execution_count": 27,
   "metadata": {},
   "outputs": [
    {
     "name": "stdout",
     "output_type": "stream",
     "text": [
      "['www', '概率论', '线性代数', '高等数学']\n"
     ]
    }
   ],
   "source": [
    "\"\"\"\n",
    "os.listdir(\"路径\") 以列表的形式返回指定目录下所有的文件（一层）\n",
    "\"\"\"\n",
    "print(os.listdir(r\"C:\\Users\\Administrator\\Desktop\\数学\"))"
   ]
  },
  {
   "cell_type": "code",
   "execution_count": 45,
   "metadata": {},
   "outputs": [
    {
     "name": "stdout",
     "output_type": "stream",
     "text": [
      "None\n",
      "None\n"
     ]
    }
   ],
   "source": [
    "\"\"\"\n",
    "os.mkdir(\"*\") 创建新目录\n",
    "\"\"\"\n",
    "print(os.mkdir(r\"C:\\Users\\Administrator\\Desktop\\数学\\www\"))#绝对路径\n",
    "print(os.mkdir(r\"www\"))#相对路径"
   ]
  },
  {
   "cell_type": "code",
   "execution_count": 46,
   "metadata": {},
   "outputs": [
    {
     "name": "stdout",
     "output_type": "stream",
     "text": [
      "None\n",
      "None\n"
     ]
    }
   ],
   "source": [
    "\"\"\"\n",
    "os.rmdir(\"*\")   删除目录 返回数值是None 不能删除文件\n",
    "\"\"\"\n",
    "print(os.rmdir(r\"C:\\Users\\Administrator\\Desktop\\数学\\www\"))#绝对路径\n",
    "print(os.rmdir(r\"www\"))#相对路径\n",
    "\"\"\"\n",
    "os.remove(\"*\")  删除文件\n",
    "\"\"\"\n",
    "os.remove(r\"C:\\Users\\Administrator\\Desktop\\数学\\111.ppt\")"
   ]
  },
  {
   "cell_type": "code",
   "execution_count": 40,
   "metadata": {},
   "outputs": [
    {
     "name": "stdout",
     "output_type": "stream",
     "text": [
      "os.stat_result(st_mode=16895, st_ino=21392098230030124, st_dev=786667042, st_nlink=1, st_uid=0, st_gid=0, st_size=4096, st_atime=1549974100, st_mtime=1549173794, st_ctime=1549168387)\n"
     ]
    }
   ],
   "source": [
    "\"\"\"\n",
    "os.stat(\"*\")    获取文件属性\n",
    "\"\"\"\n",
    "print(os.stat(r\"C:\\Users\\Administrator\\Desktop\\数学\\概率论\"))"
   ]
  },
  {
   "cell_type": "code",
   "execution_count": 51,
   "metadata": {
    "scrolled": true
   },
   "outputs": [
    {
     "name": "stdout",
     "output_type": "stream",
     "text": [
      "None\n",
      "['11', '概率论', '线性代数', '高等数学']\n"
     ]
    },
    {
     "ename": "FileNotFoundError",
     "evalue": "[WinError 2] 系统找不到指定的文件。: '11' -> '222222'",
     "output_type": "error",
     "traceback": [
      "\u001b[1;31m---------------------------------------------------------------------------\u001b[0m",
      "\u001b[1;31mFileNotFoundError\u001b[0m                         Traceback (most recent call last)",
      "\u001b[1;32m<ipython-input-51-85f361e7d146>\u001b[0m in \u001b[0;36m<module>\u001b[1;34m()\u001b[0m\n\u001b[0;32m      4\u001b[0m \u001b[0mprint\u001b[0m\u001b[1;33m(\u001b[0m\u001b[0mos\u001b[0m\u001b[1;33m.\u001b[0m\u001b[0mmkdir\u001b[0m\u001b[1;33m(\u001b[0m\u001b[1;34mr\"C:\\Users\\Administrator\\Desktop\\数学\\11\"\u001b[0m\u001b[1;33m)\u001b[0m\u001b[1;33m)\u001b[0m\u001b[1;31m#绝对路径\u001b[0m\u001b[1;33m\u001b[0m\u001b[0m\n\u001b[0;32m      5\u001b[0m \u001b[0mprint\u001b[0m\u001b[1;33m(\u001b[0m\u001b[0mos\u001b[0m\u001b[1;33m.\u001b[0m\u001b[0mlistdir\u001b[0m\u001b[1;33m(\u001b[0m\u001b[1;34mr\"C:\\Users\\Administrator\\Desktop\\数学\"\u001b[0m\u001b[1;33m)\u001b[0m\u001b[1;33m)\u001b[0m\u001b[1;33m\u001b[0m\u001b[0m\n\u001b[1;32m----> 6\u001b[1;33m \u001b[0mos\u001b[0m\u001b[1;33m.\u001b[0m\u001b[0mrename\u001b[0m\u001b[1;33m(\u001b[0m\u001b[1;34m\"11\"\u001b[0m\u001b[1;33m,\u001b[0m\u001b[1;34m\"222222\"\u001b[0m\u001b[1;33m)\u001b[0m\u001b[1;33m\u001b[0m\u001b[0m\n\u001b[0m",
      "\u001b[1;31mFileNotFoundError\u001b[0m: [WinError 2] 系统找不到指定的文件。: '11' -> '222222'"
     ]
    }
   ],
   "source": [
    "\"\"\"\n",
    "os.rename(\"*\",\"*\")  重命名\n",
    "\"\"\"\n",
    "print(os.mkdir(r\"C:\\Users\\Administrator\\Desktop\\数学\\11\"))#绝对路径\n",
    "print(os.listdir(r\"C:\\Users\\Administrator\\Desktop\\数学\"))\n",
    "os.rename(\"11\",\"222222\")"
   ]
  },
  {
   "cell_type": "code",
   "execution_count": 56,
   "metadata": {},
   "outputs": [
    {
     "data": {
      "text/plain": [
       "0"
      ]
     },
     "execution_count": 56,
     "metadata": {},
     "output_type": "execute_result"
    }
   ],
   "source": [
    "\"\"\"\n",
    "os.system(\"*\")运行shell命令\n",
    "\"\"\"\n",
    "# 以下程序需要逐个执行\n",
    "os.system(\"notepad\")#记事本\n",
    "os.system(\"write\")  #写字板\n",
    "os.system(\"mspaint\")#画图\n",
    "os.system(\"shutdown -s -t 500\")#自动关机\n",
    "os.system(\"shutdown -a\")       #取消自动关机\n"
   ]
  },
  {
   "cell_type": "code",
   "execution_count": 58,
   "metadata": {},
   "outputs": [
    {
     "name": "stdout",
     "output_type": "stream",
     "text": [
      "C:\\Users\\Administrator\\Python学习笔记\\OS模块\n"
     ]
    }
   ],
   "source": [
    "\"\"\"\n",
    "os.path.abspath(\".\\OS模块\") 查看当前相对目录的绝对路径\n",
    "\"\"\"\n",
    "print(os.path.abspath(\".\\OS模块\"))"
   ]
  },
  {
   "cell_type": "code",
   "execution_count": 69,
   "metadata": {},
   "outputs": [
    {
     "name": "stdout",
     "output_type": "stream",
     "text": [
      "('C:\\\\Users\\\\Administrator\\\\Desktop\\\\数学\\\\.', 'www')\n",
      "('C:\\\\Users\\\\Administrator\\\\Desktop\\\\数学\\\\.\\\\www', '')\n"
     ]
    }
   ],
   "source": [
    "\"\"\"\n",
    "os.path.join(p1,p2)  拼接路径\n",
    "\"\"\"\n",
    "p1 = r\"C:\\Users\\Administrator\\Desktop\\数学\"\n",
    "p2 = \".\\www\"\n",
    "os.path.join(p1,p2)\n",
    "p3 = os.path.join(p1,p2)\n",
    "\n",
    "\"\"\"\n",
    "os.path.split(p1,p2)  拆分路径\n",
    "\"\"\"\n",
    "print(os.path.split(p3))\n",
    "\n",
    "\"\"\"\n",
    "获取扩展名\n",
    "\"\"\"\n",
    "print(os.path.splitext(p3))"
   ]
  },
  {
   "cell_type": "code",
   "execution_count": 72,
   "metadata": {},
   "outputs": [
    {
     "name": "stdout",
     "output_type": "stream",
     "text": [
      "True\n"
     ]
    }
   ],
   "source": [
    "\"\"\"\n",
    "os.path.isdir(\"*\")判断是否是目录\n",
    "\"\"\"\n",
    "p1 = r\"C:\\Users\\Administrator\\Desktop\\数学\"\n",
    "print(os.path.isdir(p1))"
   ]
  },
  {
   "cell_type": "code",
   "execution_count": 74,
   "metadata": {},
   "outputs": [
    {
     "name": "stdout",
     "output_type": "stream",
     "text": [
      "False\n"
     ]
    }
   ],
   "source": [
    "\"\"\"\n",
    "os.path.isfile(\"*\")判断文件是否存在\n",
    "\"\"\"\n",
    "p1 = r\"C:\\Users\\Administrator\\Desktop\\数学\"\n",
    "print(os.path.isfile(p1))"
   ]
  },
  {
   "cell_type": "code",
   "execution_count": 75,
   "metadata": {},
   "outputs": [
    {
     "name": "stdout",
     "output_type": "stream",
     "text": [
      "True\n"
     ]
    }
   ],
   "source": [
    "\"\"\"\n",
    "os.path.exists(\"*\")判断目录是否存在\n",
    "\"\"\"\n",
    "p1 = r\"C:\\Users\\Administrator\\Desktop\\数学\"\n",
    "print(os.path.exists(p1))"
   ]
  },
  {
   "cell_type": "code",
   "execution_count": 77,
   "metadata": {},
   "outputs": [
    {
     "name": "stdout",
     "output_type": "stream",
     "text": [
      "4096\n"
     ]
    }
   ],
   "source": [
    "\"\"\"\n",
    "os.path.getsize(\"*\")获取文件大小（字节）\n",
    "\"\"\"\n",
    "print(os.path.getsize(p1))"
   ]
  },
  {
   "cell_type": "code",
   "execution_count": 78,
   "metadata": {},
   "outputs": [
    {
     "name": "stdout",
     "output_type": "stream",
     "text": [
      "C:\\Users\\Administrator\\Desktop\n",
      "数学\n"
     ]
    }
   ],
   "source": [
    "\"\"\"\n",
    "文件的目录\n",
    "\"\"\"\n",
    "print(os.path.dirname(p1))\n",
    "print(os.path.basename(p1))"
   ]
  },
  {
   "cell_type": "code",
   "execution_count": null,
   "metadata": {},
   "outputs": [],
   "source": []
  }
 ],
 "metadata": {
  "kernelspec": {
   "display_name": "Python 3",
   "language": "python",
   "name": "python3"
  },
  "language_info": {
   "codemirror_mode": {
    "name": "ipython",
    "version": 3
   },
   "file_extension": ".py",
   "mimetype": "text/x-python",
   "name": "python",
   "nbconvert_exporter": "python",
   "pygments_lexer": "ipython3",
   "version": "3.7.0"
  }
 },
 "nbformat": 4,
 "nbformat_minor": 2
}
